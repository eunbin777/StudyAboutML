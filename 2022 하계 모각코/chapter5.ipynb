{
 "cells": [
  {
   "cell_type": "code",
   "execution_count": 1,
   "metadata": {},
   "outputs": [
    {
     "name": "stdout",
     "output_type": "stream",
     "text": [
      "\n"
     ]
    },
    {
     "name": "stderr",
     "output_type": "stream",
     "text": [
      "[WDM] - ====== WebDriver manager ======\n",
      "[WDM] - Current google-chrome version is 104.0.5112\n",
      "[WDM] - Get LATEST chromedriver version for 104.0.5112 google-chrome\n",
      "[WDM] - Driver [C:\\Users\\keb20\\.wdm\\drivers\\chromedriver\\win32\\104.0.5112.79\\chromedriver.exe] found in cache\n"
     ]
    }
   ],
   "source": [
    "from selenium import webdriver\n",
    "from selenium.webdriver.common.by import By\n",
    "from selenium.webdriver.chrome.service import Service\n",
    "from webdriver_manager.chrome import ChromeDriverManager\n",
    "driver = webdriver.Chrome(service=Service(ChromeDriverManager().install()))"
   ]
  },
  {
   "cell_type": "code",
   "execution_count": 2,
   "metadata": {},
   "outputs": [],
   "source": [
    "import time\n",
    "# 인스타그램 접속하기\n",
    "driver.get('https://www.instagram.com')\n",
    "time.sleep(2)"
   ]
  },
  {
   "cell_type": "code",
   "execution_count": 3,
   "metadata": {},
   "outputs": [],
   "source": [
    "email = '<인스타그램 계정>' ### 계정 정보 수정 필요\n",
    "input_id = driver.find_elements(By.CSS_SELECTOR,'input._2hvTZ.pexuQ.zyHYP')[0]\n",
    "input_id.clear()\n",
    "input_id.send_keys(email)\n",
    "\n",
    "password = '<인스타그램 비밀번호>' ### 비밀번호 정보 수정 필요\n",
    "input_pw = driver.find_elements(By.CSS_SELECTOR,'input._2hvTZ.pexuQ.zyHYP')[1]\n",
    "input_pw.clear()\n",
    "input_pw.send_keys(password)\n",
    "input_pw.submit()\n",
    "time.sleep(3)"
   ]
  },
  {
   "cell_type": "code",
   "execution_count": 4,
   "metadata": {},
   "outputs": [],
   "source": [
    "def insta_searching(word):\n",
    "    url = 'https://www.instagram.com/explore/tags/' + word\n",
    "    return url"
   ]
  },
  {
   "cell_type": "code",
   "execution_count": 5,
   "metadata": {},
   "outputs": [],
   "source": [
    "word = '제주도맛집'\n",
    "url = insta_searching(word)\n",
    "driver.get(url)\n",
    "time.sleep(3)"
   ]
  },
  {
   "cell_type": "code",
   "execution_count": 6,
   "metadata": {},
   "outputs": [],
   "source": [
    "def select_first(driver):\n",
    "    first = driver.find_element(By.CSS_SELECTOR, 'div._aagw')\n",
    "    first.click()\n",
    "    time.sleep(3)\n"
   ]
  },
  {
   "cell_type": "code",
   "execution_count": 7,
   "metadata": {},
   "outputs": [],
   "source": [
    "import re\n",
    "from bs4 import BeautifulSoup\n",
    "import unicodedata\n",
    "\n",
    "def get_content(driver):\n",
    "    # 현재 페이지의 html정보 가져오기\n",
    "    html = driver.page_source\n",
    "    soup = BeautifulSoup(html, 'lxml')\n",
    "\n",
    "    # 본문 내용 가져오기\n",
    "    try:\n",
    "        content = soup.select('div._a9zs > span')[0].text\n",
    "        content = unicodedata.normalize('NFC', content)\n",
    "    except:\n",
    "        content = ''\n",
    "\n",
    "    # 본문 내용에서 해시태그 가져오기(정규식 활용)\n",
    "    tags = re.findall(r'#[^\\s#,\\\\]+', content)\n",
    "\n",
    "    # 작성일자 정보 가져오기\n",
    "    date = soup.select('time._aaqe')[0]['datetime'][:10]\n",
    "\n",
    "    # 좋아요 수 가져오기\n",
    "    try:\n",
    "        like = soup.select('section._aat4 > div > div > div > div > span')[0].text\n",
    "    except:\n",
    "        like = 0\n",
    "\n",
    "    # 위치 정보 가져오기\n",
    "    try:\n",
    "        place = soup.select('div._aaqm > div > a')[0].text\n",
    "        place = unicodedata.normalize('NFC', place)\n",
    "    except:\n",
    "        place = ''\n",
    "\n",
    "    # 수집한 정보 저장하기\n",
    "    data = [content, date, like, place, tags]\n",
    "    return data\n"
   ]
  },
  {
   "cell_type": "code",
   "execution_count": 11,
   "metadata": {},
   "outputs": [],
   "source": [
    "def move_next(driver):\n",
    "    right = driver.find_element(By.CSS_SELECTOR, 'div._aaqg > button')\n",
    "    right.click()\n",
    "    time.sleep(3)"
   ]
  },
  {
   "cell_type": "code",
   "execution_count": 14,
   "metadata": {},
   "outputs": [
    {
     "name": "stdout",
     "output_type": "stream",
     "text": [
      "[['아이돌 콘서트다. 인기와 명성은 물론이고 그에 맞게 실력도 걸출하다. 평일에도 재료소진으로 종종 빠른 마감을 한다는 제주도의 인기쟁이.-🌊 제주 제주시 #넉둥베기 🌊-압도적인 사이즈의 뼈와 푹끓인 무와 뜨끈한 국물을 맛볼 수 있는 제주공항 근처 맛집의 상징과도 같은 곳이에요. 웨이팅이 굉장히 길죠, 평일에도 재료소진때문에 조기마감하기도 하니까요. 글 하단부에 웨이팅 꿀팁도 적어놓았으니 오늘 글은 끝까지 읽어보세요!-#접짝뼈국고기로 만든 솜사탕이에요. 톡 하고 손대면 사르르 녹아 떨어지는 부드러운 살들. 돼지 앞다리와 몸이 만나는 사이 뼈를 접짝뼈라고 합니다. 약간 맑은 감자탕이라고 생각하시면 되구요. 매운탕과 상충되는 지리 처럼 얼큰칼칼 감자탕의 대척점의 포지션이랄까!-#산적 기대없이 주문했다가 한입하고 눈물흘렸습니다. 사실 상 넉둥베기의 제일 맛있는 메뉴에요. 별거없어보이는 항정살구이인데 뭐이리 맛있는 지 모르겠어요. 같이 곁들여먹는 밴댕이고추지가 진짜 궁합이 좋기도 하고 애초에 산적도 맛있고.-오픈런도 모잘라요. 오픈하기 30분전에 웨이팅하고 있어야 바로 먹을 수 있습니다. 그 이후에는 웨이팅행렬. 먹선생도 약 한시간 기다렸나. 술이 없기도 하고 30분 안에 식사하는걸 권유하는 분위기라 그나마 회전율이 빨라서 다행이에요.-총평엎드려뻗쳐도 안했는데 고기로 만든 몽둥이에 호되게 혼났습니다. 공항근처 첫끼 혹은 마지막날 아침일찍 방문하시는 것 추천드려요!-📍 제주 제주시 서문로 9-1 1층⏰09:00~14:00(매주 수요일 정기휴무)-⬇️먹선생의 제주맛집교과서리스트⬇️#먹선생제주도존\\xa0-\\xa0#먹선생제주시존-#제주시맛집 #용담동 #용담동맛집 #제주공항 #제주공항근처맛집 #제주공항맛집 #국밥맛집 #접짝뼈국맛집 #산적구이맛집', '2022-08-19', 0, '제주도 제주', ['#넉둥베기', '#접짝뼈국고기로', '#산적', '#먹선생제주도존', '#먹선생제주시존-', '#제주시맛집', '#용담동', '#용담동맛집', '#제주공항', '#제주공항근처맛집', '#제주공항맛집', '#국밥맛집', '#접짝뼈국맛집', '#산적구이맛집']], ['제주도에 위치한 말고기집,제주도에서 먹을수 있는 특별한 말고기! 생소하신분들은 여기서 경험해보세요,, 저는 새로운 음식에 대한 편견이 있는편인데 말고기도 먹기전엔 조금 무서웠는데 한입먹고 그 생각이 싹 사라졌어요ㅠㅠ 초밥과 소세지로 만드셔서 접근방법도 쉬워요!말고기 초밥은 말고기와 밥, 김부각 그 위로 올라가는 소스가 아주 꿀맛이에요! 김부각이 감칠맛을 확 올려주는 치트키♥️ 불초밥은 불향이 대박이고 육회초밥은 정말 촉촉하니 입에서 녹아요! 소세지도 꼭 드세요,, 소세지 또한 존맛입니당ㅎㅎ 테이크아웃 전문 매장이어서 앞에 바다보면서 먹기 좋아요.▫️제주도 #말고기연구소▫️제주 제주시 북성로 43 1층▫️10:00~19:00#푸돌핀_제주#제주도여행 #제주도맛집 #제주맛집 #제주공항근처맛집 #제주핫플 #제주가볼만한곳 #제주시맛집 #노형맛집 #노형동맛집 #제주공항맛집 #제주공항주변맛집 #말고기 #말고기맛집 #foodporn', '2022-08-18', 0, '', ['#말고기연구소▫️제주', '#푸돌핀_제주', '#제주도여행', '#제주도맛집', '#제주맛집', '#제주공항근처맛집', '#제주핫플', '#제주가볼만한곳', '#제주시맛집', '#노형맛집', '#노형동맛집', '#제주공항맛집', '#제주공항주변맛집', '#말고기', '#말고기맛집', '#foodporn']]]\n"
     ]
    }
   ],
   "source": [
    "select_first(driver)\n",
    "\n",
    "# 비어있는 변수(results)만들기\n",
    "results = [ ]\n",
    "\n",
    "\n",
    "# 여러 게시물 수집하기\n",
    "target = 500    # 크롤링할 게시글 수\n",
    "for i in range(target):\n",
    "    # 게시글 수집에 오류 발생시(네트워크 문제 등의 이유로)  2초 대기 후, 다음 게시글로 넘어가도록 try, except 구문 활용\n",
    "    try:\n",
    "        data = get_content(driver)    # 게시글 정보 가져오기\n",
    "        results.append(data)\n",
    "        move_next(driver)\n",
    "    except:\n",
    "        time.sleep(2)\n",
    "        move_next(driver)\n",
    "\n",
    "print(results[:2])"
   ]
  },
  {
   "cell_type": "code",
   "execution_count": 15,
   "metadata": {},
   "outputs": [],
   "source": [
    "import pandas as pd\n",
    "\n",
    "results_df = pd.DataFrame(results)\n",
    "results_df.columns = ['content', 'data', 'like', 'place', 'tags']\n",
    "results_df.to_excel('../2022 하계 모각코 자료/5_Jeju_Hotplace/files/1_crawling_jejudoMatJip.xlsx', index=False)"
   ]
  }
 ],
 "metadata": {
  "kernelspec": {
   "display_name": "Python 3.9.7 ('base')",
   "language": "python",
   "name": "python3"
  },
  "language_info": {
   "codemirror_mode": {
    "name": "ipython",
    "version": 3
   },
   "file_extension": ".py",
   "mimetype": "text/x-python",
   "name": "python",
   "nbconvert_exporter": "python",
   "pygments_lexer": "ipython3",
   "version": "3.9.7"
  },
  "orig_nbformat": 4,
  "vscode": {
   "interpreter": {
    "hash": "1ddd09a61b2c7e17c2a62d168de822f4c67e18302d8919811a53cdcb291e5f9a"
   }
  }
 },
 "nbformat": 4,
 "nbformat_minor": 2
}
