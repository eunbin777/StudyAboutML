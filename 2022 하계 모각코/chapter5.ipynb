{
 "cells": [
  {
   "cell_type": "code",
   "execution_count": 45,
   "metadata": {},
   "outputs": [
    {
     "name": "stdout",
     "output_type": "stream",
     "text": [
      "\n"
     ]
    },
    {
     "name": "stderr",
     "output_type": "stream",
     "text": [
      "[WDM] - ====== WebDriver manager ======\n",
      "[WDM] - Current google-chrome version is 104.0.5112\n",
      "[WDM] - Get LATEST chromedriver version for 104.0.5112 google-chrome\n",
      "[WDM] - About to download new driver from https://chromedriver.storage.googleapis.com/104.0.5112.79/chromedriver_win32.zip\n",
      "[WDM] - Driver has been saved in cache [C:\\Users\\keb20\\.wdm\\drivers\\chromedriver\\win32\\104.0.5112.79]\n"
     ]
    }
   ],
   "source": [
    "from selenium import webdriver\n",
    "from selenium.webdriver.common.by import By\n",
    "from selenium.webdriver.chrome.service import Service\n",
    "from webdriver_manager.chrome import ChromeDriverManager\n",
    "driver = webdriver.Chrome(service=Service(ChromeDriverManager().install()))"
   ]
  },
  {
   "cell_type": "code",
   "execution_count": 46,
   "metadata": {},
   "outputs": [],
   "source": [
    "import time\n",
    "# 인스타그램 접속하기\n",
    "driver.get('https://www.instagram.com')\n",
    "time.sleep(2)"
   ]
  },
  {
   "cell_type": "code",
   "execution_count": 47,
   "metadata": {},
   "outputs": [],
   "source": [
    "email = '<인스타그램 계정>' ### 계정 정보 수정 필요\n",
    "input_id = driver.find_elements(By.CSS_SELECTOR,'input._2hvTZ.pexuQ.zyHYP')[0]\n",
    "input_id.clear()\n",
    "input_id.send_keys(email)\n",
    "\n",
    "password = '<인스타그램 비밀번호>' ### 비밀번호 정보 수정 필요\n",
    "input_pw = driver.find_elements(By.CSS_SELECTOR,'input._2hvTZ.pexuQ.zyHYP')[1]\n",
    "input_pw.clear()\n",
    "input_pw.send_keys(password)\n",
    "input_pw.submit()\n",
    "time.sleep(3)"
   ]
  },
  {
   "cell_type": "code",
   "execution_count": 48,
   "metadata": {},
   "outputs": [],
   "source": [
    "def insta_searching(word):\n",
    "    url = 'https://www.instagram.com/explore/tags/' + word\n",
    "    return url"
   ]
  },
  {
   "cell_type": "code",
   "execution_count": 49,
   "metadata": {},
   "outputs": [],
   "source": [
    "word = '제주관광'\n",
    "url = insta_searching(word)\n",
    "driver.get(url)\n",
    "time.sleep(3)"
   ]
  },
  {
   "cell_type": "code",
   "execution_count": 50,
   "metadata": {},
   "outputs": [],
   "source": [
    "def select_first(driver):\n",
    "    first = driver.find_element(By.CSS_SELECTOR, 'div._aagw')\n",
    "    first.click()\n",
    "    time.sleep(3)\n"
   ]
  },
  {
   "cell_type": "code",
   "execution_count": 51,
   "metadata": {},
   "outputs": [],
   "source": [
    "import re\n",
    "from bs4 import BeautifulSoup\n",
    "import unicodedata\n",
    "\n",
    "def get_content(driver):\n",
    "    # 현재 페이지의 html정보 가져오기\n",
    "    html = driver.page_source\n",
    "    soup = BeautifulSoup(html, 'lxml')\n",
    "\n",
    "    # 본문 내용 가져오기\n",
    "    try:\n",
    "        content = soup.select('div._a9zs > span')[0].text\n",
    "        content = unicodedata.normalize('NFC', content)\n",
    "    except:\n",
    "        content = ''\n",
    "\n",
    "    # 본문 내용에서 해시태그 가져오기(정규식 활용)\n",
    "    tags = re.findall(r'#[^\\s#,\\\\]+', content)\n",
    "\n",
    "    # 작성일자 정보 가져오기\n",
    "    date = soup.select('time._aaqe')[0]['datetime'][:10]\n",
    "\n",
    "    # 좋아요 수 가져오기\n",
    "    try:\n",
    "        like = soup.select('div._aada > span')[0].text\n",
    "    except:\n",
    "        like = 0\n",
    "\n",
    "    # 위치 정보 가져오기\n",
    "    try:\n",
    "        place = soup.select('div._aaqm > div > a')[0].text\n",
    "        place = unicodedata.normalize('NFC', place)\n",
    "    except:\n",
    "        place = ''\n",
    "\n",
    "    # 수집한 정보 저장하기\n",
    "    data = [content, date, like, place, tags]\n",
    "    return data\n"
   ]
  },
  {
   "cell_type": "code",
   "execution_count": 52,
   "metadata": {},
   "outputs": [],
   "source": [
    "def move_next(driver):\n",
    "    right = driver.find_element(By.CSS_SELECTOR, 'div._aaqg > button')\n",
    "    right.click()\n",
    "    time.sleep(3)"
   ]
  },
  {
   "cell_type": "code",
   "execution_count": 55,
   "metadata": {},
   "outputs": [
    {
     "name": "stdout",
     "output_type": "stream",
     "text": [
      "[['✨ 제주지역 크리에이터 모집✨💳지원금 받고 메타버스 플랫폼 및 서비스 개발하자!🔍크리에이터는 어떤 활동을 할까요?1️⃣제주의 대표 유네스코 세계자연유산인세계자연유산마을(거문오름용암동굴계),세계 지질공원(우도)의 지역특화 메타버스 공간 구축을 통해지역 경제 활성화를 이끌 콘텐츠 및 개별서비스 개발2️⃣제주 관광, 역사, 문화 등 세계자연유산마을,우도의 메타버스 공간 구축에 방향성 및 활성화 방안 마련접수기간 내 관심 있는 분들의 적극적인 신청 부탁드립니다~ ♥️✔운영기간: 2022년 9월 ~11월✔참가자격: 제주관광, 역사,문화 등 아이디어를 가진 크리에이터✔지원금액: 2백만 원 내외/팀(개인)✔지원내용: 크리에이터 활동수당, 촬영장비 등 장비 임차비(별도지원)✔접수기간: 2022년 8월 30일 (화) ~ 9월 6일✔접수서류: 참가신청서 1부, 운영계획서 1부✔접수방법: 이메일 접수 hcm6945@jejuiucc.or.kr✔문의처: 산악융합팀 허철민 팀장 070-4223-1473#제주산악융합원 #제주지원사업 #메타버스 #크리에이터 #제주 #일로와_정보 #제주테크노파크 #세계자연유산 #유네스코 #제주메타버스 #제주관광 #지역활성화 #우도 #거문오름 #세계지질공원', '2022-08-25', '121', '', ['#제주산악융합원', '#제주지원사업', '#메타버스', '#크리에이터', '#제주', '#일로와_정보', '#제주테크노파크', '#세계자연유산', '#유네스코', '#제주메타버스', '#제주관광', '#지역활성화', '#우도', '#거문오름', '#세계지질공원']], [\"혼자 걸어도 외롭지 않은 제주도 신비의 숲 🌲사려니숲에 들어서자 사람들은 말수를 줄였습니다. 그 대신 코너마다 숨을 깊게 들이마시고, 높은 삼나무의 끝을 눈으로 좇다가, 발 아래 느껴지는 화산송이의 감촉을 느꼈죠. 숲 어디에도 어떻게 거닐라는 지침이 없지만 사람들은 자연을 즐기는 법을 마치 본성처럼 아는 것 같았어요.마침 안개가 자욱해 숲엔 영험한 기운이 맴돌았어요. 신비하고 포근한 숲에 깊이 들어갈수록 점점 더 혼자가 되어 사색에 잠기게 되었습니다. 걷고 걸어 '월든 삼거리'까지 이르니 세상엔 자연과 나, 둘만이 존재하고 있었습니다. 그러고 보니 '월든'은 헨리 데이비드 소로가 파묻혀 은둔했던 숲의 이름이군요. 잠깐의 산책이지만 소로가 자연 속에서 즐긴 기분 좋은 고독이 어떤 것인지 느낄 수 있었습니다. 혼자여도 외롭지 않고 생경했던 자연의 모든 것이 친구처럼 친근해질 거예요. 입구로 돌아가는 길에 먼 곳의 나무 뒤에서 노루 두 마리가 튀어나왔지만 놀라는 사람은 아무도 없었습니다. 1️⃣ 사려니숲에 간다면 '삼나무 아래에 서 보세요'하늘을 향해 쭉쭉 뻗은 삼나무 중 한 곳을 골라 가까이 가 보세요. '푸르고 높다'에 머물던 숲 전체에 대한 감상이 나무 하나로 옮겨 옮니다. 특유의 향기가 맴돌고 수피는 물기를 머금어 촉촉했습니다. 멀리서는 느끼기 힘든 자연의 감촉과 기운. 숨마저 한결 더 시원해집니다. 2️⃣ 사려니숲에 간다면 '송이길을 걸어 보세요'흙이 붉은 빛을 띄는 구간이 있습니다. 화산 활동으로 고열에 구워진 점토인데 화산송이라고 부릅니다. 나무로 잘 짜여진 데크로드에서 내려와 화산송이를 밟자 입자가 큰 흙은 밟자마자 카스테라처럼 으깨지고 어떤 곳은 자갈처럼 자그락자르락 소리가 들립니다. 3️⃣ 사려니숲에 간다면 '숲길 끝까지 가보세요'사려니숲은 생각보다 큽니다. 길이 난 곳 끝까지 가면 사려니오름이 나오는데 입구부터 2시간은 걸어야 하죠. 생태 보존 지역이라 입장 가능한 기간이 한정되어 있지만, 이 기간에 방문했다면 시간을 들여 끝까지 올라가 보세요. 다채롭게 변하는 야생의 정경을 감상할 수 있습니다. 🦌 제주 사려니숲길• 제주시 조천읍 교래리 산 137-1• 오전 9시에 열고 오후 5시에 닫아요. (월, 화 휴무)• ‘제주 숨은 비경 31곳’ 중 하나• 유네스코가 지정한 ‘제주 생물권보존지역'👉 일상에서 벗어나 휴식이 필요할 때,@blimp.space 팔로우하고 매일 새로운 여행지를 받아보세요.Photograph | @imaaagine.hj @1am715kg @na_mericano @ariwa.moment @addni__ @yeondaeki @a_ra___#사려니숲 #제주도 #제주도여행 #제주도추천 #제주여행 #제주관광지 #제주관광 #제주가볼만한곳 #여행스타그램 #블림프_제주\", '2022-03-11', '2,657', '사려니숲길', ['#사려니숲', '#제주도', '#제주도여행', '#제주도추천', '#제주여행', '#제주관광지', '#제주관광', '#제주가볼만한곳', '#여행스타그램', '#블림프_제주']]]\n"
     ]
    }
   ],
   "source": [
    "select_first(driver)\n",
    "\n",
    "# 비어있는 변수(results)만들기\n",
    "results = [ ]\n",
    "\n",
    "\n",
    "# 여러 게시물 수집하기\n",
    "target = 500    # 크롤링할 게시글 수\n",
    "for i in range(target):\n",
    "    # 게시글 수집에 오류 발생시(네트워크 문제 등의 이유로)  2초 대기 후, 다음 게시글로 넘어가도록 try, except 구문 활용\n",
    "    try:\n",
    "        data = get_content(driver)    # 게시글 정보 가져오기\n",
    "        results.append(data)\n",
    "        move_next(driver)\n",
    "    except:\n",
    "        time.sleep(2)\n",
    "        move_next(driver)\n",
    "\n",
    "print(results[:2])"
   ]
  },
  {
   "cell_type": "code",
   "execution_count": 56,
   "metadata": {},
   "outputs": [],
   "source": [
    "import pandas as pd\n",
    "\n",
    "results_df = pd.DataFrame(results)\n",
    "results_df.columns = ['content', 'data', 'like', 'place', 'tags']\n",
    "results_df.to_excel('../2022 하계 모각코 자료/5_Jeju_Hotplace/files/1_crawling_jejuGwanGwang.xlsx', index=False)"
   ]
  }
 ],
 "metadata": {
  "kernelspec": {
   "display_name": "Python 3.9.7 ('base')",
   "language": "python",
   "name": "python3"
  },
  "language_info": {
   "codemirror_mode": {
    "name": "ipython",
    "version": 3
   },
   "file_extension": ".py",
   "mimetype": "text/x-python",
   "name": "python",
   "nbconvert_exporter": "python",
   "pygments_lexer": "ipython3",
   "version": "3.9.7"
  },
  "orig_nbformat": 4,
  "vscode": {
   "interpreter": {
    "hash": "1ddd09a61b2c7e17c2a62d168de822f4c67e18302d8919811a53cdcb291e5f9a"
   }
  }
 },
 "nbformat": 4,
 "nbformat_minor": 2
}
