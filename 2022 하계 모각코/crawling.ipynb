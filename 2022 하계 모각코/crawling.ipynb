{
 "cells": [
  {
   "cell_type": "code",
   "execution_count": 1,
   "id": "3cd97a27",
   "metadata": {},
   "outputs": [
    {
     "name": "stdout",
     "output_type": "stream",
     "text": [
      "\n"
     ]
    },
    {
     "name": "stderr",
     "output_type": "stream",
     "text": [
      "[WDM] - ====== WebDriver manager ======\n",
      "[WDM] - Current google-chrome version is 103.0.5060\n",
      "[WDM] - Get LATEST chromedriver version for 103.0.5060 google-chrome\n",
      "[WDM] - About to download new driver from https://chromedriver.storage.googleapis.com/103.0.5060.53/chromedriver_win32.zip\n",
      "[WDM] - Driver has been saved in cache [C:\\Users\\keb20\\.wdm\\drivers\\chromedriver\\win32\\103.0.5060.53]\n"
     ]
    }
   ],
   "source": [
    "from selenium import webdriver\n",
    "from selenium.webdriver.common.by import By\n",
    "from selenium.webdriver.chrome.service import Service\n",
    "from webdriver_manager.chrome import ChromeDriverManager\n",
    "driver = webdriver.Chrome(service=Service(ChromeDriverManager().install()))"
   ]
  },
  {
   "cell_type": "code",
   "execution_count": 2,
   "id": "2f039ade",
   "metadata": {},
   "outputs": [],
   "source": [
    "url = 'https://www.naver.com/'\n",
    "driver.get(url)"
   ]
  },
  {
   "cell_type": "code",
   "execution_count": 3,
   "id": "c8a78d14",
   "metadata": {},
   "outputs": [],
   "source": [
    "html = driver.page_source"
   ]
  },
  {
   "cell_type": "code",
   "execution_count": 5,
   "id": "6b7f22dc",
   "metadata": {},
   "outputs": [],
   "source": [
    "url = 'https://www.melon.com/chart/'\n",
    "driver.get(url)"
   ]
  },
  {
   "cell_type": "code",
   "execution_count": 6,
   "id": "9399a14f",
   "metadata": {},
   "outputs": [],
   "source": [
    "html = driver.page_source"
   ]
  },
  {
   "cell_type": "code",
   "execution_count": 7,
   "id": "f4c9b9bc",
   "metadata": {},
   "outputs": [],
   "source": [
    "html = '''\n",
    "<html>\n",
    "    <head></head>\n",
    "    <body>\n",
    "        <h1>우리동네시장</h1>\n",
    "            <div class = 'sale'>\n",
    "                <p id='fruits1' class='fruits'>\n",
    "                    <span class= 'name'>바나나</span>\n",
    "                    <span class= 'price'>3000원</span>\n",
    "                    <span class= 'inventory'>500개</span>\n",
    "                    <span class= 'store'>가나다상회</span>\n",
    "                    <a href='http://bit.ly/forPlaywithData'>홈페이지</a>\n",
    "                </p>\n",
    "            </div>\n",
    "            <div class='prepare'>\n",
    "                <p id='fruits2' class='fruits'>\n",
    "                    <span class= 'name'>파인애플</span>\n",
    "                </p>\n",
    "            </div>\n",
    "    </body>\n",
    "</html>\n",
    "'''"
   ]
  },
  {
   "cell_type": "code",
   "execution_count": 8,
   "id": "3c906e15",
   "metadata": {},
   "outputs": [],
   "source": [
    "from bs4 import BeautifulSoup #대문자 입력 주의\n",
    "\n",
    "soup = BeautifulSoup(html, 'html.parser')"
   ]
  },
  {
   "cell_type": "code",
   "execution_count": 9,
   "id": "d45bfcce",
   "metadata": {},
   "outputs": [
    {
     "name": "stdout",
     "output_type": "stream",
     "text": [
      "[<span class=\"name\">바나나</span>, <span class=\"name\">파인애플</span>]\n"
     ]
    }
   ],
   "source": [
    "tags_name = soup.select('span.name')\n",
    "print(tags_name)"
   ]
  },
  {
   "cell_type": "code",
   "execution_count": 10,
   "id": "439bd1cd",
   "metadata": {},
   "outputs": [
    {
     "name": "stdout",
     "output_type": "stream",
     "text": [
      "[<span class=\"name\">바나나</span>]\n"
     ]
    }
   ],
   "source": [
    "tags_banana1 = soup.select('#fruits1 > span.name')\n",
    "print(tags_banana1)"
   ]
  },
  {
   "cell_type": "code",
   "execution_count": 11,
   "id": "8c11f85e",
   "metadata": {},
   "outputs": [
    {
     "name": "stdout",
     "output_type": "stream",
     "text": [
      "<span class=\"name\">바나나</span>\n"
     ]
    }
   ],
   "source": [
    "tags = soup.select('span.name')\n",
    "tag_1 = tags[0] # 인덱스 번호로 하나의 태그 지정\n",
    "print(tag_1)"
   ]
  },
  {
   "cell_type": "code",
   "execution_count": 12,
   "id": "e6d87104",
   "metadata": {},
   "outputs": [
    {
     "name": "stdout",
     "output_type": "stream",
     "text": [
      "<span class=\"name\">바나나</span>\n",
      "<span class=\"name\">파인애플</span>\n"
     ]
    }
   ],
   "source": [
    "tags = soup.select('span.name')\n",
    "for tag in tags: # 반복문으로 태그 그룹에서 각 태그를 선택해 활용\n",
    "    print(tag)"
   ]
  },
  {
   "cell_type": "code",
   "execution_count": 13,
   "id": "a98ae7ef",
   "metadata": {},
   "outputs": [
    {
     "name": "stdout",
     "output_type": "stream",
     "text": [
      "홈페이지\n",
      "http://bit.ly/forPlaywithData\n"
     ]
    }
   ],
   "source": [
    "tags = soup.select('a')\n",
    "tag = tags[0]\n",
    "content = tag.text\n",
    "print(content)\n",
    "link = tag['href']\n",
    "print(link)"
   ]
  },
  {
   "cell_type": "code",
   "execution_count": 14,
   "id": "5345c31a",
   "metadata": {},
   "outputs": [],
   "source": [
    "url = 'https://www.melon.com/chart/'\n",
    "driver.get(url)"
   ]
  },
  {
   "cell_type": "code",
   "execution_count": 15,
   "id": "079c329b",
   "metadata": {},
   "outputs": [],
   "source": [
    "from bs4 import BeautifulSoup\n",
    "html = driver.page_source\n",
    "soup = BeautifulSoup(html, 'html.parser')"
   ]
  },
  {
   "cell_type": "code",
   "execution_count": 16,
   "id": "2cf886bb",
   "metadata": {},
   "outputs": [
    {
     "name": "stdout",
     "output_type": "stream",
     "text": [
      "100\n",
      "<tr class=\"lst50\" data-song-no=\"35383397\" id=\"lst50\">\n",
      "<td><div class=\"wrap t_right\"><input class=\"input_check\" name=\"input_check\" title=\"그때 그 순간 그대로 (그그그) 곡 선택\" type=\"checkbox\" value=\"35383397\"/></div></td>\n",
      "<td><div class=\"wrap t_center\"><span class=\"rank\">1</span><span class=\"none\">위</span></div></td>\n",
      "<!-- 차트순위 추가 -->\n",
      "<td><div class=\"wrap\">\n",
      "<span class=\"rank_wrap\" title=\"순위 동일\">\n",
      "<span class=\"bullet_icons rank_static\"><span class=\"none\">순위 동일</span></span>\n",
      "<span class=\"none\">0</span>\n",
      "</span>\n",
      "</div></td>\n",
      "<td><div class=\"wrap\">\n",
      "<a class=\"image_typeAll\" href=\"javascript:melon.link.goAlbumDetail('11000171');\" title=\"WSG워너비 1집\">\n",
      "<img alt=\"WSG워너비 1집 - 페이지 이동\" height=\"60\" onerror=\"WEBPOCIMG.defaultAlbumImg(this);\" src=\"https://cdnimg.melon.co.kr/cm2/album/images/110/00/171/11000171_20220708163659_500.jpg/melon/resize/120/quality/80/optimize\" width=\"60\"/>\n",
      "<span class=\"bg_album_frame\"></span>\n",
      "</a>\n",
      "</div></td>\n",
      "<td><div class=\"wrap\">\n",
      "<a class=\"btn button_icons type03 song_info\" href=\"javascript:melon.link.goSongDetail('35383397');\" title=\"그때 그 순간 그대로 (그그그) 곡정보\"><span class=\"none\">곡정보</span></a>\n",
      "</div></td>\n",
      "<td><div class=\"wrap\">\n",
      "<div class=\"wrap_song_info\">\n",
      "<div class=\"ellipsis rank01\"><span>\n",
      "<a href=\"javascript:melon.play.playSong('1000002721',35383397);\" title=\"그때 그 순간 그대로 (그그그) 재생\">그때 그 순간 그대로 (그그그)</a>\n",
      "</span></div><br/>\n",
      "<div class=\"ellipsis rank02\">\n",
      "<a href=\"javascript:melon.link.goArtistDetail('3110856');\" title=\"WSG워너비 (가야G) - 페이지 이동\">WSG워너비 (가야G)</a><span class=\"checkEllipsis\" style=\"display: none;\"><a href=\"javascript:melon.link.goArtistDetail('3110856');\" title=\"WSG워너비 (가야G) - 페이지 이동\">WSG워너비 (가야G)</a></span>\n",
      "</div>\n",
      "</div>\n",
      "</div></td>\n",
      "<td><div class=\"wrap\">\n",
      "<div class=\"wrap_song_info\">\n",
      "<div class=\"ellipsis rank03\">\n",
      "<a href=\"javascript:melon.link.goAlbumDetail('11000171');\" title=\"WSG워너비 1집 - 페이지 이동\">WSG워너비 1집</a>\n",
      "</div>\n",
      "</div>\n",
      "</div></td>\n",
      "<td><div class=\"wrap\">\n",
      "<button class=\"button_etc like\" data-song-menuid=\"1000002721\" data-song-no=\"35383397\" title=\"그때 그 순간 그대로 (그그그) 좋아요\" type=\"button\"><span class=\"odd_span\">좋아요</span>\n",
      "<span class=\"cnt\">\n",
      "<span class=\"none\">총건수</span>\n",
      "38,023</span></button>\n",
      "</div></td>\n",
      "<td><div class=\"wrap t_center\">\n",
      "<button class=\"button_icons play\" onclick=\"melon.play.playSong('1000002721',35383397);\" title=\"듣기\" type=\"button\"><span class=\"none\">듣기</span></button>\n",
      "</div></td>\n",
      "<td><div class=\"wrap t_center\">\n",
      "<button class=\"button_icons scrap\" onclick=\"melon.play.addPlayList('35383397');\" title=\"담기\" type=\"button\"><span class=\"none\">담기</span></button>\n",
      "</div></td>\n",
      "<td><div class=\"wrap t_center\">\n",
      "<button class=\"button_icons download\" onclick=\"melon.buy.goBuyProduct('frm', '35383397', '3C0001', '','0', '1000002721');\" title=\"다운로드\" type=\"button\"><span class=\"none\">다운로드</span></button>\n",
      "</div></td>\n",
      "<td><div class=\"wrap t_center\">\n",
      "<button class=\"button_icons video\" onclick=\"melon.link.goMvDetail('1000002721', '35383397','song');\" title=\"뮤직비디오\" type=\"button\"><span class=\"none\">뮤직비디오</span></button>\n",
      "</div></td>\n",
      "</tr>\n"
     ]
    }
   ],
   "source": [
    "songs = soup.select('table > tbody > tr')\n",
    "print(len(songs))\n",
    "print(songs[0])"
   ]
  },
  {
   "cell_type": "code",
   "execution_count": 17,
   "id": "68d9f569",
   "metadata": {},
   "outputs": [
    {
     "data": {
      "text/plain": [
       "6"
      ]
     },
     "execution_count": 17,
     "metadata": {},
     "output_type": "execute_result"
    }
   ],
   "source": [
    "song = songs[0]\n",
    "title = song.select('a')\n",
    "len(title)"
   ]
  },
  {
   "cell_type": "code",
   "execution_count": 18,
   "id": "9ea798f7",
   "metadata": {},
   "outputs": [
    {
     "data": {
      "text/plain": [
       "2"
      ]
     },
     "execution_count": 18,
     "metadata": {},
     "output_type": "execute_result"
    }
   ],
   "source": [
    "title = song.select('span > a')\n",
    "len(title)"
   ]
  },
  {
   "cell_type": "code",
   "execution_count": 19,
   "id": "302440c5",
   "metadata": {},
   "outputs": [
    {
     "data": {
      "text/plain": [
       "1"
      ]
     },
     "execution_count": 19,
     "metadata": {},
     "output_type": "execute_result"
    }
   ],
   "source": [
    "title = song.select('div.ellipsis.rank01 > span > a')\n",
    "len(title)"
   ]
  },
  {
   "cell_type": "code",
   "execution_count": 20,
   "id": "10219db9",
   "metadata": {},
   "outputs": [
    {
     "data": {
      "text/plain": [
       "'그때 그 순간 그대로 (그그그)'"
      ]
     },
     "execution_count": 20,
     "metadata": {},
     "output_type": "execute_result"
    }
   ],
   "source": [
    "title = song.select('div.ellipsis.rank01 > span > a')[0].text\n",
    "title"
   ]
  },
  {
   "cell_type": "code",
   "execution_count": 21,
   "id": "1f21dece",
   "metadata": {},
   "outputs": [
    {
     "data": {
      "text/plain": [
       "1"
      ]
     },
     "execution_count": 21,
     "metadata": {},
     "output_type": "execute_result"
    }
   ],
   "source": [
    "title = song.select('div.ellipsis.rank01 > span > a')[0].text\n",
    "title\n",
    "len(singer)"
   ]
  },
  {
   "cell_type": "code",
   "execution_count": 22,
   "id": "1b6d8b99",
   "metadata": {},
   "outputs": [
    {
     "data": {
      "text/plain": [
       "'WSG워너비 (가야G)'"
      ]
     },
     "execution_count": 22,
     "metadata": {},
     "output_type": "execute_result"
    }
   ],
   "source": [
    "singer = song.select('div.ellipsis.rank02 > a')[0].text\n",
    "singer"
   ]
  },
  {
   "cell_type": "code",
   "execution_count": 23,
   "id": "81c6c6ec",
   "metadata": {},
   "outputs": [
    {
     "name": "stdout",
     "output_type": "stream",
     "text": [
      "그때 그 순간 그대로 (그그그) | WSG워너비 (가야G)\n",
      "보고싶었어 | WSG워너비 (4FIRE)\n",
      "LOVE DIVE | IVE (아이브)\n",
      "POP! | 나연 (TWICE)\n",
      "That That (prod. & feat. SUGA of BTS) | 싸이 (PSY)\n",
      "TOMBOY | (여자)아이들\n",
      "Clink Clink (클링 클링) | WSG워너비 (오아시소)\n",
      "정이라고 하자 (Feat. 10CM) | BIG Naughty (서동현)\n",
      "사랑인가 봐 | 멜로망스\n",
      "사랑은 늘 도망가 | 임영웅\n",
      "우리들의 블루스 | 임영웅\n",
      "나의 X에게 | 경서\n",
      "다시 만날 수 있을까 | 임영웅\n",
      "봄여름가을겨울 (Still Life) | BIGBANG (빅뱅)\n",
      "LOVE me | BE'O (비오)\n",
      "Girls | aespa\n",
      "Yet To Come | 방탄소년단\n",
      "무지개 | 임영웅\n",
      "FEARLESS | LE SSERAFIM (르세라핌)\n",
      "취중고백 | 김민석 (멜로망스)\n",
      "이제 나만 믿어요 | 임영웅\n",
      "내가 아니라도 | 주호\n",
      "Left and Right (Feat. Jung Kook of BTS) | Charlie Puth\n",
      "아버지 | 임영웅\n",
      "Feel My Rhythm | Red Velvet (레드벨벳)\n",
      "그라데이션 | 10CM\n",
      "손이 참 곱던 그대 | 임영웅\n",
      "신호등 | 이무진\n",
      "A bientot | 임영웅\n",
      "사랑해 진짜 | 임영웅\n",
      "ELEVEN | IVE (아이브)\n",
      "아무래도 난 | 주시크 (Joosiq)\n",
      "인생찬가 | 임영웅\n",
      "Dynamite | 방탄소년단\n",
      "연애편지 | 임영웅\n",
      "다정히 내 이름을 부르면 | 경서예지\n",
      "사랑역 | 임영웅\n",
      "보금자리 | 임영웅\n",
      "GANADARA (Feat. 아이유) | 박재범\n",
      "Love story | 볼빨간사춘기\n",
      "Butter | 방탄소년단\n",
      "MY BAG | (여자)아이들\n",
      "사랑해요 그대를 | 임영웅\n",
      "STAY | The Kid LAROI\n",
      "INVU | 태연 (TAEYEON)\n",
      "Permission to Dance | 방탄소년단\n",
      "I LOVE U | WINNER\n",
      "That's Hilarious | Charlie Puth\n",
      "늦은 밤 헤어지긴 너무 아쉬워 | 케이시 (Kassy)\n",
      "Next Level | aespa\n",
      "듣고 싶을까 | MSG워너비(M.O.M)\n",
      "Weekend | 태연 (TAEYEON)\n",
      "고백하는 취한밤에 (Prod. 2soo) | 임재현\n",
      "너의 모든 순간 | 성시경\n",
      "SMILEY (Feat. BIBI) | YENA (최예나)\n",
      "봄날 | 방탄소년단\n",
      "너를 생각해 | 주시크 (Joosiq)\n",
      "팡파레 | 다비치\n",
      "ZOOM | 제시 (Jessi)\n",
      "드라마 | 아이유\n",
      "해요 (2022) | #안녕\n",
      "회전목마 (Feat. Zion.T, 원슈타인) (Prod. Slom) | sokodomo\n",
      "My Universe | Coldplay\n",
      "언제나 사랑해 | 케이시 (Kassy)\n",
      "HOT | 세븐틴\n",
      "내 손을 잡아 | 아이유\n",
      "With you | 지민\n",
      "없었던 일로 | 헤이즈 (Heize)\n",
      "도깨비불 (Illusion) | aespa\n",
      "바라만 본다 | MSG워너비(M.O.M)\n",
      "낭만교향곡 (Feat. CHANGMO, 박재범) | BIG Naughty (서동현)\n",
      "모든 날, 모든 순간 (Every day, Every Moment) | 폴킴\n",
      "리무진 (Feat. MINO) (Prod. GRAY) | BE'O (비오)\n",
      "작은 것들을 위한 시 (Boy With Luv) (Feat. Halsey) | 방탄소년단\n",
      "OHAYO MY NIGHT | 디핵 (D-Hack)\n",
      "롤린 (Rollin') | 브레이브걸스\n",
      "strawberry moon | 아이유\n",
      "밤하늘의 별을(2020) | 경서\n",
      "열이올라요 (Heart Burn) | 선미\n",
      "라일락 | 아이유\n",
      "Off My Face | Justin Bieber\n",
      "Savage | aespa\n",
      "Celebrity | 아이유\n",
      "스물다섯, 스물하나 | 자우림\n",
      "Blueming | 아이유\n",
      "눈이 오잖아(Feat.헤이즈) | 이무진\n",
      "Life′s Too Short (English Ver.) | aespa\n",
      "미친 것처럼 | V.O.S\n",
      "문득 | BE'O (비오)\n",
      "그 하루(feat.반하나) | 주호\n",
      "사이렌 Remix (Feat. UNEDUCATED KID, Paul Blanco) | 호미들\n",
      "Born Singer | 방탄소년단\n",
      "호랑수월가 | 탑현\n",
      "Bad Habits | Ed Sheeran\n",
      "고백 | 멜로망스\n",
      "헤픈 우연 | 헤이즈 (Heize)\n",
      "찰나가 영원이 될 때 (The Eternal Moment) | 마크툽 (MAKTUB)\n",
      "어떻게 이별까지 사랑하겠어, 널 사랑하는 거지 | AKMU (악뮤)\n",
      "Dun Dun Dance | 오마이걸 (OH MY GIRL)\n",
      "RUN2U | STAYC(스테이씨)\n"
     ]
    }
   ],
   "source": [
    "for song in songs : \n",
    "    title = song.select('div.ellipsis.rank01 > span > a')[0].text\n",
    "    singer = song.select('div.ellipsis.rank02 > a')[0].text\n",
    "    print(title, singer, sep = ' | ')"
   ]
  },
  {
   "cell_type": "code",
   "execution_count": 24,
   "id": "689fb162",
   "metadata": {},
   "outputs": [
    {
     "name": "stdout",
     "output_type": "stream",
     "text": [
      "\n"
     ]
    },
    {
     "name": "stderr",
     "output_type": "stream",
     "text": [
      "[WDM] - ====== WebDriver manager ======\n",
      "[WDM] - Current google-chrome version is 103.0.5060\n",
      "[WDM] - Get LATEST chromedriver version for 103.0.5060 google-chrome\n",
      "[WDM] - Driver [C:\\Users\\keb20\\.wdm\\drivers\\chromedriver\\win32\\103.0.5060.53\\chromedriver.exe] found in cache\n"
     ]
    },
    {
     "ename": "AttributeError",
     "evalue": "'WebDriver' object has no attribute 'find_elements_by_css_selector'",
     "output_type": "error",
     "traceback": [
      "\u001b[1;31m---------------------------------------------------------------------------\u001b[0m",
      "\u001b[1;31mAttributeError\u001b[0m                            Traceback (most recent call last)",
      "\u001b[1;32m~\\AppData\\Local\\Temp/ipykernel_29196/1495327918.py\u001b[0m in \u001b[0;36m<module>\u001b[1;34m\u001b[0m\n\u001b[0;32m      8\u001b[0m \u001b[0mdriver\u001b[0m\u001b[1;33m.\u001b[0m\u001b[0mget\u001b[0m\u001b[1;33m(\u001b[0m\u001b[0murl\u001b[0m\u001b[1;33m)\u001b[0m\u001b[1;33m\u001b[0m\u001b[1;33m\u001b[0m\u001b[0m\n\u001b[0;32m      9\u001b[0m \u001b[1;33m\u001b[0m\u001b[0m\n\u001b[1;32m---> 10\u001b[1;33m \u001b[0msongs\u001b[0m \u001b[1;33m=\u001b[0m \u001b[0mdriver\u001b[0m\u001b[1;33m.\u001b[0m\u001b[0mfind_elements_by_css_selector\u001b[0m\u001b[1;33m(\u001b[0m\u001b[1;34m'table > tbody > tr'\u001b[0m\u001b[1;33m)\u001b[0m\u001b[1;33m\u001b[0m\u001b[1;33m\u001b[0m\u001b[0m\n\u001b[0m\u001b[0;32m     11\u001b[0m \u001b[1;32mfor\u001b[0m \u001b[0msong\u001b[0m \u001b[1;32min\u001b[0m \u001b[0msongs\u001b[0m \u001b[1;33m:\u001b[0m\u001b[1;33m\u001b[0m\u001b[1;33m\u001b[0m\u001b[0m\n\u001b[0;32m     12\u001b[0m     \u001b[0mtitle\u001b[0m \u001b[1;33m=\u001b[0m \u001b[0msong\u001b[0m\u001b[1;33m.\u001b[0m\u001b[0mfind_elements_by_css_selector\u001b[0m\u001b[1;33m(\u001b[0m\u001b[1;34m'div.ellipsis.rank01 > span > a'\u001b[0m\u001b[1;33m)\u001b[0m\u001b[1;33m[\u001b[0m\u001b[1;36m0\u001b[0m\u001b[1;33m]\u001b[0m\u001b[1;33m.\u001b[0m\u001b[0mtext\u001b[0m\u001b[1;33m\u001b[0m\u001b[1;33m\u001b[0m\u001b[0m\n",
      "\u001b[1;31mAttributeError\u001b[0m: 'WebDriver' object has no attribute 'find_elements_by_css_selector'"
     ]
    }
   ],
   "source": [
    "from selenium import webdriver\n",
    "from selenium.webdriver.common.by import By\n",
    "from selenium.webdriver.chrome.service import Service\n",
    "from webdriver_manager.chrome import ChromeDriverManager\n",
    "driver = webdriver.Chrome(service=Service(ChromeDriverManager().install()))\n",
    "\n",
    "url = 'https://www.melon.com/chart/'\n",
    "driver.get(url)\n",
    "\n",
    "songs = driver.find_elements_by_css_selector('table > tbody > tr')\n",
    "for song in songs : \n",
    "    title = song.find_elements_by_css_selector('div.ellipsis.rank01 > span > a')[0].text\n",
    "    singer = song.find_elements_by_css_selector('div.ellipsis.rank02 > a')[0].text\n",
    "    print(title, singer, sep = ' | ')"
   ]
  },
  {
   "cell_type": "code",
   "execution_count": 31,
   "id": "19e4c422",
   "metadata": {},
   "outputs": [
    {
     "name": "stdout",
     "output_type": "stream",
     "text": [
      "그때 그 순간 그대로 (그그그) | WSG워너비 (가야G)\n",
      "보고싶었어 | WSG워너비 (4FIRE)\n",
      "LOVE DIVE | IVE (아이브)\n",
      "POP! | 나연 (TWICE)\n",
      "That That (prod. & feat. SUGA of BTS) | 싸이 (PSY)\n",
      "TOMBOY | (여자)아이들\n",
      "Clink Clink (클링 클링) | WSG워너비 (오아시소)\n",
      "정이라고 하자 (Feat. 10CM) | BIG Naughty (서동현)\n",
      "사랑인가 봐 | 멜로망스\n",
      "사랑은 늘 도망가 | 임영웅\n",
      "우리들의 블루스 | 임영웅\n",
      "나의 X에게 | 경서\n",
      "다시 만날 수 있을까 | 임영웅\n",
      "봄여름가을겨울 (Still Life) | BIGBANG (빅뱅)\n",
      "LOVE me | BE'O (비오)\n",
      "Girls | aespa\n",
      "Yet To Come | 방탄소년단\n",
      "무지개 | 임영웅\n",
      "FEARLESS | LE SSERAFIM (르세라핌)\n",
      "취중고백 | 김민석 (멜로망스)\n",
      "이제 나만 믿어요 | 임영웅\n",
      "내가 아니라도 | 주호\n",
      "Left and Right (Feat. Jung Kook of BTS) | Charlie Puth\n",
      "아버지 | 임영웅\n",
      "Feel My Rhythm | Red Velvet (레드벨벳)\n",
      "그라데이션 | 10CM\n",
      "손이 참 곱던 그대 | 임영웅\n",
      "신호등 | 이무진\n",
      "A bientot | 임영웅\n",
      "사랑해 진짜 | 임영웅\n",
      "ELEVEN | IVE (아이브)\n",
      "아무래도 난 | 주시크 (Joosiq)\n",
      "인생찬가 | 임영웅\n",
      "Dynamite | 방탄소년단\n",
      "연애편지 | 임영웅\n",
      "다정히 내 이름을 부르면 | 경서예지\n",
      "사랑역 | 임영웅\n",
      "보금자리 | 임영웅\n",
      "GANADARA (Feat. 아이유) | 박재범\n",
      "Love story | 볼빨간사춘기\n",
      "Butter | 방탄소년단\n",
      "MY BAG | (여자)아이들\n",
      "사랑해요 그대를 | 임영웅\n",
      "STAY | The Kid LAROI\n",
      "INVU | 태연 (TAEYEON)\n",
      "Permission to Dance | 방탄소년단\n",
      "I LOVE U | WINNER\n",
      "That's Hilarious | Charlie Puth\n",
      "늦은 밤 헤어지긴 너무 아쉬워 | 케이시 (Kassy)\n",
      "Next Level | aespa\n",
      "듣고 싶을까 | MSG워너비(M.O.M)\n",
      "Weekend | 태연 (TAEYEON)\n",
      "고백하는 취한밤에 (Prod. 2soo) | 임재현\n",
      "너의 모든 순간 | 성시경\n",
      "SMILEY (Feat. BIBI) | YENA (최예나)\n",
      "봄날 | 방탄소년단\n",
      "너를 생각해 | 주시크 (Joosiq)\n",
      "팡파레 | 다비치\n",
      "ZOOM | 제시 (Jessi)\n",
      "드라마 | 아이유\n",
      "해요 (2022) | #안녕\n",
      "회전목마 (Feat. Zion.T, 원슈타인) (Prod. Slom) | sokodomo\n",
      "My Universe | Coldplay\n",
      "언제나 사랑해 | 케이시 (Kassy)\n",
      "HOT | 세븐틴\n",
      "내 손을 잡아 | 아이유\n",
      "With you | 지민\n",
      "없었던 일로 | 헤이즈 (Heize)\n",
      "도깨비불 (Illusion) | aespa\n",
      "바라만 본다 | MSG워너비(M.O.M)\n",
      "낭만교향곡 (Feat. CHANGMO, 박재범) | BIG Naughty (서동현)\n",
      "모든 날, 모든 순간 (Every day, Every Moment) | 폴킴\n",
      "리무진 (Feat. MINO) (Prod. GRAY) | BE'O (비오)\n",
      "작은 것들을 위한 시 (Boy With Luv) (Feat. Halsey) | 방탄소년단\n",
      "OHAYO MY NIGHT | 디핵 (D-Hack)\n",
      "롤린 (Rollin') | 브레이브걸스\n",
      "strawberry moon | 아이유\n",
      "밤하늘의 별을(2020) | 경서\n",
      "열이올라요 (Heart Burn) | 선미\n",
      "라일락 | 아이유\n",
      "Off My Face | Justin Bieber\n",
      "Savage | aespa\n",
      "Celebrity | 아이유\n",
      "스물다섯, 스물하나 | 자우림\n",
      "Blueming | 아이유\n",
      "눈이 오잖아(Feat.헤이즈) | 이무진\n",
      "Life′s Too Short (English Ver.) | aespa\n",
      "미친 것처럼 | V.O.S\n",
      "문득 | BE'O (비오)\n",
      "그 하루(feat.반하나) | 주호\n",
      "사이렌 Remix (Feat. UNEDUCATED KID, Paul Blanco) | 호미들\n",
      "Born Singer | 방탄소년단\n",
      "호랑수월가 | 탑현\n",
      "Bad Habits | Ed Sheeran\n",
      "고백 | 멜로망스\n",
      "헤픈 우연 | 헤이즈 (Heize)\n",
      "찰나가 영원이 될 때 (The Eternal Moment) | 마크툽 (MAKTUB)\n",
      "어떻게 이별까지 사랑하겠어, 널 사랑하는 거지 | AKMU (악뮤)\n",
      "Dun Dun Dance | 오마이걸 (OH MY GIRL)\n",
      "RUN2U | STAYC(스테이씨)\n"
     ]
    }
   ],
   "source": [
    "songs = driver.find_elements(By.CSS_SELECTOR, 'table > tbody > tr')\n",
    "for song in songs : \n",
    "    title = song.find_elements(By.CSS_SELECTOR, 'div.ellipsis.rank01 > span > a')[0].text\n",
    "    singer = song.find_elements(By.CSS_SELECTOR, 'div.ellipsis.rank02 > a')[0].text\n",
    "    print(title, singer, sep = ' | ')"
   ]
  },
  {
   "cell_type": "code",
   "execution_count": 32,
   "id": "fe4e4450",
   "metadata": {},
   "outputs": [
    {
     "ename": "NoSuchWindowException",
     "evalue": "Message: no such window: window was already closed\n  (Session info: chrome=103.0.5060.114)\nStacktrace:\nBacktrace:\n\tOrdinal0 [0x01026463+2188387]\n\tOrdinal0 [0x00FBE461+1762401]\n\tOrdinal0 [0x00ED3D78+802168]\n\tOrdinal0 [0x00EC99E4+760292]\n\tOrdinal0 [0x00ECAA22+764450]\n\tOrdinal0 [0x00EC4379+738169]\n\tOrdinal0 [0x00ED50D0+807120]\n\tOrdinal0 [0x00F2C402+1164290]\n\tOrdinal0 [0x00F1C5F6+1099254]\n\tOrdinal0 [0x00EF6BE0+945120]\n\tOrdinal0 [0x00EF7AD6+948950]\n\tGetHandleVerifier [0x012C71F2+2712546]\n\tGetHandleVerifier [0x012B886D+2652765]\n\tGetHandleVerifier [0x010B002A+520730]\n\tGetHandleVerifier [0x010AEE06+516086]\n\tOrdinal0 [0x00FC468B+1787531]\n\tOrdinal0 [0x00FC8E88+1805960]\n\tOrdinal0 [0x00FC8F75+1806197]\n\tOrdinal0 [0x00FD1DF1+1842673]\n\tBaseThreadInitThunk [0x7609FA29+25]\n\tRtlGetAppContainerNamedObjectPath [0x77957A9E+286]\n\tRtlGetAppContainerNamedObjectPath [0x77957A6E+238]\n",
     "output_type": "error",
     "traceback": [
      "\u001b[1;31m---------------------------------------------------------------------------\u001b[0m",
      "\u001b[1;31mNoSuchWindowException\u001b[0m                     Traceback (most recent call last)",
      "\u001b[1;32m~\\AppData\\Local\\Temp/ipykernel_29196/3007057950.py\u001b[0m in \u001b[0;36m<module>\u001b[1;34m\u001b[0m\n\u001b[0;32m      1\u001b[0m \u001b[0murl\u001b[0m \u001b[1;33m=\u001b[0m \u001b[1;34m'https://www.billboard.com/charts/hot-100/'\u001b[0m\u001b[1;33m\u001b[0m\u001b[1;33m\u001b[0m\u001b[0m\n\u001b[1;32m----> 2\u001b[1;33m \u001b[0mdriver\u001b[0m\u001b[1;33m.\u001b[0m\u001b[0mget\u001b[0m\u001b[1;33m(\u001b[0m\u001b[0murl\u001b[0m\u001b[1;33m)\u001b[0m\u001b[1;33m\u001b[0m\u001b[1;33m\u001b[0m\u001b[0m\n\u001b[0m",
      "\u001b[1;32m~\\anaconda3\\lib\\site-packages\\selenium\\webdriver\\remote\\webdriver.py\u001b[0m in \u001b[0;36mget\u001b[1;34m(self, url)\u001b[0m\n\u001b[0;32m    445\u001b[0m         \u001b[0mLoads\u001b[0m \u001b[0ma\u001b[0m \u001b[0mweb\u001b[0m \u001b[0mpage\u001b[0m \u001b[1;32min\u001b[0m \u001b[0mthe\u001b[0m \u001b[0mcurrent\u001b[0m \u001b[0mbrowser\u001b[0m \u001b[0msession\u001b[0m\u001b[1;33m.\u001b[0m\u001b[1;33m\u001b[0m\u001b[1;33m\u001b[0m\u001b[0m\n\u001b[0;32m    446\u001b[0m         \"\"\"\n\u001b[1;32m--> 447\u001b[1;33m         \u001b[0mself\u001b[0m\u001b[1;33m.\u001b[0m\u001b[0mexecute\u001b[0m\u001b[1;33m(\u001b[0m\u001b[0mCommand\u001b[0m\u001b[1;33m.\u001b[0m\u001b[0mGET\u001b[0m\u001b[1;33m,\u001b[0m \u001b[1;33m{\u001b[0m\u001b[1;34m'url'\u001b[0m\u001b[1;33m:\u001b[0m \u001b[0murl\u001b[0m\u001b[1;33m}\u001b[0m\u001b[1;33m)\u001b[0m\u001b[1;33m\u001b[0m\u001b[1;33m\u001b[0m\u001b[0m\n\u001b[0m\u001b[0;32m    448\u001b[0m \u001b[1;33m\u001b[0m\u001b[0m\n\u001b[0;32m    449\u001b[0m     \u001b[1;33m@\u001b[0m\u001b[0mproperty\u001b[0m\u001b[1;33m\u001b[0m\u001b[1;33m\u001b[0m\u001b[0m\n",
      "\u001b[1;32m~\\anaconda3\\lib\\site-packages\\selenium\\webdriver\\remote\\webdriver.py\u001b[0m in \u001b[0;36mexecute\u001b[1;34m(self, driver_command, params)\u001b[0m\n\u001b[0;32m    433\u001b[0m         \u001b[0mresponse\u001b[0m \u001b[1;33m=\u001b[0m \u001b[0mself\u001b[0m\u001b[1;33m.\u001b[0m\u001b[0mcommand_executor\u001b[0m\u001b[1;33m.\u001b[0m\u001b[0mexecute\u001b[0m\u001b[1;33m(\u001b[0m\u001b[0mdriver_command\u001b[0m\u001b[1;33m,\u001b[0m \u001b[0mparams\u001b[0m\u001b[1;33m)\u001b[0m\u001b[1;33m\u001b[0m\u001b[1;33m\u001b[0m\u001b[0m\n\u001b[0;32m    434\u001b[0m         \u001b[1;32mif\u001b[0m \u001b[0mresponse\u001b[0m\u001b[1;33m:\u001b[0m\u001b[1;33m\u001b[0m\u001b[1;33m\u001b[0m\u001b[0m\n\u001b[1;32m--> 435\u001b[1;33m             \u001b[0mself\u001b[0m\u001b[1;33m.\u001b[0m\u001b[0merror_handler\u001b[0m\u001b[1;33m.\u001b[0m\u001b[0mcheck_response\u001b[0m\u001b[1;33m(\u001b[0m\u001b[0mresponse\u001b[0m\u001b[1;33m)\u001b[0m\u001b[1;33m\u001b[0m\u001b[1;33m\u001b[0m\u001b[0m\n\u001b[0m\u001b[0;32m    436\u001b[0m             response['value'] = self._unwrap_value(\n\u001b[0;32m    437\u001b[0m                 response.get('value', None))\n",
      "\u001b[1;32m~\\anaconda3\\lib\\site-packages\\selenium\\webdriver\\remote\\errorhandler.py\u001b[0m in \u001b[0;36mcheck_response\u001b[1;34m(self, response)\u001b[0m\n\u001b[0;32m    245\u001b[0m                 \u001b[0malert_text\u001b[0m \u001b[1;33m=\u001b[0m \u001b[0mvalue\u001b[0m\u001b[1;33m[\u001b[0m\u001b[1;34m'alert'\u001b[0m\u001b[1;33m]\u001b[0m\u001b[1;33m.\u001b[0m\u001b[0mget\u001b[0m\u001b[1;33m(\u001b[0m\u001b[1;34m'text'\u001b[0m\u001b[1;33m)\u001b[0m\u001b[1;33m\u001b[0m\u001b[1;33m\u001b[0m\u001b[0m\n\u001b[0;32m    246\u001b[0m             \u001b[1;32mraise\u001b[0m \u001b[0mexception_class\u001b[0m\u001b[1;33m(\u001b[0m\u001b[0mmessage\u001b[0m\u001b[1;33m,\u001b[0m \u001b[0mscreen\u001b[0m\u001b[1;33m,\u001b[0m \u001b[0mstacktrace\u001b[0m\u001b[1;33m,\u001b[0m \u001b[0malert_text\u001b[0m\u001b[1;33m)\u001b[0m  \u001b[1;31m# type: ignore[call-arg]  # mypy is not smart enough here\u001b[0m\u001b[1;33m\u001b[0m\u001b[1;33m\u001b[0m\u001b[0m\n\u001b[1;32m--> 247\u001b[1;33m         \u001b[1;32mraise\u001b[0m \u001b[0mexception_class\u001b[0m\u001b[1;33m(\u001b[0m\u001b[0mmessage\u001b[0m\u001b[1;33m,\u001b[0m \u001b[0mscreen\u001b[0m\u001b[1;33m,\u001b[0m \u001b[0mstacktrace\u001b[0m\u001b[1;33m)\u001b[0m\u001b[1;33m\u001b[0m\u001b[1;33m\u001b[0m\u001b[0m\n\u001b[0m\u001b[0;32m    248\u001b[0m \u001b[1;33m\u001b[0m\u001b[0m\n\u001b[0;32m    249\u001b[0m     \u001b[1;32mdef\u001b[0m \u001b[0m_value_or_default\u001b[0m\u001b[1;33m(\u001b[0m\u001b[0mself\u001b[0m\u001b[1;33m,\u001b[0m \u001b[0mobj\u001b[0m\u001b[1;33m:\u001b[0m \u001b[0mMapping\u001b[0m\u001b[1;33m[\u001b[0m\u001b[0m_KT\u001b[0m\u001b[1;33m,\u001b[0m \u001b[0m_VT\u001b[0m\u001b[1;33m]\u001b[0m\u001b[1;33m,\u001b[0m \u001b[0mkey\u001b[0m\u001b[1;33m:\u001b[0m \u001b[0m_KT\u001b[0m\u001b[1;33m,\u001b[0m \u001b[0mdefault\u001b[0m\u001b[1;33m:\u001b[0m \u001b[0m_VT\u001b[0m\u001b[1;33m)\u001b[0m \u001b[1;33m->\u001b[0m \u001b[0m_VT\u001b[0m\u001b[1;33m:\u001b[0m\u001b[1;33m\u001b[0m\u001b[1;33m\u001b[0m\u001b[0m\n",
      "\u001b[1;31mNoSuchWindowException\u001b[0m: Message: no such window: window was already closed\n  (Session info: chrome=103.0.5060.114)\nStacktrace:\nBacktrace:\n\tOrdinal0 [0x01026463+2188387]\n\tOrdinal0 [0x00FBE461+1762401]\n\tOrdinal0 [0x00ED3D78+802168]\n\tOrdinal0 [0x00EC99E4+760292]\n\tOrdinal0 [0x00ECAA22+764450]\n\tOrdinal0 [0x00EC4379+738169]\n\tOrdinal0 [0x00ED50D0+807120]\n\tOrdinal0 [0x00F2C402+1164290]\n\tOrdinal0 [0x00F1C5F6+1099254]\n\tOrdinal0 [0x00EF6BE0+945120]\n\tOrdinal0 [0x00EF7AD6+948950]\n\tGetHandleVerifier [0x012C71F2+2712546]\n\tGetHandleVerifier [0x012B886D+2652765]\n\tGetHandleVerifier [0x010B002A+520730]\n\tGetHandleVerifier [0x010AEE06+516086]\n\tOrdinal0 [0x00FC468B+1787531]\n\tOrdinal0 [0x00FC8E88+1805960]\n\tOrdinal0 [0x00FC8F75+1806197]\n\tOrdinal0 [0x00FD1DF1+1842673]\n\tBaseThreadInitThunk [0x7609FA29+25]\n\tRtlGetAppContainerNamedObjectPath [0x77957A9E+286]\n\tRtlGetAppContainerNamedObjectPath [0x77957A6E+238]\n"
     ]
    }
   ],
   "source": [
    "url = 'https://www.billboard.com/charts/hot-100/'\n",
    "driver.get(url)"
   ]
  },
  {
   "cell_type": "code",
   "execution_count": 34,
   "id": "3fceb2b2",
   "metadata": {},
   "outputs": [
    {
     "name": "stdout",
     "output_type": "stream",
     "text": [
      "\n"
     ]
    },
    {
     "name": "stderr",
     "output_type": "stream",
     "text": [
      "[WDM] - ====== WebDriver manager ======\n",
      "[WDM] - Current google-chrome version is 103.0.5060\n",
      "[WDM] - Get LATEST chromedriver version for 103.0.5060 google-chrome\n",
      "[WDM] - Driver [C:\\Users\\keb20\\.wdm\\drivers\\chromedriver\\win32\\103.0.5060.53\\chromedriver.exe] found in cache\n"
     ]
    },
    {
     "ename": "WebDriverException",
     "evalue": "Message: unknown error: cannot determine loading status\nfrom unknown error: unexpected command response\n  (Session info: chrome=103.0.5060.114)\nStacktrace:\nBacktrace:\n\tOrdinal0 [0x01026463+2188387]\n\tOrdinal0 [0x00FBE461+1762401]\n\tOrdinal0 [0x00ED3D78+802168]\n\tOrdinal0 [0x00EC7210+750096]\n\tOrdinal0 [0x00EC675A+747354]\n\tOrdinal0 [0x00EC5D3F+744767]\n\tOrdinal0 [0x00EC4C28+740392]\n\tOrdinal0 [0x00EC5228+741928]\n\tOrdinal0 [0x00ECF153+782675]\n\tOrdinal0 [0x00ED9FBB+827323]\n\tOrdinal0 [0x00EDD310+840464]\n\tOrdinal0 [0x00EC54F6+742646]\n\tOrdinal0 [0x00ED9BF3+826355]\n\tOrdinal0 [0x00F2CF6D+1167213]\n\tOrdinal0 [0x00F1C5F6+1099254]\n\tOrdinal0 [0x00EF6BE0+945120]\n\tOrdinal0 [0x00EF7AD6+948950]\n\tGetHandleVerifier [0x012C71F2+2712546]\n\tGetHandleVerifier [0x012B886D+2652765]\n\tGetHandleVerifier [0x010B002A+520730]\n\tGetHandleVerifier [0x010AEE06+516086]\n\tOrdinal0 [0x00FC468B+1787531]\n\tOrdinal0 [0x00FC8E88+1805960]\n\tOrdinal0 [0x00FC8F75+1806197]\n\tOrdinal0 [0x00FD1DF1+1842673]\n\tBaseThreadInitThunk [0x7609FA29+25]\n\tRtlGetAppContainerNamedObjectPath [0x77957A9E+286]\n\tRtlGetAppContainerNamedObjectPath [0x77957A6E+238]\n",
     "output_type": "error",
     "traceback": [
      "\u001b[1;31m---------------------------------------------------------------------------\u001b[0m",
      "\u001b[1;31mWebDriverException\u001b[0m                        Traceback (most recent call last)",
      "\u001b[1;32m~\\AppData\\Local\\Temp/ipykernel_29196/4188423749.py\u001b[0m in \u001b[0;36m<module>\u001b[1;34m\u001b[0m\n\u001b[0;32m      6\u001b[0m \u001b[1;33m\u001b[0m\u001b[0m\n\u001b[0;32m      7\u001b[0m \u001b[0murl\u001b[0m \u001b[1;33m=\u001b[0m \u001b[1;34m'https://www.billboard.com/charts/hot-100/'\u001b[0m\u001b[1;33m\u001b[0m\u001b[1;33m\u001b[0m\u001b[0m\n\u001b[1;32m----> 8\u001b[1;33m \u001b[0mdriver\u001b[0m\u001b[1;33m.\u001b[0m\u001b[0mget\u001b[0m\u001b[1;33m(\u001b[0m\u001b[0murl\u001b[0m\u001b[1;33m)\u001b[0m\u001b[1;33m\u001b[0m\u001b[1;33m\u001b[0m\u001b[0m\n\u001b[0m",
      "\u001b[1;32m~\\anaconda3\\lib\\site-packages\\selenium\\webdriver\\remote\\webdriver.py\u001b[0m in \u001b[0;36mget\u001b[1;34m(self, url)\u001b[0m\n\u001b[0;32m    445\u001b[0m         \u001b[0mLoads\u001b[0m \u001b[0ma\u001b[0m \u001b[0mweb\u001b[0m \u001b[0mpage\u001b[0m \u001b[1;32min\u001b[0m \u001b[0mthe\u001b[0m \u001b[0mcurrent\u001b[0m \u001b[0mbrowser\u001b[0m \u001b[0msession\u001b[0m\u001b[1;33m.\u001b[0m\u001b[1;33m\u001b[0m\u001b[1;33m\u001b[0m\u001b[0m\n\u001b[0;32m    446\u001b[0m         \"\"\"\n\u001b[1;32m--> 447\u001b[1;33m         \u001b[0mself\u001b[0m\u001b[1;33m.\u001b[0m\u001b[0mexecute\u001b[0m\u001b[1;33m(\u001b[0m\u001b[0mCommand\u001b[0m\u001b[1;33m.\u001b[0m\u001b[0mGET\u001b[0m\u001b[1;33m,\u001b[0m \u001b[1;33m{\u001b[0m\u001b[1;34m'url'\u001b[0m\u001b[1;33m:\u001b[0m \u001b[0murl\u001b[0m\u001b[1;33m}\u001b[0m\u001b[1;33m)\u001b[0m\u001b[1;33m\u001b[0m\u001b[1;33m\u001b[0m\u001b[0m\n\u001b[0m\u001b[0;32m    448\u001b[0m \u001b[1;33m\u001b[0m\u001b[0m\n\u001b[0;32m    449\u001b[0m     \u001b[1;33m@\u001b[0m\u001b[0mproperty\u001b[0m\u001b[1;33m\u001b[0m\u001b[1;33m\u001b[0m\u001b[0m\n",
      "\u001b[1;32m~\\anaconda3\\lib\\site-packages\\selenium\\webdriver\\remote\\webdriver.py\u001b[0m in \u001b[0;36mexecute\u001b[1;34m(self, driver_command, params)\u001b[0m\n\u001b[0;32m    433\u001b[0m         \u001b[0mresponse\u001b[0m \u001b[1;33m=\u001b[0m \u001b[0mself\u001b[0m\u001b[1;33m.\u001b[0m\u001b[0mcommand_executor\u001b[0m\u001b[1;33m.\u001b[0m\u001b[0mexecute\u001b[0m\u001b[1;33m(\u001b[0m\u001b[0mdriver_command\u001b[0m\u001b[1;33m,\u001b[0m \u001b[0mparams\u001b[0m\u001b[1;33m)\u001b[0m\u001b[1;33m\u001b[0m\u001b[1;33m\u001b[0m\u001b[0m\n\u001b[0;32m    434\u001b[0m         \u001b[1;32mif\u001b[0m \u001b[0mresponse\u001b[0m\u001b[1;33m:\u001b[0m\u001b[1;33m\u001b[0m\u001b[1;33m\u001b[0m\u001b[0m\n\u001b[1;32m--> 435\u001b[1;33m             \u001b[0mself\u001b[0m\u001b[1;33m.\u001b[0m\u001b[0merror_handler\u001b[0m\u001b[1;33m.\u001b[0m\u001b[0mcheck_response\u001b[0m\u001b[1;33m(\u001b[0m\u001b[0mresponse\u001b[0m\u001b[1;33m)\u001b[0m\u001b[1;33m\u001b[0m\u001b[1;33m\u001b[0m\u001b[0m\n\u001b[0m\u001b[0;32m    436\u001b[0m             response['value'] = self._unwrap_value(\n\u001b[0;32m    437\u001b[0m                 response.get('value', None))\n",
      "\u001b[1;32m~\\anaconda3\\lib\\site-packages\\selenium\\webdriver\\remote\\errorhandler.py\u001b[0m in \u001b[0;36mcheck_response\u001b[1;34m(self, response)\u001b[0m\n\u001b[0;32m    245\u001b[0m                 \u001b[0malert_text\u001b[0m \u001b[1;33m=\u001b[0m \u001b[0mvalue\u001b[0m\u001b[1;33m[\u001b[0m\u001b[1;34m'alert'\u001b[0m\u001b[1;33m]\u001b[0m\u001b[1;33m.\u001b[0m\u001b[0mget\u001b[0m\u001b[1;33m(\u001b[0m\u001b[1;34m'text'\u001b[0m\u001b[1;33m)\u001b[0m\u001b[1;33m\u001b[0m\u001b[1;33m\u001b[0m\u001b[0m\n\u001b[0;32m    246\u001b[0m             \u001b[1;32mraise\u001b[0m \u001b[0mexception_class\u001b[0m\u001b[1;33m(\u001b[0m\u001b[0mmessage\u001b[0m\u001b[1;33m,\u001b[0m \u001b[0mscreen\u001b[0m\u001b[1;33m,\u001b[0m \u001b[0mstacktrace\u001b[0m\u001b[1;33m,\u001b[0m \u001b[0malert_text\u001b[0m\u001b[1;33m)\u001b[0m  \u001b[1;31m# type: ignore[call-arg]  # mypy is not smart enough here\u001b[0m\u001b[1;33m\u001b[0m\u001b[1;33m\u001b[0m\u001b[0m\n\u001b[1;32m--> 247\u001b[1;33m         \u001b[1;32mraise\u001b[0m \u001b[0mexception_class\u001b[0m\u001b[1;33m(\u001b[0m\u001b[0mmessage\u001b[0m\u001b[1;33m,\u001b[0m \u001b[0mscreen\u001b[0m\u001b[1;33m,\u001b[0m \u001b[0mstacktrace\u001b[0m\u001b[1;33m)\u001b[0m\u001b[1;33m\u001b[0m\u001b[1;33m\u001b[0m\u001b[0m\n\u001b[0m\u001b[0;32m    248\u001b[0m \u001b[1;33m\u001b[0m\u001b[0m\n\u001b[0;32m    249\u001b[0m     \u001b[1;32mdef\u001b[0m \u001b[0m_value_or_default\u001b[0m\u001b[1;33m(\u001b[0m\u001b[0mself\u001b[0m\u001b[1;33m,\u001b[0m \u001b[0mobj\u001b[0m\u001b[1;33m:\u001b[0m \u001b[0mMapping\u001b[0m\u001b[1;33m[\u001b[0m\u001b[0m_KT\u001b[0m\u001b[1;33m,\u001b[0m \u001b[0m_VT\u001b[0m\u001b[1;33m]\u001b[0m\u001b[1;33m,\u001b[0m \u001b[0mkey\u001b[0m\u001b[1;33m:\u001b[0m \u001b[0m_KT\u001b[0m\u001b[1;33m,\u001b[0m \u001b[0mdefault\u001b[0m\u001b[1;33m:\u001b[0m \u001b[0m_VT\u001b[0m\u001b[1;33m)\u001b[0m \u001b[1;33m->\u001b[0m \u001b[0m_VT\u001b[0m\u001b[1;33m:\u001b[0m\u001b[1;33m\u001b[0m\u001b[1;33m\u001b[0m\u001b[0m\n",
      "\u001b[1;31mWebDriverException\u001b[0m: Message: unknown error: cannot determine loading status\nfrom unknown error: unexpected command response\n  (Session info: chrome=103.0.5060.114)\nStacktrace:\nBacktrace:\n\tOrdinal0 [0x01026463+2188387]\n\tOrdinal0 [0x00FBE461+1762401]\n\tOrdinal0 [0x00ED3D78+802168]\n\tOrdinal0 [0x00EC7210+750096]\n\tOrdinal0 [0x00EC675A+747354]\n\tOrdinal0 [0x00EC5D3F+744767]\n\tOrdinal0 [0x00EC4C28+740392]\n\tOrdinal0 [0x00EC5228+741928]\n\tOrdinal0 [0x00ECF153+782675]\n\tOrdinal0 [0x00ED9FBB+827323]\n\tOrdinal0 [0x00EDD310+840464]\n\tOrdinal0 [0x00EC54F6+742646]\n\tOrdinal0 [0x00ED9BF3+826355]\n\tOrdinal0 [0x00F2CF6D+1167213]\n\tOrdinal0 [0x00F1C5F6+1099254]\n\tOrdinal0 [0x00EF6BE0+945120]\n\tOrdinal0 [0x00EF7AD6+948950]\n\tGetHandleVerifier [0x012C71F2+2712546]\n\tGetHandleVerifier [0x012B886D+2652765]\n\tGetHandleVerifier [0x010B002A+520730]\n\tGetHandleVerifier [0x010AEE06+516086]\n\tOrdinal0 [0x00FC468B+1787531]\n\tOrdinal0 [0x00FC8E88+1805960]\n\tOrdinal0 [0x00FC8F75+1806197]\n\tOrdinal0 [0x00FD1DF1+1842673]\n\tBaseThreadInitThunk [0x7609FA29+25]\n\tRtlGetAppContainerNamedObjectPath [0x77957A9E+286]\n\tRtlGetAppContainerNamedObjectPath [0x77957A6E+238]\n"
     ]
    }
   ],
   "source": [
    "from selenium import webdriver\n",
    "from selenium.webdriver.common.by import By\n",
    "from selenium.webdriver.chrome.service import Service\n",
    "from webdriver_manager.chrome import ChromeDriverManager\n",
    "driver = webdriver.Chrome(service=Service(ChromeDriverManager().install()))\n",
    "\n",
    "url = 'https://www.billboard.com/charts/hot-100/'\n",
    "driver.get(url)"
   ]
  },
  {
   "cell_type": "code",
   "execution_count": null,
   "id": "349031b4",
   "metadata": {},
   "outputs": [],
   "source": []
  }
 ],
 "metadata": {
  "kernelspec": {
   "display_name": "Python 3 (ipykernel)",
   "language": "python",
   "name": "python3"
  },
  "language_info": {
   "codemirror_mode": {
    "name": "ipython",
    "version": 3
   },
   "file_extension": ".py",
   "mimetype": "text/x-python",
   "name": "python",
   "nbconvert_exporter": "python",
   "pygments_lexer": "ipython3",
   "version": "3.9.7"
  }
 },
 "nbformat": 4,
 "nbformat_minor": 5
}
