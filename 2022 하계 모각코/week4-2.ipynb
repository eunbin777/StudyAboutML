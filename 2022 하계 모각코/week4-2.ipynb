{
 "cells": [
  {
   "cell_type": "code",
   "execution_count": 1,
   "metadata": {},
   "outputs": [],
   "source": [
    "import pandas as pd\n",
    "def create_kto_data(yy, mm):\n",
    "    #1. 불러올 엑셀 파일 경로를 지정\n",
    "    file_path = 'Downloads\\\\4_Tourists_Event\\\\files\\\\kto_{}{}.xlsx'.format(yy, mm)\n",
    "\n",
    "    #2. 엑셀 파일 불러오기\n",
    "    df = pd.read_excel(file_path, header = 1, skipfooter = 4, usecols = 'A:G')\n",
    "\n",
    "    #3. \"기준년월\" 칼럼 추가\n",
    "    df['기준년월'] = '{}-{}'.format(yy, mm)\n",
    "\n",
    "    #4. \"국적\" 칼럼에서 대륙 제거하고 국가만 남기기\n",
    "    ignore_list = ['아시아주', '미주', '구주', '대양주', '아프리카주', '기타대륙', '교포소계']\n",
    "    # 제거할 대륙명 선정하기\n",
    "    condition = (df['국적'].isin(ignore_list) == False) # 대륙 미포함 조건\n",
    "    df_country = df[condition].reset_index(drop = True)\n",
    "\n",
    "    #5. \"대륙\" 칼럼 추가\n",
    "    continents = ['아시아']*25 + ['아메리카']*5 + ['유럽']*23 + ['오세아니아']*3 + ['아프리카']*2 + ['기타대륙'] + ['교포']\n",
    "    # 대륙 칼럼 생성을 위한 목록 만들어 놓기\n",
    "    df_country['대륙'] = continents\n",
    "\n",
    "    #6. 국가별 \"관광객비율(%)\" 칼럼 추가\n",
    "    df_country['관광객비율(%)'] = round(df_country.관광 / df_country.계 * 100, 1)\n",
    "\n",
    "    #7. \"전체비율(%)\" 칼럼 추가\n",
    "    tourist_sum = sum(df_country['관광'])\n",
    "    df_country['전체비율(%)'] = round(df_country['관광'] / tourist_sum * 100, 1)\n",
    "\n",
    "    #8. 결과 출력\n",
    "    return(df_country)"
   ]
  },
  {
   "cell_type": "code",
   "execution_count": null,
   "metadata": {},
   "outputs": [],
   "source": []
  }
 ],
 "metadata": {
  "kernelspec": {
   "display_name": "Python 3.9.7 ('base')",
   "language": "python",
   "name": "python3"
  },
  "language_info": {
   "codemirror_mode": {
    "name": "ipython",
    "version": 3
   },
   "file_extension": ".py",
   "mimetype": "text/x-python",
   "name": "python",
   "nbconvert_exporter": "python",
   "pygments_lexer": "ipython3",
   "version": "3.9.7"
  },
  "orig_nbformat": 4,
  "vscode": {
   "interpreter": {
    "hash": "1ddd09a61b2c7e17c2a62d168de822f4c67e18302d8919811a53cdcb291e5f9a"
   }
  }
 },
 "nbformat": 4,
 "nbformat_minor": 2
}
