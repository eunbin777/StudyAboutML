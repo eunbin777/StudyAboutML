{
 "cells": [
  {
   "cell_type": "code",
   "execution_count": 2,
   "id": "757f580e",
   "metadata": {},
   "outputs": [
    {
     "name": "stdout",
     "output_type": "stream",
     "text": [
      "\n"
     ]
    },
    {
     "name": "stderr",
     "output_type": "stream",
     "text": [
      "[WDM] - ====== WebDriver manager ======\n",
      "[WDM] - Current google-chrome version is 103.0.5060\n",
      "[WDM] - Get LATEST chromedriver version for 103.0.5060 google-chrome\n",
      "[WDM] - Driver [C:\\Users\\keb20\\.wdm\\drivers\\chromedriver\\win32\\103.0.5060.134\\chromedriver.exe] found in cache\n"
     ]
    }
   ],
   "source": [
    "from selenium import webdriver\n",
    "from selenium.webdriver.common.by import By\n",
    "from selenium.webdriver.chrome.service import Service\n",
    "from webdriver_manager.chrome import ChromeDriverManager\n",
    "driver = webdriver.Chrome(service=Service(ChromeDriverManager().install()))\n",
    "\n",
    "url = 'https://www.melon.com/chart/'\n",
    "driver.get(url)\n",
    "\n",
    "from bs4 import BeautifulSoup\n",
    "\n",
    "html = driver.page_source\n",
    "soup = BeautifulSoup(html, 'html.parser')"
   ]
  },
  {
   "cell_type": "code",
   "execution_count": 3,
   "id": "59a67a29",
   "metadata": {},
   "outputs": [],
   "source": [
    "song_data = []\n",
    "rank = 1\n",
    "songs = soup.select('table > tbody > tr')\n",
    "for song in songs:\n",
    "    title = song.select('div.rank01 > span > a')[0].text\n",
    "    singer = song.select('div.rank02 > a')[0].text\n",
    "    song_data.append(['Melon', rank, title, singer])\n",
    "    rank = rank + 1"
   ]
  },
  {
   "cell_type": "code",
   "execution_count": 4,
   "id": "7d0c5c8f",
   "metadata": {},
   "outputs": [
    {
     "data": {
      "text/html": [
       "<div>\n",
       "<style scoped>\n",
       "    .dataframe tbody tr th:only-of-type {\n",
       "        vertical-align: middle;\n",
       "    }\n",
       "\n",
       "    .dataframe tbody tr th {\n",
       "        vertical-align: top;\n",
       "    }\n",
       "\n",
       "    .dataframe thead th {\n",
       "        text-align: right;\n",
       "    }\n",
       "</style>\n",
       "<table border=\"1\" class=\"dataframe\">\n",
       "  <thead>\n",
       "    <tr style=\"text-align: right;\">\n",
       "      <th></th>\n",
       "      <th>서비스</th>\n",
       "      <th>순위</th>\n",
       "      <th>제목</th>\n",
       "      <th>가수</th>\n",
       "    </tr>\n",
       "  </thead>\n",
       "  <tbody>\n",
       "    <tr>\n",
       "      <th>0</th>\n",
       "      <td>Melon</td>\n",
       "      <td>1</td>\n",
       "      <td>그때 그 순간 그대로 (그그그)</td>\n",
       "      <td>WSG워너비 (가야G)</td>\n",
       "    </tr>\n",
       "    <tr>\n",
       "      <th>1</th>\n",
       "      <td>Melon</td>\n",
       "      <td>2</td>\n",
       "      <td>보고싶었어</td>\n",
       "      <td>WSG워너비 (4FIRE)</td>\n",
       "    </tr>\n",
       "    <tr>\n",
       "      <th>2</th>\n",
       "      <td>Melon</td>\n",
       "      <td>3</td>\n",
       "      <td>LOVE DIVE</td>\n",
       "      <td>IVE (아이브)</td>\n",
       "    </tr>\n",
       "    <tr>\n",
       "      <th>3</th>\n",
       "      <td>Melon</td>\n",
       "      <td>4</td>\n",
       "      <td>POP!</td>\n",
       "      <td>나연 (TWICE)</td>\n",
       "    </tr>\n",
       "    <tr>\n",
       "      <th>4</th>\n",
       "      <td>Melon</td>\n",
       "      <td>5</td>\n",
       "      <td>That That (prod. &amp; feat. SUGA of BTS)</td>\n",
       "      <td>싸이 (PSY)</td>\n",
       "    </tr>\n",
       "  </tbody>\n",
       "</table>\n",
       "</div>"
      ],
      "text/plain": [
       "     서비스  순위                                     제목              가수\n",
       "0  Melon   1                      그때 그 순간 그대로 (그그그)    WSG워너비 (가야G)\n",
       "1  Melon   2                                  보고싶었어  WSG워너비 (4FIRE)\n",
       "2  Melon   3                              LOVE DIVE       IVE (아이브)\n",
       "3  Melon   4                                   POP!      나연 (TWICE)\n",
       "4  Melon   5  That That (prod. & feat. SUGA of BTS)        싸이 (PSY)"
      ]
     },
     "execution_count": 4,
     "metadata": {},
     "output_type": "execute_result"
    }
   ],
   "source": [
    "import pandas as pd\n",
    "columns = ['서비스', '순위', '제목', '가수']\n",
    "pd_data = pd.DataFrame(song_data, columns = columns)\n",
    "pd_data.head()"
   ]
  },
  {
   "cell_type": "code",
   "execution_count": 6,
   "id": "c0d1e9b5",
   "metadata": {},
   "outputs": [],
   "source": [
    "pd_data.to_excel('./Downloads/melon.xlsx', index=False)"
   ]
  },
  {
   "cell_type": "code",
   "execution_count": 8,
   "id": "a42d7231",
   "metadata": {},
   "outputs": [],
   "source": [
    "url = 'https://music.bugs.co.kr/chart'\n",
    "driver.get(url)\n",
    "\n",
    "html = driver.page_source\n",
    "soup = BeautifulSoup(html, 'html.parser')"
   ]
  },
  {
   "cell_type": "code",
   "execution_count": 13,
   "id": "260a4e72",
   "metadata": {},
   "outputs": [
    {
     "name": "stdout",
     "output_type": "stream",
     "text": [
      "100\n"
     ]
    }
   ],
   "source": [
    "songs = soup.select('table.byChart > tbody > tr')\n",
    "print(len(songs))"
   ]
  },
  {
   "cell_type": "code",
   "execution_count": 16,
   "id": "8328ad12",
   "metadata": {},
   "outputs": [],
   "source": [
    "song_data = []\n",
    "rank = 1\n",
    "for song in songs:\n",
    "    title = song.select('p.title > a')[0].text\n",
    "    singer = song.select('p.artist > a')[0].text\n",
    "    song_data.append(['Bugs', rank, title, singer])\n",
    "    rank = rank + 1"
   ]
  },
  {
   "cell_type": "code",
   "execution_count": 17,
   "id": "e6d9b26b",
   "metadata": {},
   "outputs": [
    {
     "name": "stdout",
     "output_type": "stream",
     "text": [
      "<class 'pandas.core.frame.DataFrame'>\n",
      "RangeIndex: 100 entries, 0 to 99\n",
      "Data columns (total 4 columns):\n",
      " #   Column  Non-Null Count  Dtype \n",
      "---  ------  --------------  ----- \n",
      " 0   서비스     100 non-null    object\n",
      " 1   순위      100 non-null    int64 \n",
      " 2   제목      100 non-null    object\n",
      " 3   가수      100 non-null    object\n",
      "dtypes: int64(1), object(3)\n",
      "memory usage: 3.2+ KB\n"
     ]
    }
   ],
   "source": [
    "import pandas as pd\n",
    "columns = ['서비스', '순위', '제목', '가수']\n",
    "pd_data = pd.DataFrame(song_data, columns = columns)\n",
    "pd_data.info()"
   ]
  },
  {
   "cell_type": "code",
   "execution_count": 18,
   "id": "d4d8594c",
   "metadata": {},
   "outputs": [],
   "source": [
    "pd_data.to_excel('./Downloads/bugs.xlsx', index=False)"
   ]
  },
  {
   "cell_type": "code",
   "execution_count": 19,
   "id": "911f8817",
   "metadata": {},
   "outputs": [],
   "source": [
    "url = 'https://www.genie.co.kr/chart/top200'\n",
    "driver.get(url)\n",
    "html = driver.page_source\n",
    "soup = BeautifulSoup(html, 'html.parser')"
   ]
  },
  {
   "cell_type": "code",
   "execution_count": 24,
   "id": "d59321dd",
   "metadata": {},
   "outputs": [],
   "source": [
    "song_data = []\n",
    "rank = 1\n",
    "songs = soup.select('tbody > tr')\n",
    "for song in songs:\n",
    "    title = song.select('a.title')[0].text.strip()\n",
    "    singer = song.select('a.artist')[0].text\n",
    "    song_data.append(['Genie', rank, title, singer])\n",
    "    rank = rank + 1"
   ]
  },
  {
   "cell_type": "code",
   "execution_count": 28,
   "id": "8109d667",
   "metadata": {},
   "outputs": [
    {
     "name": "stdout",
     "output_type": "stream",
     "text": [
      "<class 'pandas.core.frame.DataFrame'>\n",
      "RangeIndex: 50 entries, 0 to 49\n",
      "Data columns (total 4 columns):\n",
      " #   Column  Non-Null Count  Dtype \n",
      "---  ------  --------------  ----- \n",
      " 0   서비스     50 non-null     object\n",
      " 1   순위      50 non-null     int64 \n",
      " 2   제목      50 non-null     object\n",
      " 3   가수      50 non-null     object\n",
      "dtypes: int64(1), object(3)\n",
      "memory usage: 1.7+ KB\n"
     ]
    }
   ],
   "source": [
    "import pandas as pd\n",
    "columns = ['서비스', '순위', '제목', '가수']\n",
    "pd_data = pd.DataFrame(song_data, columns = columns)\n",
    "pd_data.to_excel('./Downloads/genie.xlsx', index=False)\n",
    "pd_data.info()"
   ]
  },
  {
   "cell_type": "code",
   "execution_count": 26,
   "id": "8f272e69",
   "metadata": {},
   "outputs": [
    {
     "name": "stdout",
     "output_type": "stream",
     "text": [
      "<class 'pandas.core.frame.DataFrame'>\n",
      "Int64Index: 250 entries, 0 to 49\n",
      "Data columns (total 4 columns):\n",
      " #   Column  Non-Null Count  Dtype \n",
      "---  ------  --------------  ----- \n",
      " 0   서비스     250 non-null    object\n",
      " 1   순위      250 non-null    int64 \n",
      " 2   제목      250 non-null    object\n",
      " 3   가수      250 non-null    object\n",
      "dtypes: int64(1), object(3)\n",
      "memory usage: 9.8+ KB\n"
     ]
    }
   ],
   "source": [
    "import pandas as pd\n",
    "excel_names = ['./Downloads/melon.xlsx', './Downloads/bugs.xlsx', './Downloads/genie.xlsx']\n",
    "appended_data = pd.DataFrame()\n",
    "for name in excel_names:\n",
    "    pd_data = pd.read_excel(name)\n",
    "    appended_data = appended_data.append(pd_data)\n",
    "appended_data.info()"
   ]
  },
  {
   "cell_type": "code",
   "execution_count": 27,
   "id": "197a55fd",
   "metadata": {},
   "outputs": [],
   "source": [
    "appended_data.to_excel('./Downloads/total.xlsx', index=False)"
   ]
  },
  {
   "cell_type": "code",
   "execution_count": 29,
   "id": "f2e55e60",
   "metadata": {},
   "outputs": [
    {
     "name": "stdout",
     "output_type": "stream",
     "text": [
      "\n"
     ]
    },
    {
     "name": "stderr",
     "output_type": "stream",
     "text": [
      "[WDM] - ====== WebDriver manager ======\n",
      "[WDM] - Current google-chrome version is 103.0.5060\n",
      "[WDM] - Get LATEST chromedriver version for 103.0.5060 google-chrome\n",
      "[WDM] - Driver [C:\\Users\\keb20\\.wdm\\drivers\\chromedriver\\win32\\103.0.5060.134\\chromedriver.exe] found in cache\n"
     ]
    }
   ],
   "source": [
    "from selenium import webdriver\n",
    "from selenium.webdriver.common.by import By\n",
    "from selenium.webdriver.chrome.service import Service\n",
    "from webdriver_manager.chrome import ChromeDriverManager\n",
    "driver = webdriver.Chrome(service=Service(ChromeDriverManager().install()))\n",
    "\n",
    "url = 'https://youtube-rank.com/board/bbs/board.php?bo_table=youtube'\n",
    "driver.get(url)\n",
    "\n",
    "from bs4 import BeautifulSoup\n",
    "import time\n",
    "import pandas as pd\n",
    "\n",
    "html = driver.page_source\n",
    "soup = BeautifulSoup(html, 'html.parser')"
   ]
  },
  {
   "cell_type": "code",
   "execution_count": 31,
   "id": "be18f784",
   "metadata": {},
   "outputs": [
    {
     "name": "stdout",
     "output_type": "stream",
     "text": [
      "100 \n",
      "\n",
      "<tr class=\"aos-init aos-animate\" data-aos=\"fade-up\" data-aos-duration=\"800\">\n",
      "<td class=\"rank\">\n",
      "                        1                    </td>\n",
      "<td class=\"td_img\">\n",
      "<div class=\"info_img\"><a href=\"https://youtube-rank.com/board/bbs/board.php?bo_table=youtube&amp;wr_id=3203\"><img class=\"lazyload\" data-src=\"https://yt3.ggpht.com/ytc/AKedOLQkveNLp6kr6R_J-uhi_Zl-MyAXGZ1RqT2qvdJ58g=s88-c-k-c0x00ffffff-no-rj-mo\" height=\"88\" src=\"https://yt3.ggpht.com/ytc/AKedOLQkveNLp6kr6R_J-uhi_Zl-MyAXGZ1RqT2qvdJ58g=s88-c-k-c0x00ffffff-no-rj-mo\" width=\"88\"/></a></div>\n",
      "<p class=\"info_rank\">1</p>\n",
      "</td>\n",
      "<td class=\"subject\">\n",
      "<h1>\n",
      "<p <a=\"\" class=\"category\" href=\"https://youtube-rank.com/board/bbs/board.php?bo_table=youtube&amp;sca=%EC%9D%8C%EC%95%85%2F%EB%8C%84%EC%8A%A4%2F%EA%B0%80%EC%88%98\">[음악/댄스/가수]\n",
      "                                \n",
      "                                </p>\n",
      "<a href=\"https://youtube-rank.com/board/bbs/board.php?bo_table=youtube&amp;wr_id=3203\">\n",
      "\t\t\t\t\t\t\t\t\n",
      "\t\t\t\t\t\t\t\tBLACKPINK\t\t\t\t\t\t\t</a>\n",
      "<span>\n",
      "<i class=\"fa fa-comment\"></i>\n",
      "\t\t\t\t\t\t\t\t1\t\t\t\t\t\t\t</span>\n",
      "<i aria-hidden=\"true\" class=\"fa fa-heart\"></i> </h1>\n",
      "<h2><span><a href=\"https://youtube-rank.com/board/bbs/board.php?bo_table=youtube&amp;wr_id=3203\">\"YG Entertainment\" YG 와이지 K-pop BLACKPINK 블랙핑크 블핑 제니 로제 리사 지수 Lisa Jisoo Jennie ...</a></span></h2>\n",
      "<h3>\n",
      "<i class=\"fa fa-user\"></i>\n",
      "                            7550만<i class=\"fa fa-play\"></i>244억4927만                            <i class=\"fa fa-video-camera\"></i>\n",
      "                            395                            <i class=\"fa fa-eye\"></i>\n",
      "                            21,813                        </h3>\n",
      "</td>\n",
      "<td class=\"subscriber_cnt\">7550만</td>\n",
      "<td class=\"view_cnt\">244억4927만</td>\n",
      "<td class=\"video_cnt\">395개</td>\n",
      "<td class=\"hit\">\n",
      "<strong>21,813</strong>\n",
      "<span>HIT</span>\n",
      "</td>\n",
      "</tr>\n"
     ]
    }
   ],
   "source": [
    "channel_list = soup.select('form > table > tbody > tr')\n",
    "print(len(channel_list), '\\n')\n",
    "print(channel_list[0])"
   ]
  },
  {
   "cell_type": "code",
   "execution_count": 33,
   "id": "1fc1813c",
   "metadata": {},
   "outputs": [
    {
     "name": "stdout",
     "output_type": "stream",
     "text": [
      "[음악/댄스/가수]\n"
     ]
    }
   ],
   "source": [
    "channel = channel_list[0]\n",
    "category = channel.select('p.category')[0].text.strip()\n",
    "print(category)"
   ]
  },
  {
   "cell_type": "code",
   "execution_count": 34,
   "id": "cb20eea3",
   "metadata": {},
   "outputs": [
    {
     "name": "stdout",
     "output_type": "stream",
     "text": [
      "BLACKPINK\n"
     ]
    }
   ],
   "source": [
    "title = channel.select('h1 > a')[0].text.strip()\n",
    "print(title)"
   ]
  },
  {
   "cell_type": "code",
   "execution_count": 35,
   "id": "8bea977d",
   "metadata": {},
   "outputs": [
    {
     "name": "stdout",
     "output_type": "stream",
     "text": [
      "7550만\n",
      "244억4927만\n",
      "395개\n"
     ]
    }
   ],
   "source": [
    "subscriber = channel.select('.subscriber_cnt')[0].text\n",
    "view = channel.select('.view_cnt')[0].text\n",
    "video = channel.select('.video_cnt')[0].text\n",
    "\n",
    "print(subscriber)\n",
    "print(view)\n",
    "print(video)"
   ]
  },
  {
   "cell_type": "code",
   "execution_count": 40,
   "id": "098c406d",
   "metadata": {},
   "outputs": [
    {
     "name": "stdout",
     "output_type": "stream",
     "text": [
      "BLACKPINK [음악/댄스/가수] 7550만 244억4927만 395개\n",
      "BANGTANTV [음악/댄스/가수] 6960만 173억0169만 1,762개\n",
      "HYBE LABELS [음악/댄스/가수] 6770만 237억8669만 960개\n",
      "SMTOWN [음악/댄스/가수] 3070만 250억8378만 3,944개\n",
      "Boram Tube Vlog [보람튜브 브이로그] [키즈/어린이] 2650만 110억5288만 223개\n",
      "1MILLION Dance Studio [음악/댄스/가수] 2540만 73억8387만 4,190개\n",
      "JYP Entertainment [음악/댄스/가수] 2510만 170억2490만 1,496개\n",
      "1theK (원더케이) [음악/댄스/가수] 2420만 225억2200만 16,872개\n",
      "Charlie Puth [미분류] 2060만 85억2861만 131개\n",
      "Mnet K-POP [음악/댄스/가수] 1980만 153억2564만 28,924개\n",
      "Jimmy Kimmel Live [미분류] 1880만 124억5428만 6,058개\n",
      "KBS WORLD TV [TV/방송] 1810만 138억6176만 58,191개\n",
      "JFlaMusic [음악/댄스/가수] 1760만 36억4961만 282개\n",
      "officialpsy [음악/댄스/가수] 1730만 97억6411만 119개\n",
      "Jane ASMR 제인 [음식/요리/레시피] 1670만 64억0197만 1,530개\n",
      "BIGBANG [음악/댄스/가수] 1480만 73억2887만 776개\n",
      "TWICE [음악/댄스/가수] 1420만 36억6437만 848개\n",
      "Hongyu ASMR 홍유 [음식/요리/레시피] 1360만 42억3307만 506개\n",
      "Kendrick Lamar [미분류] 1110만 47억9802만 18개\n",
      "핑크퐁 (인기 동요・동화) [키즈/어린이] 1080만 66억1509만 2,704개\n",
      "TheWeekndVEVO [미분류] 1060만 149억4736만 133개\n",
      "Nao FunFun [키즈/어린이] 1060만 485만 57개\n",
      "DuDuPopTOY [키즈/어린이] 1050만 48억1561만 2,169개\n",
      "Stone Music Entertainment [음악/댄스/가수] 1040만 89억0192만 8,943개\n",
      "Toymong tv 토이몽TV [키즈/어린이] 1030만 42억6184만 2,090개\n",
      "[햄지]Hamzy [음식/요리/레시피] 1000만 31억8896만 444개\n",
      "Stray Kids [음악/댄스/가수] 1000만 19억7741만 614개\n",
      "MBCkpop [TV/방송] 993만 81억9455만 43,362개\n",
      "Larva TUBA [키즈/어린이] 979만 43억4036만 2,249개\n",
      "TOMORROW X TOGETHER OFFICIAL [음악/댄스/가수] 947만 8억5261만 1,142개\n",
      "서은이야기[SeoeunStory] [키즈/어린이] 944만 32억6817만 1,105개\n",
      "Mnet TV [음악/댄스/가수] 890만 108억6966만 20,300개\n",
      "EXO [음악/댄스/가수] 887만 6억5910만 276개\n",
      "MBCentertainment [뉴스/정치/사회] 879만 160억1494만 92,432개\n",
      "iKON [음악/댄스/가수] 869만 23억3390만 570개\n",
      "M2 [TV/방송] 849만 68억8785만 16,801개\n",
      "쏘영 Ssoyoung [음식/요리/레시피] 838만 10억1376만 621개\n",
      "Serie A [해외] 828만 29억6957만 23,115개\n",
      "SEVENTEEN [음악/댄스/가수] 809만 29억9586만 1,195개\n",
      "문복희 Eat with Boki [음식/요리/레시피] 806만 20억5159만 591개\n",
      "이지금 [IU Official] [음악/댄스/가수] 779만 16억0216만 148개\n",
      "MariAndKids [키즈/어린이] 762만 23억5649만 810개\n",
      "ITZY [음악/댄스/가수] 748만 16억0934만 724개\n",
      "JTBC Entertainment [뉴스/정치/사회] 741만 109억6418만 71,936개\n",
      "SonicToy소닉토이 [키즈/어린이] 731만 30억9140만 166개\n",
      "KBS Kpop [TV/방송] 710만 58억6703만 34,292개\n",
      "Sungha Jung [음악/댄스/가수] 695만 19억3763만 1,333개\n",
      "야미보이 Yummyboy [음식/요리/레시피] 688만 26억8058만 974개\n",
      "Pixar [미분류] 681만 34억4852만 749개\n",
      "스브스케이팝 / SBS KPOP [TV/방송] 676만 50억2637만 30,573개\n",
      "YG ENTERTAINMENT [음악/댄스/가수] 676만 17억1996만 397개\n",
      "ALL THE K-POP [음악/댄스/가수] 672만 42억9351만 23,567개\n",
      "MAMAMOO [음악/댄스/가수] 671만 20억7297만 714개\n",
      "tzuyang쯔양 [음식/요리/레시피] 666만 13억2093만 402개\n",
      "SBS Entertainment [TV/방송] 647만 80억1399만 222,299개\n",
      "ENHYPEN [미분류] 644만 8억2900만 578개\n",
      "미니특공대TV [키즈/어린이] 641만 36억1379만 1,298개\n",
      "tvN drama [TV/방송] 633만 68억6017만 43,358개\n",
      "[장난감티비]TOYTV [키즈/어린이] 627만 29억0728만 1,557개\n",
      "GOT7 [음악/댄스/가수] 626만 8억4007만 579개\n",
      "SBS Drama [TV/방송] 622만 66억6420만 343,226개\n",
      "TREASURE (트레저) [음악/댄스/가수] 619만 14억8819만 477개\n",
      "Samsung [회사/오피셜] 616만 16억1563만 1,748개\n",
      "PONY Syndrome [패션/미용] 595만 3억5739만 218개\n",
      "스위트티비 SweetTV [키즈/어린이] 561만 27억9226만 488개\n",
      "2NE1 [음악/댄스/가수] 552만 21억1222만 321개\n",
      "백종원의 요리비책 Paik's Cuisine [음식/요리/레시피] 543만 6억9389만 449개\n",
      "starshipTV [음악/댄스/가수] 542만 33억3783만 2,057개\n",
      "With Kids Playground [위드키즈 놀이터] [키즈/어린이] 537만 20억2975만 432개\n",
      "NCT [음악/댄스/가수] 532만 5억1160만 416개\n",
      "TOY GUMA [키즈/어린이] 525만 17억2168만 337개\n",
      "콩순이 · 시크릿쥬쥬 [Kongsuni · Secret Jouju] [키즈/어린이] 524만 48억1536만 1,347개\n",
      "[Awesome Haeun]어썸하은 [BJ/인물/연예인] 522만 8억5143만 521개\n",
      "베이비버스 -인기 동요・동화 [키즈/어린이] 518만 35억9361만 1,446개\n",
      "NCT DREAM [음악/댄스/가수] 513만 7억7687만 408개\n",
      "Red Velvet [음악/댄스/가수] 510만 10억0470만 197개\n",
      "영국남자 Korean Englishman [BJ/인물/연예인] 508만 16억9781만 473개\n",
      "푸메Fume [음식/요리/레시피] 506만 10억7960만 577개\n",
      "SBS NOW / SBS 공식 채널 [뉴스/정치/사회] 503만 52억3501만 21,864개\n",
      "HUBA후바 [미분류] 497만 38억0019만 303개\n",
      "BT21 [음악/댄스/가수] 494만 4억3395만 252개\n",
      "ToyMart TV [키즈/어린이] 487만 21억5004만 652개\n",
      "MayTree [미분류] 486만 9억4502만 169개\n",
      "KBS Entertain [TV/방송] 485만 82억2903만 108,848개\n",
      "Rosesarerosie [음악/댄스/가수] 477만 4485만 9개\n",
      "MBCdrama [TV/방송] 476만 54억4499만 57,215개\n",
      "ASTRO 아스트로 [음악/댄스/가수] 474만 5억1585만 565개\n",
      "떵개떵 [음식/요리/레시피] 474만 27억8481만 4,656개\n",
      "NCT 127 [음악/댄스/가수] 469만 6억3848만 332개\n",
      "미니팡TV [키즈/어린이] 468만 31억4701만 798개\n",
      "SBS TV동물농장x애니멀봐 [애완/반려동물] 461만 42억6780만 3,609개\n",
      "뽀로로(Pororo) [키즈/어린이] 460만 64억3168만 3,906개\n",
      "JTBC Drama [TV/방송] 458만 47억9930만 25,837개\n",
      "5 분 Tricks [음식/요리/레시피] 456만 17억0640만 3,810개\n",
      "Cooking tree 쿠킹트리 [음식/요리/레시피] 454만 4억4419만 1,294개\n",
      "까니짱 [ G-NI ] [음식/요리/레시피] 451만 12억6387만 647개\n",
      "채널 NCT DAILY [TV/방송] 444만 8억1663만 467개\n",
      "채널 십오야 [TV/방송] 442만 9억6309만 602개\n",
      "CoCosToy 꼬꼬스토이 [키즈/어린이] 440만 26억0784만 613개\n",
      "하루한끼 one meal a day [음식/요리/레시피] 439만 4억4981만 196개\n"
     ]
    }
   ],
   "source": [
    "channel_list = soup.select('form > table > tbody > tr')\n",
    "for channel in channel_list:\n",
    "    title = channel.select('h1 > a')[0].text.strip()\n",
    "    category = channel.select('p.category')[0].text.strip()\n",
    "    subscriber = channel.select('.subscriber_cnt')[0].text\n",
    "    view = channel.select('.view_cnt')[0].text\n",
    "    video = channel.select('.video_cnt')[0].text\n",
    "    print(title, category, subscriber, view, video)"
   ]
  },
  {
   "cell_type": "code",
   "execution_count": 43,
   "id": "03b6296d",
   "metadata": {},
   "outputs": [
    {
     "name": "stdout",
     "output_type": "stream",
     "text": [
      "\n"
     ]
    },
    {
     "name": "stderr",
     "output_type": "stream",
     "text": [
      "[WDM] - ====== WebDriver manager ======\n",
      "[WDM] - Current google-chrome version is 103.0.5060\n",
      "[WDM] - Get LATEST chromedriver version for 103.0.5060 google-chrome\n",
      "[WDM] - Driver [C:\\Users\\keb20\\.wdm\\drivers\\chromedriver\\win32\\103.0.5060.134\\chromedriver.exe] found in cache\n"
     ]
    }
   ],
   "source": [
    "from selenium import webdriver\n",
    "from selenium.webdriver.common.by import By\n",
    "from selenium.webdriver.chrome.service import Service\n",
    "from webdriver_manager.chrome import ChromeDriverManager\n",
    "driver = webdriver.Chrome(service=Service(ChromeDriverManager().install()))\n",
    "from bs4 import BeautifulSoup\n",
    "import time\n",
    "import pandas as pd\n",
    "\n",
    "results = []\n",
    "for page in range(1, 11):\n",
    "    url = f\"https://youtube-rank.com/board/bbs/board.php?bo_table=youtube&page={page}\"\n",
    "    driver.get(url)\n",
    "    html = driver.page_source\n",
    "    soup = BeautifulSoup(html, 'html.parser')\n",
    "    channel_list = soup.select('form > table > tbody > tr')\n",
    "    for channel in channel_list:\n",
    "        title = channel.select('h1 > a')[0].text.strip()\n",
    "        category = channel.select('p.category')[0].text.strip()\n",
    "        subscriber = channel.select('.subscriber_cnt')[0].text\n",
    "        view = channel.select('.view_cnt')[0].text\n",
    "        video = channel.select('.video_cnt')[0].text\n",
    "        data = [title, category, subscriber, view, video]\n",
    "        results.append(data)\n",
    "        \n",
    "df = pd.DataFrame(results)\n",
    "df.columns = ['title', 'category', 'subscriber', 'view', 'video']\n",
    "df.to_excel('./Downloads/youtube_rank.xlsx', index = False)"
   ]
  },
  {
   "cell_type": "code",
   "execution_count": 44,
   "id": "a16b2758",
   "metadata": {},
   "outputs": [],
   "source": [
    "import pandas as pd\n",
    "import matplotlib.pyplot as plt"
   ]
  },
  {
   "cell_type": "code",
   "execution_count": 46,
   "id": "1f82ba7b",
   "metadata": {},
   "outputs": [],
   "source": [
    "from matplotlib import font_manager, rc\n",
    "import platform\n",
    "if platform.system() == 'Windows':\n",
    "    path = 'c:/Windows/Fonts/malgun.ttf'\n",
    "    font_name= font_manager.FontProperties(fname=path).get_name()\n",
    "    rc('font', family= font_name)\n",
    "elif platform.system() == 'Darwin':\n",
    "    rc('font', family='AppleGothic')\n",
    "else:\n",
    "    print('Check your OS system')"
   ]
  },
  {
   "cell_type": "code",
   "execution_count": 47,
   "id": "7230a0fb",
   "metadata": {},
   "outputs": [
    {
     "data": {
      "text/html": [
       "<div>\n",
       "<style scoped>\n",
       "    .dataframe tbody tr th:only-of-type {\n",
       "        vertical-align: middle;\n",
       "    }\n",
       "\n",
       "    .dataframe tbody tr th {\n",
       "        vertical-align: top;\n",
       "    }\n",
       "\n",
       "    .dataframe thead th {\n",
       "        text-align: right;\n",
       "    }\n",
       "</style>\n",
       "<table border=\"1\" class=\"dataframe\">\n",
       "  <thead>\n",
       "    <tr style=\"text-align: right;\">\n",
       "      <th></th>\n",
       "      <th>title</th>\n",
       "      <th>category</th>\n",
       "      <th>subscriber</th>\n",
       "      <th>view</th>\n",
       "      <th>video</th>\n",
       "    </tr>\n",
       "  </thead>\n",
       "  <tbody>\n",
       "    <tr>\n",
       "      <th>0</th>\n",
       "      <td>BLACKPINK</td>\n",
       "      <td>[음악/댄스/가수]</td>\n",
       "      <td>7550만</td>\n",
       "      <td>244억4927만</td>\n",
       "      <td>395개</td>\n",
       "    </tr>\n",
       "    <tr>\n",
       "      <th>1</th>\n",
       "      <td>BANGTANTV</td>\n",
       "      <td>[음악/댄스/가수]</td>\n",
       "      <td>6960만</td>\n",
       "      <td>173억0169만</td>\n",
       "      <td>1,762개</td>\n",
       "    </tr>\n",
       "    <tr>\n",
       "      <th>2</th>\n",
       "      <td>HYBE LABELS</td>\n",
       "      <td>[음악/댄스/가수]</td>\n",
       "      <td>6770만</td>\n",
       "      <td>237억8669만</td>\n",
       "      <td>960개</td>\n",
       "    </tr>\n",
       "    <tr>\n",
       "      <th>3</th>\n",
       "      <td>SMTOWN</td>\n",
       "      <td>[음악/댄스/가수]</td>\n",
       "      <td>3070만</td>\n",
       "      <td>250억8378만</td>\n",
       "      <td>3,944개</td>\n",
       "    </tr>\n",
       "    <tr>\n",
       "      <th>4</th>\n",
       "      <td>Boram Tube Vlog [보람튜브 브이로그]</td>\n",
       "      <td>[키즈/어린이]</td>\n",
       "      <td>2650만</td>\n",
       "      <td>110억5288만</td>\n",
       "      <td>223개</td>\n",
       "    </tr>\n",
       "  </tbody>\n",
       "</table>\n",
       "</div>"
      ],
      "text/plain": [
       "                         title    category subscriber       view   video\n",
       "0                    BLACKPINK  [음악/댄스/가수]      7550만  244억4927만    395개\n",
       "1                    BANGTANTV  [음악/댄스/가수]      6960만  173억0169만  1,762개\n",
       "2                  HYBE LABELS  [음악/댄스/가수]      6770만  237억8669만    960개\n",
       "3                       SMTOWN  [음악/댄스/가수]      3070만  250억8378만  3,944개\n",
       "4  Boram Tube Vlog [보람튜브 브이로그]    [키즈/어린이]      2650만  110억5288만    223개"
      ]
     },
     "execution_count": 47,
     "metadata": {},
     "output_type": "execute_result"
    }
   ],
   "source": [
    "df = pd.read_excel('./Downloads/youtube_rank.xlsx')\n",
    "df.head()"
   ]
  },
  {
   "cell_type": "code",
   "execution_count": 48,
   "id": "c0d51fa9",
   "metadata": {},
   "outputs": [
    {
     "data": {
      "text/html": [
       "<div>\n",
       "<style scoped>\n",
       "    .dataframe tbody tr th:only-of-type {\n",
       "        vertical-align: middle;\n",
       "    }\n",
       "\n",
       "    .dataframe tbody tr th {\n",
       "        vertical-align: top;\n",
       "    }\n",
       "\n",
       "    .dataframe thead th {\n",
       "        text-align: right;\n",
       "    }\n",
       "</style>\n",
       "<table border=\"1\" class=\"dataframe\">\n",
       "  <thead>\n",
       "    <tr style=\"text-align: right;\">\n",
       "      <th></th>\n",
       "      <th>title</th>\n",
       "      <th>category</th>\n",
       "      <th>subscriber</th>\n",
       "      <th>view</th>\n",
       "      <th>video</th>\n",
       "    </tr>\n",
       "  </thead>\n",
       "  <tbody>\n",
       "    <tr>\n",
       "      <th>995</th>\n",
       "      <td>깨박이</td>\n",
       "      <td>[BJ/인물/연예인]</td>\n",
       "      <td>62만</td>\n",
       "      <td>3억6115만</td>\n",
       "      <td>1,258개</td>\n",
       "    </tr>\n",
       "    <tr>\n",
       "      <th>996</th>\n",
       "      <td>땡깡DanceKang</td>\n",
       "      <td>[미분류]</td>\n",
       "      <td>61만</td>\n",
       "      <td>2억5178만</td>\n",
       "      <td>177개</td>\n",
       "    </tr>\n",
       "    <tr>\n",
       "      <th>997</th>\n",
       "      <td>임선비</td>\n",
       "      <td>[게임]</td>\n",
       "      <td>61만</td>\n",
       "      <td>3억2895만</td>\n",
       "      <td>1,115개</td>\n",
       "    </tr>\n",
       "    <tr>\n",
       "      <th>998</th>\n",
       "      <td>춤추는곰돌</td>\n",
       "      <td>[미분류]</td>\n",
       "      <td>61만</td>\n",
       "      <td>3억3547만</td>\n",
       "      <td>2,505개</td>\n",
       "    </tr>\n",
       "    <tr>\n",
       "      <th>999</th>\n",
       "      <td>브레이너 제이의 숙면 여행</td>\n",
       "      <td>[국내/해외/여행]</td>\n",
       "      <td>61만</td>\n",
       "      <td>9831만</td>\n",
       "      <td>158개</td>\n",
       "    </tr>\n",
       "  </tbody>\n",
       "</table>\n",
       "</div>"
      ],
      "text/plain": [
       "              title     category subscriber     view   video\n",
       "995             깨박이  [BJ/인물/연예인]        62만  3억6115만  1,258개\n",
       "996     땡깡DanceKang        [미분류]        61만  2억5178만    177개\n",
       "997             임선비         [게임]        61만  3억2895만  1,115개\n",
       "998           춤추는곰돌        [미분류]        61만  3억3547만  2,505개\n",
       "999  브레이너 제이의 숙면 여행   [국내/해외/여행]        61만    9831만    158개"
      ]
     },
     "execution_count": 48,
     "metadata": {},
     "output_type": "execute_result"
    }
   ],
   "source": [
    "df.tail()"
   ]
  },
  {
   "cell_type": "code",
   "execution_count": 49,
   "id": "ec179ba8",
   "metadata": {},
   "outputs": [
    {
     "data": {
      "text/plain": [
       "0    7550만\n",
       "1    6960만\n",
       "2    6770만\n",
       "3    3070만\n",
       "4    2650만\n",
       "5    2540만\n",
       "6    2510만\n",
       "7    2420만\n",
       "8    2060만\n",
       "9    1980만\n",
       "Name: subscriber, dtype: object"
      ]
     },
     "execution_count": 49,
     "metadata": {},
     "output_type": "execute_result"
    }
   ],
   "source": [
    "df['subscriber'][0:10]"
   ]
  },
  {
   "cell_type": "code",
   "execution_count": 50,
   "id": "9d154f22",
   "metadata": {},
   "outputs": [
    {
     "data": {
      "text/plain": [
       "0    75500000\n",
       "1    69600000\n",
       "2    67700000\n",
       "3    30700000\n",
       "4    26500000\n",
       "5    25400000\n",
       "6    25100000\n",
       "7    24200000\n",
       "8    20600000\n",
       "9    19800000\n",
       "Name: subscriber, dtype: object"
      ]
     },
     "execution_count": 50,
     "metadata": {},
     "output_type": "execute_result"
    }
   ],
   "source": [
    "df['subscriber'].str.replace('만', '0000')[0:10]"
   ]
  },
  {
   "cell_type": "code",
   "execution_count": 51,
   "id": "fbc7868b",
   "metadata": {},
   "outputs": [
    {
     "data": {
      "text/html": [
       "<div>\n",
       "<style scoped>\n",
       "    .dataframe tbody tr th:only-of-type {\n",
       "        vertical-align: middle;\n",
       "    }\n",
       "\n",
       "    .dataframe tbody tr th {\n",
       "        vertical-align: top;\n",
       "    }\n",
       "\n",
       "    .dataframe thead th {\n",
       "        text-align: right;\n",
       "    }\n",
       "</style>\n",
       "<table border=\"1\" class=\"dataframe\">\n",
       "  <thead>\n",
       "    <tr style=\"text-align: right;\">\n",
       "      <th></th>\n",
       "      <th>title</th>\n",
       "      <th>category</th>\n",
       "      <th>subscriber</th>\n",
       "      <th>view</th>\n",
       "      <th>video</th>\n",
       "      <th>replaced_subscriber</th>\n",
       "    </tr>\n",
       "  </thead>\n",
       "  <tbody>\n",
       "    <tr>\n",
       "      <th>0</th>\n",
       "      <td>BLACKPINK</td>\n",
       "      <td>[음악/댄스/가수]</td>\n",
       "      <td>7550만</td>\n",
       "      <td>244억4927만</td>\n",
       "      <td>395개</td>\n",
       "      <td>75500000</td>\n",
       "    </tr>\n",
       "    <tr>\n",
       "      <th>1</th>\n",
       "      <td>BANGTANTV</td>\n",
       "      <td>[음악/댄스/가수]</td>\n",
       "      <td>6960만</td>\n",
       "      <td>173억0169만</td>\n",
       "      <td>1,762개</td>\n",
       "      <td>69600000</td>\n",
       "    </tr>\n",
       "    <tr>\n",
       "      <th>2</th>\n",
       "      <td>HYBE LABELS</td>\n",
       "      <td>[음악/댄스/가수]</td>\n",
       "      <td>6770만</td>\n",
       "      <td>237억8669만</td>\n",
       "      <td>960개</td>\n",
       "      <td>67700000</td>\n",
       "    </tr>\n",
       "    <tr>\n",
       "      <th>3</th>\n",
       "      <td>SMTOWN</td>\n",
       "      <td>[음악/댄스/가수]</td>\n",
       "      <td>3070만</td>\n",
       "      <td>250억8378만</td>\n",
       "      <td>3,944개</td>\n",
       "      <td>30700000</td>\n",
       "    </tr>\n",
       "    <tr>\n",
       "      <th>4</th>\n",
       "      <td>Boram Tube Vlog [보람튜브 브이로그]</td>\n",
       "      <td>[키즈/어린이]</td>\n",
       "      <td>2650만</td>\n",
       "      <td>110억5288만</td>\n",
       "      <td>223개</td>\n",
       "      <td>26500000</td>\n",
       "    </tr>\n",
       "  </tbody>\n",
       "</table>\n",
       "</div>"
      ],
      "text/plain": [
       "                         title    category subscriber       view   video  \\\n",
       "0                    BLACKPINK  [음악/댄스/가수]      7550만  244억4927만    395개   \n",
       "1                    BANGTANTV  [음악/댄스/가수]      6960만  173억0169만  1,762개   \n",
       "2                  HYBE LABELS  [음악/댄스/가수]      6770만  237억8669만    960개   \n",
       "3                       SMTOWN  [음악/댄스/가수]      3070만  250억8378만  3,944개   \n",
       "4  Boram Tube Vlog [보람튜브 브이로그]    [키즈/어린이]      2650만  110억5288만    223개   \n",
       "\n",
       "  replaced_subscriber  \n",
       "0            75500000  \n",
       "1            69600000  \n",
       "2            67700000  \n",
       "3            30700000  \n",
       "4            26500000  "
      ]
     },
     "execution_count": 51,
     "metadata": {},
     "output_type": "execute_result"
    }
   ],
   "source": [
    "df['replaced_subscriber'] = df['subscriber'].str.replace('만', '0000')\n",
    "df.head()"
   ]
  },
  {
   "cell_type": "code",
   "execution_count": 52,
   "id": "bb46cc8f",
   "metadata": {},
   "outputs": [
    {
     "name": "stdout",
     "output_type": "stream",
     "text": [
      "<class 'pandas.core.frame.DataFrame'>\n",
      "RangeIndex: 1000 entries, 0 to 999\n",
      "Data columns (total 6 columns):\n",
      " #   Column               Non-Null Count  Dtype \n",
      "---  ------               --------------  ----- \n",
      " 0   title                1000 non-null   object\n",
      " 1   category             1000 non-null   object\n",
      " 2   subscriber           1000 non-null   object\n",
      " 3   view                 1000 non-null   object\n",
      " 4   video                1000 non-null   object\n",
      " 5   replaced_subscriber  1000 non-null   int32 \n",
      "dtypes: int32(1), object(5)\n",
      "memory usage: 43.1+ KB\n"
     ]
    }
   ],
   "source": [
    "df['replaced_subscriber'] = df['replaced_subscriber'].astype('int')\n",
    "df.info()"
   ]
  },
  {
   "cell_type": "code",
   "execution_count": 53,
   "id": "4b8c0845",
   "metadata": {},
   "outputs": [
    {
     "data": {
      "text/html": [
       "<div>\n",
       "<style scoped>\n",
       "    .dataframe tbody tr th:only-of-type {\n",
       "        vertical-align: middle;\n",
       "    }\n",
       "\n",
       "    .dataframe tbody tr th {\n",
       "        vertical-align: top;\n",
       "    }\n",
       "\n",
       "    .dataframe thead tr th {\n",
       "        text-align: left;\n",
       "    }\n",
       "\n",
       "    .dataframe thead tr:last-of-type th {\n",
       "        text-align: right;\n",
       "    }\n",
       "</style>\n",
       "<table border=\"1\" class=\"dataframe\">\n",
       "  <thead>\n",
       "    <tr>\n",
       "      <th></th>\n",
       "      <th>sum</th>\n",
       "      <th>count</th>\n",
       "    </tr>\n",
       "    <tr>\n",
       "      <th></th>\n",
       "      <th>replaced_subscriber</th>\n",
       "      <th>replaced_subscriber</th>\n",
       "    </tr>\n",
       "    <tr>\n",
       "      <th>category</th>\n",
       "      <th></th>\n",
       "      <th></th>\n",
       "    </tr>\n",
       "  </thead>\n",
       "  <tbody>\n",
       "    <tr>\n",
       "      <th>[BJ/인물/연예인]</th>\n",
       "      <td>98160000</td>\n",
       "      <td>63</td>\n",
       "    </tr>\n",
       "    <tr>\n",
       "      <th>[IT/기술/컴퓨터]</th>\n",
       "      <td>8650000</td>\n",
       "      <td>7</td>\n",
       "    </tr>\n",
       "    <tr>\n",
       "      <th>[TV/방송]</th>\n",
       "      <td>257070000</td>\n",
       "      <td>136</td>\n",
       "    </tr>\n",
       "    <tr>\n",
       "      <th>[게임]</th>\n",
       "      <td>67480000</td>\n",
       "      <td>60</td>\n",
       "    </tr>\n",
       "    <tr>\n",
       "      <th>[교육/강의]</th>\n",
       "      <td>26540000</td>\n",
       "      <td>21</td>\n",
       "    </tr>\n",
       "  </tbody>\n",
       "</table>\n",
       "</div>"
      ],
      "text/plain": [
       "                            sum               count\n",
       "            replaced_subscriber replaced_subscriber\n",
       "category                                           \n",
       "[BJ/인물/연예인]            98160000                  63\n",
       "[IT/기술/컴퓨터]             8650000                   7\n",
       "[TV/방송]               257070000                 136\n",
       "[게임]                   67480000                  60\n",
       "[교육/강의]                26540000                  21"
      ]
     },
     "execution_count": 53,
     "metadata": {},
     "output_type": "execute_result"
    }
   ],
   "source": [
    "pivot_df = df.pivot_table(index = 'category', values = 'replaced_subscriber', aggfunc = ['sum', 'count'])\n",
    "pivot_df.head()"
   ]
  },
  {
   "cell_type": "code",
   "execution_count": 54,
   "id": "51d62045",
   "metadata": {},
   "outputs": [
    {
     "data": {
      "text/html": [
       "<div>\n",
       "<style scoped>\n",
       "    .dataframe tbody tr th:only-of-type {\n",
       "        vertical-align: middle;\n",
       "    }\n",
       "\n",
       "    .dataframe tbody tr th {\n",
       "        vertical-align: top;\n",
       "    }\n",
       "\n",
       "    .dataframe thead th {\n",
       "        text-align: right;\n",
       "    }\n",
       "</style>\n",
       "<table border=\"1\" class=\"dataframe\">\n",
       "  <thead>\n",
       "    <tr style=\"text-align: right;\">\n",
       "      <th></th>\n",
       "      <th>subscriber_sum</th>\n",
       "      <th>category_count</th>\n",
       "    </tr>\n",
       "    <tr>\n",
       "      <th>category</th>\n",
       "      <th></th>\n",
       "      <th></th>\n",
       "    </tr>\n",
       "  </thead>\n",
       "  <tbody>\n",
       "    <tr>\n",
       "      <th>[BJ/인물/연예인]</th>\n",
       "      <td>98160000</td>\n",
       "      <td>63</td>\n",
       "    </tr>\n",
       "    <tr>\n",
       "      <th>[IT/기술/컴퓨터]</th>\n",
       "      <td>8650000</td>\n",
       "      <td>7</td>\n",
       "    </tr>\n",
       "    <tr>\n",
       "      <th>[TV/방송]</th>\n",
       "      <td>257070000</td>\n",
       "      <td>136</td>\n",
       "    </tr>\n",
       "    <tr>\n",
       "      <th>[게임]</th>\n",
       "      <td>67480000</td>\n",
       "      <td>60</td>\n",
       "    </tr>\n",
       "    <tr>\n",
       "      <th>[교육/강의]</th>\n",
       "      <td>26540000</td>\n",
       "      <td>21</td>\n",
       "    </tr>\n",
       "  </tbody>\n",
       "</table>\n",
       "</div>"
      ],
      "text/plain": [
       "             subscriber_sum  category_count\n",
       "category                                   \n",
       "[BJ/인물/연예인]        98160000              63\n",
       "[IT/기술/컴퓨터]         8650000               7\n",
       "[TV/방송]           257070000             136\n",
       "[게임]               67480000              60\n",
       "[교육/강의]            26540000              21"
      ]
     },
     "execution_count": 54,
     "metadata": {},
     "output_type": "execute_result"
    }
   ],
   "source": [
    "\n",
    "pivot_df.columns = ['subscriber_sum', 'category_count']\n",
    "pivot_df.head()"
   ]
  },
  {
   "cell_type": "code",
   "execution_count": 55,
   "id": "40b181d8",
   "metadata": {},
   "outputs": [
    {
     "data": {
      "text/html": [
       "<div>\n",
       "<style scoped>\n",
       "    .dataframe tbody tr th:only-of-type {\n",
       "        vertical-align: middle;\n",
       "    }\n",
       "\n",
       "    .dataframe tbody tr th {\n",
       "        vertical-align: top;\n",
       "    }\n",
       "\n",
       "    .dataframe thead th {\n",
       "        text-align: right;\n",
       "    }\n",
       "</style>\n",
       "<table border=\"1\" class=\"dataframe\">\n",
       "  <thead>\n",
       "    <tr style=\"text-align: right;\">\n",
       "      <th></th>\n",
       "      <th>category</th>\n",
       "      <th>subscriber_sum</th>\n",
       "      <th>category_count</th>\n",
       "    </tr>\n",
       "  </thead>\n",
       "  <tbody>\n",
       "    <tr>\n",
       "      <th>0</th>\n",
       "      <td>[BJ/인물/연예인]</td>\n",
       "      <td>98160000</td>\n",
       "      <td>63</td>\n",
       "    </tr>\n",
       "    <tr>\n",
       "      <th>1</th>\n",
       "      <td>[IT/기술/컴퓨터]</td>\n",
       "      <td>8650000</td>\n",
       "      <td>7</td>\n",
       "    </tr>\n",
       "    <tr>\n",
       "      <th>2</th>\n",
       "      <td>[TV/방송]</td>\n",
       "      <td>257070000</td>\n",
       "      <td>136</td>\n",
       "    </tr>\n",
       "    <tr>\n",
       "      <th>3</th>\n",
       "      <td>[게임]</td>\n",
       "      <td>67480000</td>\n",
       "      <td>60</td>\n",
       "    </tr>\n",
       "    <tr>\n",
       "      <th>4</th>\n",
       "      <td>[교육/강의]</td>\n",
       "      <td>26540000</td>\n",
       "      <td>21</td>\n",
       "    </tr>\n",
       "  </tbody>\n",
       "</table>\n",
       "</div>"
      ],
      "text/plain": [
       "      category  subscriber_sum  category_count\n",
       "0  [BJ/인물/연예인]        98160000              63\n",
       "1  [IT/기술/컴퓨터]         8650000               7\n",
       "2      [TV/방송]       257070000             136\n",
       "3         [게임]        67480000              60\n",
       "4      [교육/강의]        26540000              21"
      ]
     },
     "execution_count": 55,
     "metadata": {},
     "output_type": "execute_result"
    }
   ],
   "source": [
    "pivot_df = pivot_df.reset_index()\n",
    "pivot_df.head()"
   ]
  },
  {
   "cell_type": "code",
   "execution_count": 56,
   "id": "61f651c1",
   "metadata": {},
   "outputs": [
    {
     "data": {
      "text/html": [
       "<div>\n",
       "<style scoped>\n",
       "    .dataframe tbody tr th:only-of-type {\n",
       "        vertical-align: middle;\n",
       "    }\n",
       "\n",
       "    .dataframe tbody tr th {\n",
       "        vertical-align: top;\n",
       "    }\n",
       "\n",
       "    .dataframe thead th {\n",
       "        text-align: right;\n",
       "    }\n",
       "</style>\n",
       "<table border=\"1\" class=\"dataframe\">\n",
       "  <thead>\n",
       "    <tr style=\"text-align: right;\">\n",
       "      <th></th>\n",
       "      <th>category</th>\n",
       "      <th>subscriber_sum</th>\n",
       "      <th>category_count</th>\n",
       "    </tr>\n",
       "  </thead>\n",
       "  <tbody>\n",
       "    <tr>\n",
       "      <th>12</th>\n",
       "      <td>[음악/댄스/가수]</td>\n",
       "      <td>769620000</td>\n",
       "      <td>166</td>\n",
       "    </tr>\n",
       "    <tr>\n",
       "      <th>17</th>\n",
       "      <td>[키즈/어린이]</td>\n",
       "      <td>275520000</td>\n",
       "      <td>87</td>\n",
       "    </tr>\n",
       "    <tr>\n",
       "      <th>2</th>\n",
       "      <td>[TV/방송]</td>\n",
       "      <td>257070000</td>\n",
       "      <td>136</td>\n",
       "    </tr>\n",
       "    <tr>\n",
       "      <th>7</th>\n",
       "      <td>[미분류]</td>\n",
       "      <td>228490000</td>\n",
       "      <td>160</td>\n",
       "    </tr>\n",
       "    <tr>\n",
       "      <th>11</th>\n",
       "      <td>[음식/요리/레시피]</td>\n",
       "      <td>203870000</td>\n",
       "      <td>80</td>\n",
       "    </tr>\n",
       "  </tbody>\n",
       "</table>\n",
       "</div>"
      ],
      "text/plain": [
       "       category  subscriber_sum  category_count\n",
       "12   [음악/댄스/가수]       769620000             166\n",
       "17     [키즈/어린이]       275520000              87\n",
       "2       [TV/방송]       257070000             136\n",
       "7         [미분류]       228490000             160\n",
       "11  [음식/요리/레시피]       203870000              80"
      ]
     },
     "execution_count": 56,
     "metadata": {},
     "output_type": "execute_result"
    }
   ],
   "source": [
    "pivot_df = pivot_df.sort_values(by='subscriber_sum', ascending=False)\n",
    "pivot_df.head()"
   ]
  },
  {
   "cell_type": "code",
   "execution_count": 57,
   "id": "276fe1a7",
   "metadata": {},
   "outputs": [
    {
     "data": {
      "image/png": "[encoded data removed]",
      "text/plain": [
       "<Figure size 2160x720 with 1 Axes>"
      ]
     },
     "metadata": {},
     "output_type": "display_data"
    }
   ],
   "source": [
    "# figure()함수는 차트의 크기를 설정(x, y축 사이즈) \n",
    "plt.figure(figsize = (30, 10))\n",
    "# pie()함수에 첫 번째 인자로 수치값을 labels 옵션에 각 항목에 표시될 명칭이 될 값을,\n",
    "# autopct='%1.1f%%' 옵션(소수점 한자리까지 표시)을 통해 각 수치 값을 퍼센트로 표시\n",
    "plt.pie(pivot_df['subscriber_sum'], labels=pivot_df['category'], autopct='%1.1f%%')\n",
    "plt.show()"
   ]
  },
  {
   "cell_type": "code",
   "execution_count": 58,
   "id": "9eef7fb1",
   "metadata": {},
   "outputs": [
    {
     "data": {
      "image/png": "[encoded data removed]",
      "text/plain": [
       "<Figure size 2160x720 with 1 Axes>"
      ]
     },
     "metadata": {},
     "output_type": "display_data"
    }
   ],
   "source": [
    "pivot_df = pivot_df.sort_values(by='category_count', ascending=False)\n",
    "pivot_df.head()\n",
    "plt.figure(figsize = (30,10))\n",
    "plt.pie(pivot_df['category_count'], labels=pivot_df['category'], autopct='%1.1f%%')\n",
    "plt.show()"
   ]
  },
  {
   "cell_type": "code",
   "execution_count": null,
   "id": "2bc76e1c",
   "metadata": {},
   "outputs": [],
   "source": []
  }
 ],
 "metadata": {
  "kernelspec": {
   "display_name": "Python 3 (ipykernel)",
   "language": "python",
   "name": "python3"
  },
  "language_info": {
   "codemirror_mode": {
    "name": "ipython",
    "version": 3
   },
   "file_extension": ".py",
   "mimetype": "text/x-python",
   "name": "python",
   "nbconvert_exporter": "python",
   "pygments_lexer": "ipython3",
   "version": "3.9.7"
  }
 },
 "nbformat": 4,
 "nbformat_minor": 5
}
