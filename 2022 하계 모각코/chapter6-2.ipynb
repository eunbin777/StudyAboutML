{
 "cells": [
  {
   "cell_type": "code",
   "execution_count": 1,
   "metadata": {},
   "outputs": [],
   "source": [
    "## 서울열린데이터 광장의 OPEN API를 활용한 공공데이터 수집\n",
    "# 서울열린데이터 광장 OPEN API에서는 사용자가 요청하는 조건들을 URL주소에 포함해야 함\n",
    "# http://openapi.seoul.go.kr:8088/{KEY}/{TYPE}/{SERVICE}/{START_INDEX}/{END_INDEX}/{OBJECTID}\n",
    "import requests # OPEN API 호출을 위함\n",
    "import pandas as pd"
   ]
  }
 ],
 "metadata": {
  "kernelspec": {
   "display_name": "Python 3.9.7 ('base')",
   "language": "python",
   "name": "python3"
  },
  "language_info": {
   "codemirror_mode": {
    "name": "ipython",
    "version": 3
   },
   "file_extension": ".py",
   "mimetype": "text/x-python",
   "name": "python",
   "nbconvert_exporter": "python",
   "pygments_lexer": "ipython3",
   "version": "3.9.7"
  },
  "orig_nbformat": 4,
  "vscode": {
   "interpreter": {
    "hash": "1ddd09a61b2c7e17c2a62d168de822f4c67e18302d8919811a53cdcb291e5f9a"
   }
  }
 },
 "nbformat": 4,
 "nbformat_minor": 2
}
