{
 "cells": [
  {
   "cell_type": "code",
   "execution_count": 1,
   "metadata": {},
   "outputs": [
    {
     "name": "stdout",
     "output_type": "stream",
     "text": [
      "\n"
     ]
    },
    {
     "name": "stderr",
     "output_type": "stream",
     "text": [
      "[WDM] - ====== WebDriver manager ======\n",
      "[WDM] - Current google-chrome version is 104.0.5112\n",
      "[WDM] - Get LATEST chromedriver version for 104.0.5112 google-chrome\n",
      "[WDM] - About to download new driver from https://chromedriver.storage.googleapis.com/104.0.5112.79/chromedriver_win32.zip\n",
      "[WDM] - Driver has been saved in cache [C:\\Users\\keb20\\.wdm\\drivers\\chromedriver\\win32\\104.0.5112.79]\n"
     ]
    }
   ],
   "source": [
    "from selenium import webdriver\n",
    "from selenium.webdriver.common.by import By\n",
    "from selenium.webdriver.chrome.service import Service\n",
    "from webdriver_manager.chrome import ChromeDriverManager\n",
    "driver = webdriver.Chrome(service=Service(ChromeDriverManager().install()))"
   ]
  },
  {
   "cell_type": "code",
   "execution_count": 2,
   "metadata": {},
   "outputs": [],
   "source": [
    "import time\n",
    "# 인스타그램 접속하기\n",
    "driver.get('https://www.instagram.com')\n",
    "time.sleep(2)"
   ]
  },
  {
   "cell_type": "code",
   "execution_count": 3,
   "metadata": {},
   "outputs": [],
   "source": [
    "email = '<인스타그램 계정>' ### 계정 정보 수정 필요\n",
    "input_id = driver.find_elements(By.CSS_SELECTOR,'input._2hvTZ.pexuQ.zyHYP')[0]\n",
    "input_id.clear()\n",
    "input_id.send_keys(email)\n",
    "\n",
    "password = '<인스타그램 비밀번호>' ### 비밀번호 정보 수정 필요\n",
    "input_pw = driver.find_elements(By.CSS_SELECTOR,'input._2hvTZ.pexuQ.zyHYP')[1]\n",
    "input_pw.clear()\n",
    "input_pw.send_keys(password)\n",
    "input_pw.submit()\n",
    "time.sleep(3)"
   ]
  },
  {
   "cell_type": "code",
   "execution_count": 4,
   "metadata": {},
   "outputs": [],
   "source": [
    "def insta_searching(word):\n",
    "    url = 'https://www.instagram.com/explore/tags/' + word\n",
    "    return url"
   ]
  },
  {
   "cell_type": "code",
   "execution_count": 5,
   "metadata": {},
   "outputs": [],
   "source": [
    "word = '제주도맛집'\n",
    "url = insta_searching(word)\n",
    "driver.get(url)\n",
    "time.sleep(3)"
   ]
  },
  {
   "cell_type": "code",
   "execution_count": 6,
   "metadata": {},
   "outputs": [],
   "source": [
    "def select_first(driver):\n",
    "    first = driver.find_element(By.CSS_SELECTOR, 'div._aagw')\n",
    "    first.click()\n",
    "    time.sleep(3)\n"
   ]
  },
  {
   "cell_type": "code",
   "execution_count": 7,
   "metadata": {},
   "outputs": [],
   "source": [
    "import re\n",
    "from bs4 import BeautifulSoup\n",
    "import unicodedata\n",
    "\n",
    "def get_content(driver):\n",
    "    # 현재 페이지의 html정보 가져오기\n",
    "    html = driver.page_source\n",
    "    soup = BeautifulSoup(html, 'lxml')\n",
    "\n",
    "    # 본문 내용 가져오기\n",
    "    try:\n",
    "        content = soup.select('div._a9zs > span')[0].text\n",
    "        content = unicodedata.normalize('NFC', content)\n",
    "    except:\n",
    "        content = ''\n",
    "\n",
    "    # 본문 내용에서 해시태그 가져오기(정규식 활용)\n",
    "    tags = re.findall(r'#[^\\s#,\\\\]+', content)\n",
    "\n",
    "    # 작성일자 정보 가져오기\n",
    "    date = soup.select('time._aaqe')[0]['datetime'][:10]\n",
    "\n",
    "    # 좋아요 수 가져오기\n",
    "    try:\n",
    "        like = soup.select('div._aada > span')[0].text\n",
    "    except:\n",
    "        like = 0\n",
    "\n",
    "    # 위치 정보 가져오기\n",
    "    try:\n",
    "        place = soup.select('div._aaqm > div > a')[0].text\n",
    "        place = unicodedata.normalize('NFC', place)\n",
    "    except:\n",
    "        place = ''\n",
    "\n",
    "    # 수집한 정보 저장하기\n",
    "    data = [content, date, like, place, tags]\n",
    "    return data\n"
   ]
  },
  {
   "cell_type": "code",
   "execution_count": 8,
   "metadata": {},
   "outputs": [],
   "source": [
    "def move_next(driver):\n",
    "    right = driver.find_element(By.CSS_SELECTOR, 'div._aaqg > button')\n",
    "    right.click()\n",
    "    time.sleep(3)"
   ]
  },
  {
   "cell_type": "code",
   "execution_count": 9,
   "metadata": {},
   "outputs": [
    {
     "name": "stdout",
     "output_type": "stream",
     "text": [
      "[['제주섬에서 또 다른 마을이에요. 약간은 미국 어느한 동네가 생각날 정도로 너무 이국적인 분위기가 물씬 나는게 특징이에요.제주#후프바베큐바다뷰를 두눈에 담을 수 있어요. 제주도 먹는 바베큐는 마치. 미국에서 먹는 듯한 무드를 가져다줘요. 외,내관은 전부 낡은 느낌의 통나무 인테리어로 꾸며졌어요. 장작 48시간을 훈연해 만든 바베큐는 어떤 맛일까.상상만 해도 행복지수가 가득 올라가요. 훈연한 바베큐에서 느껴지는 훈연향이 깊게 베어들어가 잡내도 잡아주며 향도 부담없이 느끼게 해줘요.플래터 주문은 당연해요. 구성이 알차고 푸짐한게 후회없는 한끼 식사로 너무 적합했어요. 스퀘어립,비프립,폴드포크뿐 만 아니라 다양한 바베큐 종류들의 아삭한 식감을 더 해줄 야채들까지 준비돼 있어요. 사이드까지 너무 푸짐해 여러 사람들이 가서 먹어도 양으로 전혀 부족하지 않아, 강추하고 싶어요. 제주도에서 흔히 즐기는 흑돼지 말고 후프바베큐에서 색다른 바베큐들을 즐겨보세요. 📍애월리 2519-7📍매일 12:00~22:0015:00~17:00 브레이크타임14:30,21:30 라스트오더 #푸드빈스_제주', '2022-08-31', '211', '제주도맛집', ['#후프바베큐바다뷰를', '#푸드빈스_제주']], ['📍듬삭한 제주도 여행오면 오션뷰 찾는 분들 많잖아요? 생각 없이 들어갔다가 너무 맛있어서 놀란 덮밥 집이에요👍🏻 늦은 점심을 했던지라 배가 많이 고프진 않았는데 한 입 먹고 너무 맛있어서 증말 한그릇  뚝딱하고 왔어요. 대창덮밥, 고등어덮밥, 매콤불고기덮밥 3가지만 파는데 결정장애 있으신 분들 결정하기도 쉬우면서 1인 정식으로 나와서 혼밥하기에도 너무 좋은 곳이었어요. 평소 곱창, 막창은 좋아하지만 대창은 완전 기름덩어리라고 해서 약간의 거부감이 있었는데 듬삭한에서 먹은 대창은 달달한 빨간 소스에 숯불로 익혔는 지 불향이 살짝 나면서 대창의 쫄깃함과 말캉함 덕분에 전혀 거부감 없이 정말 흡입하면서 먹고 왔어요🐷여기는 먹는 방법이 따로 있는데 먼저 위에 올려진 재료를 같이 주신 접시에 덜어 놓고 독제 간장을 뿌려 놓은 밥을 잘 비비신 후 덜어 놓은 재료와 함께 드시면 된다고 해요. 처음에 그릇만 봤을 땐 왜 이렇게 양이 적어? 할 수도 있지만 재료를 다 덜고 밥의 양을 보시면 전혀 적다고 느껴지지 않으실 거에요(대식가 제외).먹다가 대창 특유의 기름짐 때문에 느끼하다 느껴지실 땐 구운 땡초 한입과 함께 먹으면 느끼함도 사라지고 매콤한 맛으로 입맛이 더 살아나는 걸 느끼실 수 있으시답니다. 대창덮밥이 제일 유명하다고 하는데 다른 메뉴들도 맛이 좋다는 평이 많고 고등어덮밥이 제일 맛있다 하시는 분들도 계셔서 취향에 맞게 선택하시면 될 듯 싶어요! 저희가 갔을 땐 해가 막 지기 시작한 시간이었는데 노을을 바라보며 먹으니 노을에 취해 식사가 더 맛있게 느껴지기도 했어요.재방문 의사 100% ◾️대창덮밥(15.0)◽️◾️제주 제주시 한림읍 한림로 450◾️10:30 - 19:30 매주 화요일 휴무◾️18:30 라스트 오더◾️0507-1330-3765  ----------------------- 👉🏻유튜브 [핫둘제주]👉🏻핫둘제주 네이버 커뮤니티 카페 🔻🔻🔻https://cafe.naver.com/hot2jeju/카페 검색 [핫둘제주] ------------------------  #듬삭한 #제주도맛집 #제주서쪽맛집 #제주맛집 #제주맛집추천 #협재맛집 #협재해수욕장맛집 #제주도덮밥 #대창덮밥 #고등어덮밥 #불고기덮밥 #제주도오션뷰 #제주오션뷰맛집 #노을뷰맛집 #한림맛집 #한림맛집추천 #제주도혼밥 #제주도혼밥하기좋은곳 #제주혼밥 #제주혼밥맛집 #제주도데이트', '2022-08-31', '82', '', ['#듬삭한', '#제주도맛집', '#제주서쪽맛집', '#제주맛집', '#제주맛집추천', '#협재맛집', '#협재해수욕장맛집', '#제주도덮밥', '#대창덮밥', '#고등어덮밥', '#불고기덮밥', '#제주도오션뷰', '#제주오션뷰맛집', '#노을뷰맛집', '#한림맛집', '#한림맛집추천', '#제주도혼밥', '#제주도혼밥하기좋은곳', '#제주혼밥', '#제주혼밥맛집', '#제주도데이트']]]\n"
     ]
    }
   ],
   "source": [
    "select_first(driver)\n",
    "\n",
    "# 비어있는 변수(results)만들기\n",
    "results = [ ]\n",
    "\n",
    "\n",
    "# 여러 게시물 수집하기\n",
    "target = 500    # 크롤링할 게시글 수\n",
    "for i in range(target):\n",
    "    # 게시글 수집에 오류 발생시(네트워크 문제 등의 이유로)  2초 대기 후, 다음 게시글로 넘어가도록 try, except 구문 활용\n",
    "    try:\n",
    "        data = get_content(driver)    # 게시글 정보 가져오기\n",
    "        results.append(data)\n",
    "        move_next(driver)\n",
    "    except:\n",
    "        time.sleep(2)\n",
    "        move_next(driver)\n",
    "\n",
    "print(results[:2])"
   ]
  },
  {
   "cell_type": "code",
   "execution_count": 10,
   "metadata": {},
   "outputs": [],
   "source": [
    "import pandas as pd\n",
    "\n",
    "results_df = pd.DataFrame(results)\n",
    "results_df.columns = ['content', 'data', 'like', 'place', 'tags']\n",
    "results_df.to_excel('../2022 하계 모각코 자료/5_Jeju_Hotplace/files/1_crawling_jejudoMatJip.xlsx', index=False)"
   ]
  },
  {
   "cell_type": "code",
   "execution_count": 11,
   "metadata": {},
   "outputs": [],
   "source": [
    "import pandas as pd"
   ]
  },
  {
   "cell_type": "code",
   "execution_count": 12,
   "metadata": {},
   "outputs": [],
   "source": [
    "jeju_insta_df = pd.DataFrame( [ ] )\n",
    "\n",
    "folder = '../2022 하계 모각코 자료/5_Jeju_Hotplace/files/'\n",
    "\n",
    "f_list = ['1_crawling_jejudoMatJip.xlsx',\n",
    "            '1_crawling_jejuGwanGwang.xlsx',\n",
    "            '1_crawling_jejuMatJip.xlsx',\n",
    "            '1_crawling_jejuYeoHang.xlsx']\n",
    "\n",
    "for fname in f_list :\n",
    "    fpath = folder + fname\n",
    "    temp = pd.read_excel(fpath)\n",
    "    jeju_insta_df = jeju_insta_df.append(temp)\n",
    "\n",
    "\n",
    "jeju_insta_df.columns = ['content', 'data', 'like', 'place', 'tags']"
   ]
  },
  {
   "cell_type": "code",
   "execution_count": 13,
   "metadata": {},
   "outputs": [],
   "source": [
    "jeju_insta_df.drop_duplicates(subset = ['content'], inplace = True)\n",
    "jeju_insta_df.to_excel('../2022 하계 모각코 자료/5_Jeju_Hotplace/files/1_crawling_raw.xlsx', index = False)"
   ]
  }
 ],
 "metadata": {
  "kernelspec": {
   "display_name": "Python 3.9.7 ('base')",
   "language": "python",
   "name": "python3"
  },
  "language_info": {
   "codemirror_mode": {
    "name": "ipython",
    "version": 3
   },
   "file_extension": ".py",
   "mimetype": "text/x-python",
   "name": "python",
   "nbconvert_exporter": "python",
   "pygments_lexer": "ipython3",
   "version": "3.9.7"
  },
  "orig_nbformat": 4,
  "vscode": {
   "interpreter": {
    "hash": "1ddd09a61b2c7e17c2a62d168de822f4c67e18302d8919811a53cdcb291e5f9a"
   }
  }
 },
 "nbformat": 4,
 "nbformat_minor": 2
}
