{
 "cells": [
  {
   "cell_type": "code",
   "execution_count": 3,
   "id": "4a291e7b",
   "metadata": {},
   "outputs": [
    {
     "ename": "SyntaxError",
     "evalue": "(unicode error) 'unicodeescape' codec can't decode bytes in position 2-3: truncated \\UXXXXXXXX escape (Temp/ipykernel_13832/2671695586.py, line 2)",
     "output_type": "error",
     "traceback": [
      "\u001b[1;36m  File \u001b[1;32m\"C:\\Users\\keb20\\AppData\\Local\\Temp/ipykernel_13832/2671695586.py\"\u001b[1;36m, line \u001b[1;32m2\u001b[0m\n\u001b[1;33m    sample_1 = pd.read_excel('C:\\Users\\keb20\\Downloads\\datasalon-master\\datasalon-master\\02_개정판\\2_Data_Analysis_Basic/files/sample_1.xlsx', # 엑셀 파일의 경로\u001b[0m\n\u001b[1;37m                                                                                                                                          ^\u001b[0m\n\u001b[1;31mSyntaxError\u001b[0m\u001b[1;31m:\u001b[0m (unicode error) 'unicodeescape' codec can't decode bytes in position 2-3: truncated \\UXXXXXXXX escape\n"
     ]
    }
   ],
   "source": [
    "import pandas as pd\n",
    "sample_1 = pd.read_excel('C:\\Users\\keb20\\Downloads\\datasalon-master\\datasalon-master\\02_개정판\\2_Data_Analysis_Basic/files/sample_1.xlsx', # 엑셀 파일의 경로 \n",
    "\t\t\t\t\t\t\t\t\t\t\t\t\theader = 1, #칼럼명이 있는 위치(0부터 시작임)\n",
    "\t\t\t\t\t\t\t\t\t\t\t\t\tskipfooter = 2, # 마지막 로우에서 두 줄을 생략\n",
    "\t\t\t\t\t\t\t\t\t\t\t\t\tusecols = 'A:C') # A 칼럼부터 C 칼럼까지\n",
    "sample_1.head(3)"
   ]
  },
  {
   "cell_type": "code",
   "execution_count": null,
   "id": "6c774d48",
   "metadata": {},
   "outputs": [],
   "source": []
  }
 ],
 "metadata": {
  "kernelspec": {
   "display_name": "Python 3 (ipykernel)",
   "language": "python",
   "name": "python3"
  },
  "language_info": {
   "codemirror_mode": {
    "name": "ipython",
    "version": 3
   },
   "file_extension": ".py",
   "mimetype": "text/x-python",
   "name": "python",
   "nbconvert_exporter": "python",
   "pygments_lexer": "ipython3",
   "version": "3.9.7"
  }
 },
 "nbformat": 4,
 "nbformat_minor": 5
}
