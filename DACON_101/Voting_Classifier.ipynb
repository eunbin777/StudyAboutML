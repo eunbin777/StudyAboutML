{
  "nbformat": 4,
  "nbformat_minor": 0,
  "metadata": {
    "colab": {
      "provenance": [],
      "collapsed_sections": [
        "gU02qWuqR24f",
        "KJVABGt5SfYg",
        "_05EetCjSvoe",
        "_h_W13Lc-p82"
      ]
    },
    "kernelspec": {
      "name": "python3",
      "display_name": "Python 3"
    },
    "language_info": {
      "name": "python"
    }
  },
  "cells": [
    {
      "cell_type": "code",
      "metadata": {
        "id": "GVPJmIjs82WW",
        "outputId": "9a13cb17-3ff1-4687-a367-d7d71a2484be",
        "colab": {
          "base_uri": "https://localhost:8080/"
        }
      },
      "source": [
        "# 데이터 다운로드 링크로 데이터를 코랩에 불러옵니다.\n",
        "\n",
        "!wget 'https://bit.ly/3i4n1QB'\n",
        "\n",
        "import zipfile\n",
        "with zipfile.ZipFile('3i4n1QB', 'r') as existing_zip:\n",
        "    existing_zip.extractall('data')"
      ],
      "execution_count": 1,
      "outputs": [
        {
          "output_type": "stream",
          "name": "stdout",
          "text": [
            "--2022-11-21 10:21:53--  https://bit.ly/3i4n1QB\n",
            "Resolving bit.ly (bit.ly)... 67.199.248.11, 67.199.248.10\n",
            "Connecting to bit.ly (bit.ly)|67.199.248.11|:443... connected.\n",
            "HTTP request sent, awaiting response... 301 Moved Permanently\n",
            "Location: https://drive.google.com/uc?export=download&id=1emLrrpFWT8dCoj5BJb12-5QMG2-nruUw [following]\n",
            "--2022-11-21 10:21:53--  https://drive.google.com/uc?export=download&id=1emLrrpFWT8dCoj5BJb12-5QMG2-nruUw\n",
            "Resolving drive.google.com (drive.google.com)... 173.194.214.102, 173.194.214.101, 173.194.214.100, ...\n",
            "Connecting to drive.google.com (drive.google.com)|173.194.214.102|:443... connected.\n",
            "HTTP request sent, awaiting response... 303 See Other\n",
            "Location: https://doc-10-10-docs.googleusercontent.com/docs/securesc/ha0ro937gcuc7l7deffksulhg5h7mbp1/1pl34r0p1iqlsqti6empkvkibbkl409n/1669026075000/17946651057176172524/*/1emLrrpFWT8dCoj5BJb12-5QMG2-nruUw?e=download&uuid=2c31942b-1a66-4710-a7c2-012987379ef5 [following]\n",
            "Warning: wildcards not supported in HTTP.\n",
            "--2022-11-21 10:21:54--  https://doc-10-10-docs.googleusercontent.com/docs/securesc/ha0ro937gcuc7l7deffksulhg5h7mbp1/1pl34r0p1iqlsqti6empkvkibbkl409n/1669026075000/17946651057176172524/*/1emLrrpFWT8dCoj5BJb12-5QMG2-nruUw?e=download&uuid=2c31942b-1a66-4710-a7c2-012987379ef5\n",
            "Resolving doc-10-10-docs.googleusercontent.com (doc-10-10-docs.googleusercontent.com)... 74.125.31.132, 2607:f8b0:400c:c02::84\n",
            "Connecting to doc-10-10-docs.googleusercontent.com (doc-10-10-docs.googleusercontent.com)|74.125.31.132|:443... connected.\n",
            "HTTP request sent, awaiting response... 200 OK\n",
            "Length: 137694 (134K) [application/zip]\n",
            "Saving to: ‘3i4n1QB’\n",
            "\n",
            "3i4n1QB             100%[===================>] 134.47K  --.-KB/s    in 0.001s  \n",
            "\n",
            "2022-11-21 10:21:54 (126 MB/s) - ‘3i4n1QB’ saved [137694/137694]\n",
            "\n"
          ]
        }
      ]
    },
    {
      "cell_type": "code",
      "metadata": {
        "id": "GqVbFVMCGJzT",
        "outputId": "2f498f51-35fb-4e76-e6b3-532220724c00",
        "colab": {
          "base_uri": "https://localhost:8080/",
          "height": 345
        }
      },
      "source": [
        "# 라이브러리 및 데이터 불러오기\n",
        "\n",
        "import pandas as pd\n",
        "from sklearn.preprocessing import MinMaxScaler, OneHotEncoder\n",
        "from lightgbm import LGBMClassifier\n",
        "from xgboost import XGBClassifier\n",
        "from sklearn.ensemble import RandomForestClassifier\n",
        "from sklearn.ensemble import VotingClassifier\n",
        "\n",
        "from sklearn.model_selection import KFold, train_test_split\n",
        "from sklearn.metrics import accuracy_score\n",
        "import numpy as np\n",
        "\n",
        "# 데이터를 불러와 학습시킬 준비하기\n",
        "\n",
        "train = pd.read_csv('data/train.csv')\n",
        "test = pd.read_csv('data/test.csv')\n",
        "\n",
        "# Scailing\n",
        "scaler = MinMaxScaler()\n",
        "scaler.fit(train[['fixed acidity']])\n",
        "train['Scaled fixed acidity'] = scaler.transform(train[['fixed acidity']])\n",
        "test['Scaled fixed acidity'] = scaler.transform(test[['fixed acidity']])\n",
        "\n",
        "# Encoding\n",
        "encoder = OneHotEncoder()\n",
        "encoder.fit(train[['type']])\n",
        "onehot = encoder.transform(train[['type']])\n",
        "onehot = onehot.toarray()\n",
        "onehot = pd.DataFrame(onehot)\n",
        "onehot.columns = encoder.get_feature_names()\n",
        "train = pd.concat([train, onehot], axis = 1)\n",
        "train = train.drop(columns = ['type'])\n",
        "\n",
        "onehot = encoder.transform(test[['type']])\n",
        "onehot = onehot.toarray()\n",
        "onehot = pd.DataFrame(onehot)\n",
        "onehot.columns = encoder.get_feature_names()\n",
        "test = pd.concat([test, onehot], axis = 1)\n",
        "test = test.drop(columns = ['type'])\n",
        "\n",
        "test.head()"
      ],
      "execution_count": 2,
      "outputs": [
        {
          "output_type": "stream",
          "name": "stderr",
          "text": [
            "/usr/local/lib/python3.7/dist-packages/sklearn/utils/deprecation.py:87: FutureWarning: Function get_feature_names is deprecated; get_feature_names is deprecated in 1.0 and will be removed in 1.2. Please use get_feature_names_out instead.\n",
            "  warnings.warn(msg, category=FutureWarning)\n",
            "/usr/local/lib/python3.7/dist-packages/sklearn/utils/deprecation.py:87: FutureWarning: Function get_feature_names is deprecated; get_feature_names is deprecated in 1.0 and will be removed in 1.2. Please use get_feature_names_out instead.\n",
            "  warnings.warn(msg, category=FutureWarning)\n"
          ]
        },
        {
          "output_type": "execute_result",
          "data": {
            "text/plain": [
              "   index  fixed acidity  volatile acidity  citric acid  residual sugar  \\\n",
              "0      0            9.0              0.31         0.48             6.6   \n",
              "1      1           13.3              0.43         0.58             1.9   \n",
              "2      2            6.5              0.28         0.27             5.2   \n",
              "3      3            7.2              0.15         0.39             1.8   \n",
              "4      4            6.8              0.26         0.26             2.0   \n",
              "\n",
              "   chlorides  free sulfur dioxide  total sulfur dioxide  density    pH  \\\n",
              "0      0.043                 11.0                  73.0  0.99380  2.90   \n",
              "1      0.070                 15.0                  40.0  1.00040  3.06   \n",
              "2      0.040                 44.0                 179.0  0.99480  3.19   \n",
              "3      0.043                 21.0                 159.0  0.99480  3.52   \n",
              "4      0.019                 23.5                  72.0  0.99041  3.16   \n",
              "\n",
              "   sulphates  alcohol  Scaled fixed acidity  x0_red  x0_white  \n",
              "0       0.38     11.6              0.429752     0.0       1.0  \n",
              "1       0.49      9.0              0.785124     1.0       0.0  \n",
              "2       0.69      9.4              0.223140     0.0       1.0  \n",
              "3       0.47     10.0              0.280992     0.0       1.0  \n",
              "4       0.47     11.8              0.247934     0.0       1.0  "
            ],
            "text/html": [
              "\n",
              "  <div id=\"df-d2b53565-244c-4903-8037-bdcab1875903\">\n",
              "    <div class=\"colab-df-container\">\n",
              "      <div>\n",
              "<style scoped>\n",
              "    .dataframe tbody tr th:only-of-type {\n",
              "        vertical-align: middle;\n",
              "    }\n",
              "\n",
              "    .dataframe tbody tr th {\n",
              "        vertical-align: top;\n",
              "    }\n",
              "\n",
              "    .dataframe thead th {\n",
              "        text-align: right;\n",
              "    }\n",
              "</style>\n",
              "<table border=\"1\" class=\"dataframe\">\n",
              "  <thead>\n",
              "    <tr style=\"text-align: right;\">\n",
              "      <th></th>\n",
              "      <th>index</th>\n",
              "      <th>fixed acidity</th>\n",
              "      <th>volatile acidity</th>\n",
              "      <th>citric acid</th>\n",
              "      <th>residual sugar</th>\n",
              "      <th>chlorides</th>\n",
              "      <th>free sulfur dioxide</th>\n",
              "      <th>total sulfur dioxide</th>\n",
              "      <th>density</th>\n",
              "      <th>pH</th>\n",
              "      <th>sulphates</th>\n",
              "      <th>alcohol</th>\n",
              "      <th>Scaled fixed acidity</th>\n",
              "      <th>x0_red</th>\n",
              "      <th>x0_white</th>\n",
              "    </tr>\n",
              "  </thead>\n",
              "  <tbody>\n",
              "    <tr>\n",
              "      <th>0</th>\n",
              "      <td>0</td>\n",
              "      <td>9.0</td>\n",
              "      <td>0.31</td>\n",
              "      <td>0.48</td>\n",
              "      <td>6.6</td>\n",
              "      <td>0.043</td>\n",
              "      <td>11.0</td>\n",
              "      <td>73.0</td>\n",
              "      <td>0.99380</td>\n",
              "      <td>2.90</td>\n",
              "      <td>0.38</td>\n",
              "      <td>11.6</td>\n",
              "      <td>0.429752</td>\n",
              "      <td>0.0</td>\n",
              "      <td>1.0</td>\n",
              "    </tr>\n",
              "    <tr>\n",
              "      <th>1</th>\n",
              "      <td>1</td>\n",
              "      <td>13.3</td>\n",
              "      <td>0.43</td>\n",
              "      <td>0.58</td>\n",
              "      <td>1.9</td>\n",
              "      <td>0.070</td>\n",
              "      <td>15.0</td>\n",
              "      <td>40.0</td>\n",
              "      <td>1.00040</td>\n",
              "      <td>3.06</td>\n",
              "      <td>0.49</td>\n",
              "      <td>9.0</td>\n",
              "      <td>0.785124</td>\n",
              "      <td>1.0</td>\n",
              "      <td>0.0</td>\n",
              "    </tr>\n",
              "    <tr>\n",
              "      <th>2</th>\n",
              "      <td>2</td>\n",
              "      <td>6.5</td>\n",
              "      <td>0.28</td>\n",
              "      <td>0.27</td>\n",
              "      <td>5.2</td>\n",
              "      <td>0.040</td>\n",
              "      <td>44.0</td>\n",
              "      <td>179.0</td>\n",
              "      <td>0.99480</td>\n",
              "      <td>3.19</td>\n",
              "      <td>0.69</td>\n",
              "      <td>9.4</td>\n",
              "      <td>0.223140</td>\n",
              "      <td>0.0</td>\n",
              "      <td>1.0</td>\n",
              "    </tr>\n",
              "    <tr>\n",
              "      <th>3</th>\n",
              "      <td>3</td>\n",
              "      <td>7.2</td>\n",
              "      <td>0.15</td>\n",
              "      <td>0.39</td>\n",
              "      <td>1.8</td>\n",
              "      <td>0.043</td>\n",
              "      <td>21.0</td>\n",
              "      <td>159.0</td>\n",
              "      <td>0.99480</td>\n",
              "      <td>3.52</td>\n",
              "      <td>0.47</td>\n",
              "      <td>10.0</td>\n",
              "      <td>0.280992</td>\n",
              "      <td>0.0</td>\n",
              "      <td>1.0</td>\n",
              "    </tr>\n",
              "    <tr>\n",
              "      <th>4</th>\n",
              "      <td>4</td>\n",
              "      <td>6.8</td>\n",
              "      <td>0.26</td>\n",
              "      <td>0.26</td>\n",
              "      <td>2.0</td>\n",
              "      <td>0.019</td>\n",
              "      <td>23.5</td>\n",
              "      <td>72.0</td>\n",
              "      <td>0.99041</td>\n",
              "      <td>3.16</td>\n",
              "      <td>0.47</td>\n",
              "      <td>11.8</td>\n",
              "      <td>0.247934</td>\n",
              "      <td>0.0</td>\n",
              "      <td>1.0</td>\n",
              "    </tr>\n",
              "  </tbody>\n",
              "</table>\n",
              "</div>\n",
              "      <button class=\"colab-df-convert\" onclick=\"convertToInteractive('df-d2b53565-244c-4903-8037-bdcab1875903')\"\n",
              "              title=\"Convert this dataframe to an interactive table.\"\n",
              "              style=\"display:none;\">\n",
              "        \n",
              "  <svg xmlns=\"http://www.w3.org/2000/svg\" height=\"24px\"viewBox=\"0 0 24 24\"\n",
              "       width=\"24px\">\n",
              "    <path d=\"M0 0h24v24H0V0z\" fill=\"none\"/>\n",
              "    <path d=\"M18.56 5.44l.94 2.06.94-2.06 2.06-.94-2.06-.94-.94-2.06-.94 2.06-2.06.94zm-11 1L8.5 8.5l.94-2.06 2.06-.94-2.06-.94L8.5 2.5l-.94 2.06-2.06.94zm10 10l.94 2.06.94-2.06 2.06-.94-2.06-.94-.94-2.06-.94 2.06-2.06.94z\"/><path d=\"M17.41 7.96l-1.37-1.37c-.4-.4-.92-.59-1.43-.59-.52 0-1.04.2-1.43.59L10.3 9.45l-7.72 7.72c-.78.78-.78 2.05 0 2.83L4 21.41c.39.39.9.59 1.41.59.51 0 1.02-.2 1.41-.59l7.78-7.78 2.81-2.81c.8-.78.8-2.07 0-2.86zM5.41 20L4 18.59l7.72-7.72 1.47 1.35L5.41 20z\"/>\n",
              "  </svg>\n",
              "      </button>\n",
              "      \n",
              "  <style>\n",
              "    .colab-df-container {\n",
              "      display:flex;\n",
              "      flex-wrap:wrap;\n",
              "      gap: 12px;\n",
              "    }\n",
              "\n",
              "    .colab-df-convert {\n",
              "      background-color: #E8F0FE;\n",
              "      border: none;\n",
              "      border-radius: 50%;\n",
              "      cursor: pointer;\n",
              "      display: none;\n",
              "      fill: #1967D2;\n",
              "      height: 32px;\n",
              "      padding: 0 0 0 0;\n",
              "      width: 32px;\n",
              "    }\n",
              "\n",
              "    .colab-df-convert:hover {\n",
              "      background-color: #E2EBFA;\n",
              "      box-shadow: 0px 1px 2px rgba(60, 64, 67, 0.3), 0px 1px 3px 1px rgba(60, 64, 67, 0.15);\n",
              "      fill: #174EA6;\n",
              "    }\n",
              "\n",
              "    [theme=dark] .colab-df-convert {\n",
              "      background-color: #3B4455;\n",
              "      fill: #D2E3FC;\n",
              "    }\n",
              "\n",
              "    [theme=dark] .colab-df-convert:hover {\n",
              "      background-color: #434B5C;\n",
              "      box-shadow: 0px 1px 3px 1px rgba(0, 0, 0, 0.15);\n",
              "      filter: drop-shadow(0px 1px 2px rgba(0, 0, 0, 0.3));\n",
              "      fill: #FFFFFF;\n",
              "    }\n",
              "  </style>\n",
              "\n",
              "      <script>\n",
              "        const buttonEl =\n",
              "          document.querySelector('#df-d2b53565-244c-4903-8037-bdcab1875903 button.colab-df-convert');\n",
              "        buttonEl.style.display =\n",
              "          google.colab.kernel.accessAllowed ? 'block' : 'none';\n",
              "\n",
              "        async function convertToInteractive(key) {\n",
              "          const element = document.querySelector('#df-d2b53565-244c-4903-8037-bdcab1875903');\n",
              "          const dataTable =\n",
              "            await google.colab.kernel.invokeFunction('convertToInteractive',\n",
              "                                                     [key], {});\n",
              "          if (!dataTable) return;\n",
              "\n",
              "          const docLinkHtml = 'Like what you see? Visit the ' +\n",
              "            '<a target=\"_blank\" href=https://colab.research.google.com/notebooks/data_table.ipynb>data table notebook</a>'\n",
              "            + ' to learn more about interactive tables.';\n",
              "          element.innerHTML = '';\n",
              "          dataTable['output_type'] = 'display_data';\n",
              "          await google.colab.output.renderOutput(dataTable, element);\n",
              "          const docLink = document.createElement('div');\n",
              "          docLink.innerHTML = docLinkHtml;\n",
              "          element.appendChild(docLink);\n",
              "        }\n",
              "      </script>\n",
              "    </div>\n",
              "  </div>\n",
              "  "
            ]
          },
          "metadata": {},
          "execution_count": 2
        }
      ]
    },
    {
      "cell_type": "code",
      "metadata": {
        "id": "rWUuPtvUZ4zO",
        "colab": {
          "base_uri": "https://localhost:8080/"
        },
        "outputId": "4b56ee5d-4162-4c7a-823f-149a53597f5e"
      },
      "source": [
        "pip install bayesian-optimization"
      ],
      "execution_count": 3,
      "outputs": [
        {
          "output_type": "stream",
          "name": "stdout",
          "text": [
            "Looking in indexes: https://pypi.org/simple, https://us-python.pkg.dev/colab-wheels/public/simple/\n",
            "Collecting bayesian-optimization\n",
            "  Downloading bayesian_optimization-1.3.1-py3-none-any.whl (16 kB)\n",
            "Requirement already satisfied: scipy>=1.0.0 in /usr/local/lib/python3.7/dist-packages (from bayesian-optimization) (1.7.3)\n",
            "Requirement already satisfied: numpy>=1.9.0 in /usr/local/lib/python3.7/dist-packages (from bayesian-optimization) (1.21.6)\n",
            "Requirement already satisfied: scikit-learn>=0.18.0 in /usr/local/lib/python3.7/dist-packages (from bayesian-optimization) (1.0.2)\n",
            "Requirement already satisfied: threadpoolctl>=2.0.0 in /usr/local/lib/python3.7/dist-packages (from scikit-learn>=0.18.0->bayesian-optimization) (3.1.0)\n",
            "Requirement already satisfied: joblib>=0.11 in /usr/local/lib/python3.7/dist-packages (from scikit-learn>=0.18.0->bayesian-optimization) (1.2.0)\n",
            "Installing collected packages: bayesian-optimization\n",
            "Successfully installed bayesian-optimization-1.3.1\n"
          ]
        }
      ]
    },
    {
      "cell_type": "code",
      "metadata": {
        "id": "M5MhylK9Z7Ov"
      },
      "source": [
        "# Bayesian Optimization 불러오기\n",
        "from bayes_opt import BayesianOptimization"
      ],
      "execution_count": 4,
      "outputs": []
    },
    {
      "cell_type": "markdown",
      "metadata": {
        "id": "ZksEbPou52yW"
      },
      "source": [
        "## 👋 실습\n",
        "---\n",
        "실습 순서는 다음과 같습니다.\n",
        "1. Random forest 튜닝\n",
        "2. XGBoost 튜닝\n",
        "3. Light GBM 튜닝\n",
        "4. Voting Claasifier 생성\n",
        "5. Voting Claasifier 학습 및 예측.\n",
        "\n",
        "\n",
        "\n",
        "\n"
      ]
    },
    {
      "cell_type": "markdown",
      "metadata": {
        "id": "gU02qWuqR24f"
      },
      "source": [
        "### Random forest 튜닝\n"
      ]
    },
    {
      "cell_type": "code",
      "metadata": {
        "id": "41v3TTXtR2uh",
        "outputId": "ad80b2b2-dbbe-4a4f-e7eb-b1adff3ca2f6",
        "colab": {
          "base_uri": "https://localhost:8080/"
        }
      },
      "source": [
        "# X에 학습할 데이터를, y에 목표 변수를 저장해주세요\n",
        "X = train.drop(columns = ['index', 'quality'])\n",
        "y = train['quality']\n",
        "\n",
        "# 랜덤포레스트의 하이퍼 파라미터의 범위를 dictionary 형태로 지정해주세요\n",
        "## Key는 랜덤포레스트의 hyperparameter이름이고, value는 탐색할 범위 입니다.\n",
        "rf_parameter_bounds = {\n",
        "                      'max_depth' : (1,3), # 나무의 깊이\n",
        "                      'n_estimators' : (30,100),\n",
        "                      }\n",
        "\n",
        "# 1. 함수에 들어가는 인자 = 위에서 만든 함수의 key값들\n",
        "# 2. 함수 속 인자를 통해 받아와 새롭게 하이퍼파라미터 딕셔너리 생성\n",
        "# 3. 그 딕셔너리를 바탕으로 모델 생성\n",
        "# 4. train_test_split을 통해 데이터 train-valid 나누기\n",
        "# 5 .모델 학습\n",
        "# 6. 모델 성능 측정\n",
        "# 7. 모델의 점수 반환\n",
        "\n",
        "def rf_bo(max_depth, n_estimators):\n",
        "  rf_params = {\n",
        "              'max_depth' : int(round(max_depth)),\n",
        "               'n_estimators' : int(round(n_estimators)),      \n",
        "              }\n",
        "  rf = RandomForestClassifier(**rf_params)\n",
        "  X_train, X_valid, y_train, y_valid = train_test_split(X,y,test_size = 0.2, )\n",
        "  rf.fit(X_train,y_train)\n",
        "  score = accuracy_score(y_valid, rf.predict(X_valid))\n",
        "\n",
        "  return score\n",
        "\n",
        "# \"BO_rf\"라는 변수에 Bayesian Optmization을 저장해보세요\n",
        "BO_rf = BayesianOptimization(f = rf_bo, pbounds = rf_parameter_bounds,random_state = 0)\n",
        "\n",
        "# Bayesian Optimization을 실행해보세요\n",
        "BO_rf.maximize(init_points = 5, n_iter = 5)"
      ],
      "execution_count": 5,
      "outputs": [
        {
          "output_type": "stream",
          "name": "stdout",
          "text": [
            "|   iter    |  target   | max_depth | n_esti... |\n",
            "-------------------------------------------------\n",
            "| \u001b[0m1        \u001b[0m | \u001b[0m0.5055   \u001b[0m | \u001b[0m2.098    \u001b[0m | \u001b[0m80.06    \u001b[0m |\n",
            "| \u001b[0m2        \u001b[0m | \u001b[0m0.4991   \u001b[0m | \u001b[0m2.206    \u001b[0m | \u001b[0m68.14    \u001b[0m |\n",
            "| \u001b[95m3        \u001b[0m | \u001b[95m0.5391   \u001b[0m | \u001b[95m1.847    \u001b[0m | \u001b[95m75.21    \u001b[0m |\n",
            "| \u001b[0m4        \u001b[0m | \u001b[0m0.5373   \u001b[0m | \u001b[0m1.875    \u001b[0m | \u001b[0m92.42    \u001b[0m |\n",
            "| \u001b[0m5        \u001b[0m | \u001b[0m0.5236   \u001b[0m | \u001b[0m2.927    \u001b[0m | \u001b[0m56.84    \u001b[0m |\n",
            "| \u001b[0m6        \u001b[0m | \u001b[0m0.4682   \u001b[0m | \u001b[0m1.018    \u001b[0m | \u001b[0m48.01    \u001b[0m |\n",
            "| \u001b[0m7        \u001b[0m | \u001b[0m0.4509   \u001b[0m | \u001b[0m1.217    \u001b[0m | \u001b[0m66.52    \u001b[0m |\n",
            "| \u001b[95m8        \u001b[0m | \u001b[95m0.5427   \u001b[0m | \u001b[95m1.625    \u001b[0m | \u001b[95m76.33    \u001b[0m |\n",
            "| \u001b[0m9        \u001b[0m | \u001b[0m0.5227   \u001b[0m | \u001b[0m2.169    \u001b[0m | \u001b[0m95.06    \u001b[0m |\n",
            "| \u001b[0m10       \u001b[0m | \u001b[0m0.5291   \u001b[0m | \u001b[0m3.0      \u001b[0m | \u001b[0m89.75    \u001b[0m |\n",
            "=================================================\n"
          ]
        }
      ]
    },
    {
      "cell_type": "markdown",
      "metadata": {
        "id": "KJVABGt5SfYg"
      },
      "source": [
        "### XGBoost 튜닝"
      ]
    },
    {
      "cell_type": "code",
      "metadata": {
        "id": "8pWpHl1LdeEp",
        "outputId": "2b393e99-a5c8-4438-c793-0b734441d6b1",
        "colab": {
          "base_uri": "https://localhost:8080/"
        }
      },
      "source": [
        "# X에 학습할 데이터를, y에 목표 변수를 저장해주세요\n",
        "X = train.drop(columns = ['index', 'quality'])\n",
        "y = train['quality']\n",
        "\n",
        "# XGBoost의 하이퍼 파라미터의 범위를 dictionary 형태로 지정해주세요\n",
        "## Key는 XGBoost hyperparameter이름이고, value는 탐색할 범위 입니다.\n",
        "xgb_parameter_bounds = {\n",
        "                      'gamma' : (0,10),\n",
        "                      'max_depth' : (1,3), \n",
        "                      'subsample' : (0.5,1)\n",
        "                      }\n",
        "\n",
        "# 1. 함수에 들어가는 인자 = 위에서 만든 함수의 key값들\n",
        "# 2. 함수 속 인자를 통해 받아와 새롭게 하이퍼파라미터 딕셔너리 생성\n",
        "# 3. 그 딕셔너리를 바탕으로 모델 생성\n",
        "# 4. train_test_split을 통해 데이터 train-valid 나누기\n",
        "# 5 .모델 학습\n",
        "# 6. 모델 성능 측정\n",
        "# 7. 모델의 점수 반환\n",
        "\n",
        "def xgb_bo(gamma,max_depth, subsample):\n",
        "  xgb_params = {\n",
        "              'gamma' : int(round(gamma)),\n",
        "              'max_depth' : int(round(max_depth)),\n",
        "               'subsample' : int(round(subsample)),      \n",
        "              }\n",
        "  xgb = XGBClassifier(**xgb_params)\n",
        "  X_train, X_valid, y_train, y_valid = train_test_split(X,y,test_size = 0.2, )\n",
        "  xgb.fit(X_train,y_train)\n",
        "  score = accuracy_score(y_valid, xgb.predict(X_valid))\n",
        "  return score\n",
        "\n",
        "# \"BO_xgb\"라는 변수에 Bayesian Optmization을 저장해보세요\n",
        "BO_xgb = BayesianOptimization(f = xgb_bo, pbounds = xgb_parameter_bounds,random_state = 0)\n",
        "\n",
        "# Bayesian Optimization을 실행해보세요\n",
        "BO_xgb.maximize(init_points = 5, n_iter = 5)"
      ],
      "execution_count": 6,
      "outputs": [
        {
          "output_type": "stream",
          "name": "stdout",
          "text": [
            "|   iter    |  target   |   gamma   | max_depth | subsample |\n",
            "-------------------------------------------------------------\n",
            "| \u001b[0m1        \u001b[0m | \u001b[0m0.5309   \u001b[0m | \u001b[0m5.488    \u001b[0m | \u001b[0m2.43     \u001b[0m | \u001b[0m0.8014   \u001b[0m |\n",
            "| \u001b[95m2        \u001b[0m | \u001b[95m0.55     \u001b[0m | \u001b[95m5.449    \u001b[0m | \u001b[95m1.847    \u001b[0m | \u001b[95m0.8229   \u001b[0m |\n",
            "| \u001b[0m3        \u001b[0m | \u001b[0m0.5482   \u001b[0m | \u001b[0m4.376    \u001b[0m | \u001b[0m2.784    \u001b[0m | \u001b[0m0.9818   \u001b[0m |\n",
            "| \u001b[95m4        \u001b[0m | \u001b[95m0.5645   \u001b[0m | \u001b[95m3.834    \u001b[0m | \u001b[95m2.583    \u001b[0m | \u001b[95m0.7644   \u001b[0m |\n",
            "| \u001b[0m5        \u001b[0m | \u001b[0m0.5173   \u001b[0m | \u001b[0m5.68     \u001b[0m | \u001b[0m2.851    \u001b[0m | \u001b[0m0.5355   \u001b[0m |\n",
            "| \u001b[0m6        \u001b[0m | \u001b[0m0.54     \u001b[0m | \u001b[0m3.764    \u001b[0m | \u001b[0m1.604    \u001b[0m | \u001b[0m0.7628   \u001b[0m |\n",
            "| \u001b[0m7        \u001b[0m | \u001b[0m0.5336   \u001b[0m | \u001b[0m5.467    \u001b[0m | \u001b[0m1.834    \u001b[0m | \u001b[0m0.8117   \u001b[0m |\n",
            "| \u001b[0m8        \u001b[0m | \u001b[0m0.5491   \u001b[0m | \u001b[0m5.411    \u001b[0m | \u001b[0m2.106    \u001b[0m | \u001b[0m0.8663   \u001b[0m |\n",
            "| \u001b[0m9        \u001b[0m | \u001b[0m0.5482   \u001b[0m | \u001b[0m1.953    \u001b[0m | \u001b[0m1.551    \u001b[0m | \u001b[0m0.5432   \u001b[0m |\n",
            "| \u001b[0m10       \u001b[0m | \u001b[0m0.5264   \u001b[0m | \u001b[0m3.72     \u001b[0m | \u001b[0m1.231    \u001b[0m | \u001b[0m0.9286   \u001b[0m |\n",
            "=============================================================\n"
          ]
        }
      ]
    },
    {
      "cell_type": "markdown",
      "metadata": {
        "id": "_05EetCjSvoe"
      },
      "source": [
        "### LGBM 튜닝\n"
      ]
    },
    {
      "cell_type": "code",
      "source": [
        "# X에 학습할 데이터를, y에 목표 변수를 저장해주세요\n",
        "X = train.drop(columns = ['index', 'quality'])\n",
        "y = train['quality']\n",
        "\n",
        "# LGBM의 하이퍼 파라미터의 범위를 dictionary 형태로 지정해주세요\n",
        "## Key는 LGBM hyperparameter이름이고, value는 탐색할 범위 입니다.\n",
        "lgbm_parameter_bounds = {\n",
        "                      'n_estimators' : (30,100),\n",
        "                      'max_depth' : (1,3), # 나무의 깊이\n",
        "                      'subsample' : (0.5,1)\n",
        "                      }\n",
        "\n",
        "# 1. 함수에 들어가는 인자 = 위에서 만든 함수의 key값들\n",
        "# 2. 함수 속 인자를 통해 받아와 새롭게 하이퍼파라미터 딕셔너리 생성\n",
        "# 3. 그 딕셔너리를 바탕으로 모델 생성\n",
        "# 4. train_test_split을 통해 데이터 train-valid 나누기\n",
        "# 5 .모델 학습\n",
        "# 6. 모델 성능 측정\n",
        "# 7. 모델의 점수 반환\n",
        "def lgbm_bo(n_estimators,max_depth, subsample):\n",
        "  lgbm_params = {\n",
        "              'n_estimators' : int(round(n_estimators)),\n",
        "              'max_depth' : int(round(max_depth)),\n",
        "               'subsample' : int(round(subsample)),      \n",
        "              }\n",
        "  lgbm = LGBMClassifier(**lgbm_params)\n",
        "  X_train, X_valid, y_train, y_valid = train_test_split(X,y,test_size = 0.2, )\n",
        "  lgbm.fit(X_train,y_train)\n",
        "  score = accuracy_score(y_valid, lgbm.predict(X_valid))\n",
        "\n",
        "  return score\n",
        "\n",
        "# \"BO_lgbm\"라는 변수에 Bayesian Optmization을 저장해보세요\n",
        "BO_lgbm = BayesianOptimization(f = lgbm_bo, pbounds = lgbm_parameter_bounds,random_state = 0)\n",
        "\n",
        "# Bayesian Optimization을 실행해보세요\n",
        "BO_lgbm.maximize(init_points = 5, n_iter = 5)"
      ],
      "metadata": {
        "id": "KP_qd9fuuaB6",
        "outputId": "3e9fed4a-280d-4f7e-a258-0ed22e891a04",
        "colab": {
          "base_uri": "https://localhost:8080/"
        }
      },
      "execution_count": 16,
      "outputs": [
        {
          "output_type": "stream",
          "name": "stdout",
          "text": [
            "|   iter    |  target   | max_depth | n_esti... | subsample |\n",
            "-------------------------------------------------------------\n",
            "| \u001b[0m1        \u001b[0m | \u001b[0m0.5536   \u001b[0m | \u001b[0m2.098    \u001b[0m | \u001b[0m80.06    \u001b[0m | \u001b[0m0.8014   \u001b[0m |\n",
            "| \u001b[95m2        \u001b[0m | \u001b[95m0.5545   \u001b[0m | \u001b[95m2.09     \u001b[0m | \u001b[95m59.66    \u001b[0m | \u001b[95m0.8229   \u001b[0m |\n",
            "| \u001b[95m3        \u001b[0m | \u001b[95m0.5618   \u001b[0m | \u001b[95m1.875    \u001b[0m | \u001b[95m92.42    \u001b[0m | \u001b[95m0.9818   \u001b[0m |\n",
            "| \u001b[0m4        \u001b[0m | \u001b[0m0.5455   \u001b[0m | \u001b[0m1.767    \u001b[0m | \u001b[0m85.42    \u001b[0m | \u001b[0m0.7644   \u001b[0m |\n",
            "| \u001b[0m5        \u001b[0m | \u001b[0m0.5455   \u001b[0m | \u001b[0m2.136    \u001b[0m | \u001b[0m94.79    \u001b[0m | \u001b[0m0.5355   \u001b[0m |\n",
            "| \u001b[0m6        \u001b[0m | \u001b[0m0.5245   \u001b[0m | \u001b[0m2.338    \u001b[0m | \u001b[0m79.72    \u001b[0m | \u001b[0m0.9232   \u001b[0m |\n",
            "| \u001b[0m7        \u001b[0m | \u001b[0m0.5555   \u001b[0m | \u001b[0m1.461    \u001b[0m | \u001b[0m97.03    \u001b[0m | \u001b[0m0.6916   \u001b[0m |\n",
            "| \u001b[0m8        \u001b[0m | \u001b[0m0.5318   \u001b[0m | \u001b[0m2.082    \u001b[0m | \u001b[0m68.72    \u001b[0m | \u001b[0m0.8663   \u001b[0m |\n",
            "| \u001b[0m9        \u001b[0m | \u001b[0m0.5609   \u001b[0m | \u001b[0m1.391    \u001b[0m | \u001b[0m49.28    \u001b[0m | \u001b[0m0.5432   \u001b[0m |\n",
            "| \u001b[0m10       \u001b[0m | \u001b[0m0.5591   \u001b[0m | \u001b[0m1.744    \u001b[0m | \u001b[0m38.08    \u001b[0m | \u001b[0m0.9286   \u001b[0m |\n",
            "=============================================================\n"
          ]
        }
      ]
    },
    {
      "cell_type": "markdown",
      "metadata": {
        "id": "mF3qStQlS-G3"
      },
      "source": [
        "### Voting Classifier 생성\n"
      ]
    },
    {
      "cell_type": "code",
      "metadata": {
        "id": "tkfaG2k0TSxd"
      },
      "source": [
        "# 모델 정의 (튜닝된 파라미터로)\n",
        "LGBM = LGBMClassifier(max_depth = 2.09,n_estimators=60, subsample = 0.8229)\n",
        "XGB = XGBClassifier(gamma =  4.376, max_depth = 2.784, subsample = 0.9818)\n",
        "RF = RandomForestClassifier(max_depth = 3.0, n_estimators = 35.31)\n",
        "\n",
        "# VotingClassifier 정의\n",
        "VC = VotingClassifier(estimators=[('rf',RF),('xgb',XGB),('lgbm',LGBM)],voting = 'soft')"
      ],
      "execution_count": 17,
      "outputs": []
    }
  ]
}