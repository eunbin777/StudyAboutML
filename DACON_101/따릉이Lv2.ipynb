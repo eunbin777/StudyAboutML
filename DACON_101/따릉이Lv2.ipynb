{
 "cells": [
  {
   "cell_type": "code",
   "execution_count": 2,
   "metadata": {},
   "outputs": [],
   "source": [
    "import pandas as pd"
   ]
  },
  {
   "cell_type": "code",
   "execution_count": 3,
   "metadata": {},
   "outputs": [],
   "source": [
    "train = pd.read_csv('자료/따릉이 자료/train.csv') \n",
    "test = pd.read_csv('자료/따릉이 자료/test.csv')"
   ]
  },
  {
   "cell_type": "code",
   "execution_count": 4,
   "metadata": {},
   "outputs": [
    {
     "name": "stdout",
     "output_type": "stream",
     "text": [
      "id                          0\n",
      "hour                        0\n",
      "hour_bef_temperature        2\n",
      "hour_bef_precipitation      2\n",
      "hour_bef_windspeed          9\n",
      "hour_bef_humidity           2\n",
      "hour_bef_visibility         2\n",
      "hour_bef_ozone             76\n",
      "hour_bef_pm10              90\n",
      "hour_bef_pm2.5            117\n",
      "count                       0\n",
      "dtype: int64\n"
     ]
    }
   ],
   "source": [
    "print(train.isnull().sum())"
   ]
  },
  {
   "cell_type": "code",
   "execution_count": 11,
   "metadata": {},
   "outputs": [],
   "source": [
    "#각 피쳐의 평균 값\n",
    "#train.fillna({'hour_bef_temperature':int(train['hour_bef_temperature'].mean())}, inplace=True)\n",
    "#train.fillna({'hour_bef_precipitation':int(train['hour_bef_precipitation'].mean())}, inplace=True)\n",
    "#train.fillna({'hour_bef_windspeed':int(train['hour_bef_windspeed'].mean())}, inplace=True)\n",
    "#train.fillna({'hour_bef_humidity':int(train['hour_bef_humidity'].mean())}, inplace=True)\n",
    "#train.fillna({'hour_bef_visibility':int(train['hour_bef_visibility'].mean())}, inplace=True)\n",
    "#train.fillna({'hour_bef_ozone':int(train['hour_bef_ozone'].mean())}, inplace=True)\n",
    "#train.fillna({'hour_bef_pm10':int(train['hour_bef_pm10'].mean())}, inplace=True)\n",
    "#train.fillna({'hour_bef_pm2.5':int(train['hour_bef_pm2.5'].mean())}, inplace=True)\n",
    "\n",
    "#보간법\n",
    "train.interpolate(inplace=True)\n",
    "\n",
    "test.fillna(0, inplace=True)"
   ]
  },
  {
   "cell_type": "code",
   "execution_count": 12,
   "metadata": {},
   "outputs": [
    {
     "name": "stdout",
     "output_type": "stream",
     "text": [
      "id                        0\n",
      "hour                      0\n",
      "hour_bef_temperature      0\n",
      "hour_bef_precipitation    0\n",
      "hour_bef_windspeed        0\n",
      "hour_bef_humidity         0\n",
      "hour_bef_visibility       0\n",
      "hour_bef_ozone            0\n",
      "hour_bef_pm10             0\n",
      "hour_bef_pm2.5            0\n",
      "count                     0\n",
      "dtype: int64\n"
     ]
    }
   ],
   "source": [
    "print(train.isnull().sum())"
   ]
  },
  {
   "cell_type": "code",
   "execution_count": 13,
   "metadata": {},
   "outputs": [],
   "source": [
    "from sklearn.ensemble import RandomForestRegressor"
   ]
  },
  {
   "cell_type": "code",
   "execution_count": 14,
   "metadata": {},
   "outputs": [],
   "source": [
    "X_train = train.drop(['count'], axis=1)\n",
    "Y_train = train['count']"
   ]
  },
  {
   "cell_type": "code",
   "execution_count": 15,
   "metadata": {},
   "outputs": [
    {
     "data": {
      "text/plain": [
       "RandomForestRegressor()"
      ]
     },
     "execution_count": 15,
     "metadata": {},
     "output_type": "execute_result"
    }
   ],
   "source": [
    "model = RandomForestRegressor(criterion = 'mse')\n",
    "model.fit(X_train, Y_train) # 모델 학습"
   ]
  },
  {
   "cell_type": "code",
   "execution_count": 16,
   "metadata": {},
   "outputs": [
    {
     "data": {
      "text/plain": [
       "array([0.026382  , 0.58847361, 0.18252395, 0.01889838, 0.0251545 ,\n",
       "       0.0368244 , 0.03213779, 0.03575119, 0.03288406, 0.02097011])"
      ]
     },
     "execution_count": 16,
     "metadata": {},
     "output_type": "execute_result"
    }
   ],
   "source": [
    "# 변수의 중요도 파악 가능(예측 변수를 결정할 때 각 피쳐가 얼마나 중요한 역할을 하는지에 대한 척도)\n",
    "model.feature_importances_"
   ]
  },
  {
   "cell_type": "code",
   "execution_count": 17,
   "metadata": {},
   "outputs": [],
   "source": [
    "# X_train 에서 drop 할 피쳐의 경우에 수대로 3개의 X_train을 생성\n",
    "\n",
    "X_train_1 = train.drop(['count','id'], axis=1)\n",
    "X_train_2 = train.drop(['count', 'id', 'hour_bef_windspeed'], axis=1)\n",
    "X_train_3 = train.drop(['count', 'id', 'hour_bef_windspeed', 'hour_bef_pm2.5'], axis=1)\n",
    "\n",
    "# 각 train에 따라 동일하게 피쳐를 drop한 test셋들을 생성\n",
    "\n",
    "test_1 = test.drop(['id'], axis=1)\n",
    "test_2 = test.drop(['id', 'hour_bef_windspeed'], axis=1)\n",
    "test_3 = test.drop(['id', 'hour_bef_windspeed', 'hour_bef_pm2.5'], axis=1)"
   ]
  },
  {
   "cell_type": "code",
   "execution_count": 18,
   "metadata": {},
   "outputs": [
    {
     "data": {
      "text/plain": [
       "RandomForestRegressor()"
      ]
     },
     "execution_count": 18,
     "metadata": {},
     "output_type": "execute_result"
    }
   ],
   "source": [
    "# 각 X_train마다 모델 훈련\n",
    "\n",
    "model_input_var1 = RandomForestRegressor(criterion = 'mse')\n",
    "model_input_var1.fit(X_train_1, Y_train)\n",
    "\n",
    "model_input_var2 = RandomForestRegressor(criterion = 'mse')\n",
    "model_input_var2.fit(X_train_2, Y_train)\n",
    "\n",
    "model_input_var3 = RandomForestRegressor(criterion = 'mse')\n",
    "model_input_var3.fit(X_train_3, Y_train)"
   ]
  },
  {
   "cell_type": "code",
   "execution_count": 19,
   "metadata": {},
   "outputs": [],
   "source": [
    "# 각 모델로 test 셋 예측\n",
    "\n",
    "y_pred_1 = model_input_var1.predict(test_1)\n",
    "y_pred_2 = model_input_var2.predict(test_2)\n",
    "y_pred_3 = model_input_var3.predict(test_3)"
   ]
  },
  {
   "cell_type": "code",
   "execution_count": 20,
   "metadata": {},
   "outputs": [],
   "source": [
    "submission_1 = pd.read_csv('자료/따릉이 자료/submission.csv')\n",
    "submission_2 = pd.read_csv('자료/따릉이 자료/submission.csv')\n",
    "submission_3 = pd.read_csv('자료/따릉이 자료/submission.csv')\n",
    "\n",
    "submission_1['count'] = y_pred_1\n",
    "submission_2['count'] = y_pred_2\n",
    "submission_3['count'] = y_pred_3\n",
    "\n",
    "submission_1.to_csv('sub_1.csv',index=False)\n",
    "submission_2.to_csv('sub_2.csv',index=False)\n",
    "submission_3.to_csv('sub_3.csv',index=False)"
   ]
  }
 ],
 "metadata": {
  "kernelspec": {
   "display_name": "Python 3.9.7 ('base')",
   "language": "python",
   "name": "python3"
  },
  "language_info": {
   "codemirror_mode": {
    "name": "ipython",
    "version": 3
   },
   "file_extension": ".py",
   "mimetype": "text/x-python",
   "name": "python",
   "nbconvert_exporter": "python",
   "pygments_lexer": "ipython3",
   "version": "3.9.7"
  },
  "orig_nbformat": 4,
  "vscode": {
   "interpreter": {
    "hash": "1ddd09a61b2c7e17c2a62d168de822f4c67e18302d8919811a53cdcb291e5f9a"
   }
  }
 },
 "nbformat": 4,
 "nbformat_minor": 2
}
