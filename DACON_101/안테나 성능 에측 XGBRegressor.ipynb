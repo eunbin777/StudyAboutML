{
 "cells": [
  {
   "cell_type": "code",
   "execution_count": 2,
   "metadata": {},
   "outputs": [
    {
     "name": "stdout",
     "output_type": "stream",
     "text": [
      "Collecting xgboost\n",
      "  Downloading xgboost-1.6.2-py3-none-win_amd64.whl (125.4 MB)\n",
      "Requirement already satisfied: scipy in c:\\users\\keb20\\anaconda3\\lib\\site-packages (from xgboost) (1.7.1)\n",
      "Requirement already satisfied: numpy in c:\\users\\keb20\\anaconda3\\lib\\site-packages (from xgboost) (1.20.3)\n",
      "Installing collected packages: xgboost\n",
      "Successfully installed xgboost-1.6.2\n",
      "Note: you may need to restart the kernel to use updated packages.\n"
     ]
    }
   ],
   "source": [
    "pip install xgboost"
   ]
  },
  {
   "cell_type": "code",
   "execution_count": 3,
   "metadata": {},
   "outputs": [],
   "source": [
    "## Import\n",
    "import pandas as pd\n",
    "import random\n",
    "import os\n",
    "import numpy as np\n",
    "\n",
    "from sklearn.linear_model import LinearRegression\n",
    "from sklearn.multioutput import MultiOutputRegressor\n",
    "\n",
    "import matplotlib.pyplot as plt\n",
    "import xgboost as xgb"
   ]
  },
  {
   "cell_type": "code",
   "execution_count": 4,
   "metadata": {},
   "outputs": [],
   "source": [
    "def seed_everything(seed):\n",
    "    random.seed(seed)\n",
    "    os.environ['PYTHONHASHEED'] = str(seed)\n",
    "    np.random.seed(seed)\n",
    "\n",
    "seed_everything(42) # Seed 고정"
   ]
  },
  {
   "cell_type": "code",
   "execution_count": 6,
   "metadata": {},
   "outputs": [],
   "source": [
    "train_df = pd.read_csv('./자료/안테나 성능 예측 자료/train.csv')"
   ]
  },
  {
   "cell_type": "code",
   "execution_count": 7,
   "metadata": {},
   "outputs": [],
   "source": [
    "train_x = train_df.filter(regex = 'X')\n",
    "train_y = train_df.filter(regex = 'Y')"
   ]
  },
  {
   "cell_type": "code",
   "execution_count": 8,
   "metadata": {},
   "outputs": [
    {
     "name": "stdout",
     "output_type": "stream",
     "text": [
      "X_01    False\n",
      "X_02    False\n",
      "X_03    False\n",
      "X_04    False\n",
      "X_05    False\n",
      "X_06    False\n",
      "X_07    False\n",
      "X_08    False\n",
      "X_09    False\n",
      "X_10    False\n",
      "X_11    False\n",
      "X_12    False\n",
      "X_13    False\n",
      "X_14    False\n",
      "X_15    False\n",
      "X_16    False\n",
      "X_17    False\n",
      "X_18    False\n",
      "X_19    False\n",
      "X_20    False\n",
      "X_21    False\n",
      "X_22    False\n",
      "X_23    False\n",
      "X_24    False\n",
      "X_25    False\n",
      "X_26    False\n",
      "X_27    False\n",
      "X_28    False\n",
      "X_29    False\n",
      "X_30    False\n",
      "X_31    False\n",
      "X_32    False\n",
      "X_33    False\n",
      "X_34    False\n",
      "X_35    False\n",
      "X_36    False\n",
      "X_37    False\n",
      "X_38    False\n",
      "X_39    False\n",
      "X_40    False\n",
      "X_41    False\n",
      "X_42    False\n",
      "X_43    False\n",
      "X_44    False\n",
      "X_45    False\n",
      "X_46    False\n",
      "X_47    False\n",
      "X_48    False\n",
      "X_49    False\n",
      "X_50    False\n",
      "X_51    False\n",
      "X_52    False\n",
      "X_53    False\n",
      "X_54    False\n",
      "X_55    False\n",
      "X_56    False\n",
      "dtype: bool\n"
     ]
    }
   ],
   "source": [
    "print(train_x.isna().any())"
   ]
  },
  {
   "cell_type": "code",
   "execution_count": 9,
   "metadata": {},
   "outputs": [
    {
     "name": "stdout",
     "output_type": "stream",
     "text": [
      "Y_01    False\n",
      "Y_02    False\n",
      "Y_03    False\n",
      "Y_04    False\n",
      "Y_05    False\n",
      "Y_06    False\n",
      "Y_07    False\n",
      "Y_08    False\n",
      "Y_09    False\n",
      "Y_10    False\n",
      "Y_11    False\n",
      "Y_12    False\n",
      "Y_13    False\n",
      "Y_14    False\n",
      "dtype: bool\n"
     ]
    }
   ],
   "source": [
    "print(train_y.isna().any())"
   ]
  },
  {
   "cell_type": "code",
   "execution_count": 10,
   "metadata": {},
   "outputs": [
    {
     "name": "stdout",
     "output_type": "stream",
     "text": [
      "Done.\n"
     ]
    }
   ],
   "source": [
    "xgb = MultiOutputRegressor(xgb.XGBRegressor(n_estimators = 100, \n",
    "                                            learning_rate = 0.08, \n",
    "                                            gamma = 0, \n",
    "                                            subsample = 0.75,\n",
    "                                            colsample_bytree = 1,\n",
    "                                            max_depth=7 )).fit(train_x, train_y)\n",
    "print('Done.')                                            "
   ]
  },
  {
   "cell_type": "code",
   "execution_count": 11,
   "metadata": {},
   "outputs": [],
   "source": [
    "test_x = pd.read_csv('./자료/안테나 성능 예측 자료/test.csv').drop(columns = ['ID'])"
   ]
  },
  {
   "cell_type": "code",
   "execution_count": 12,
   "metadata": {},
   "outputs": [
    {
     "name": "stdout",
     "output_type": "stream",
     "text": [
      "Done.\n"
     ]
    }
   ],
   "source": [
    "preds = xgb.predict(test_x)\n",
    "print('Done.')"
   ]
  },
  {
   "cell_type": "code",
   "execution_count": 13,
   "metadata": {},
   "outputs": [],
   "source": [
    "submit = pd.read_csv('./자료/안테나 성능 예측 자료/sample_submission.csv')"
   ]
  },
  {
   "cell_type": "code",
   "execution_count": 14,
   "metadata": {},
   "outputs": [
    {
     "name": "stdout",
     "output_type": "stream",
     "text": [
      "Done.\n"
     ]
    }
   ],
   "source": [
    "for idx, col in enumerate(submit.columns):\n",
    "    if col == 'ID':\n",
    "        continue\n",
    "    submit[col] = preds[:,idx-1]\n",
    "\n",
    "print('Done.')"
   ]
  },
  {
   "cell_type": "code",
   "execution_count": 15,
   "metadata": {},
   "outputs": [],
   "source": [
    "submit.to_csv('./자료/안테나 성능 예측 자료/submit_xgb.csv', index = False)"
   ]
  }
 ],
 "metadata": {
  "kernelspec": {
   "display_name": "Python 3.9.7 ('base')",
   "language": "python",
   "name": "python3"
  },
  "language_info": {
   "codemirror_mode": {
    "name": "ipython",
    "version": 3
   },
   "file_extension": ".py",
   "mimetype": "text/x-python",
   "name": "python",
   "nbconvert_exporter": "python",
   "pygments_lexer": "ipython3",
   "version": "3.9.7"
  },
  "orig_nbformat": 4,
  "vscode": {
   "interpreter": {
    "hash": "1ddd09a61b2c7e17c2a62d168de822f4c67e18302d8919811a53cdcb291e5f9a"
   }
  }
 },
 "nbformat": 4,
 "nbformat_minor": 2
}
